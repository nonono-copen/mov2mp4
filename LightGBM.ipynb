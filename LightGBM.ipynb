{
  "nbformat": 4,
  "nbformat_minor": 0,
  "metadata": {
    "colab": {
      "provenance": [],
      "collapsed_sections": [],
      "authorship_tag": "ABX9TyPyuPo5yIDsFmjqZm3kjPQn",
      "include_colab_link": true
    },
    "kernelspec": {
      "name": "python3",
      "display_name": "Python 3"
    },
    "language_info": {
      "name": "python"
    }
  },
  "cells": [
    {
      "cell_type": "markdown",
      "metadata": {
        "id": "view-in-github",
        "colab_type": "text"
      },
      "source": [
        "<a href=\"https://colab.research.google.com/github/nonono-copen/mov2mp4/blob/main/LightGBM.ipynb\" target=\"_parent\"><img src=\"https://colab.research.google.com/assets/colab-badge.svg\" alt=\"Open In Colab\"/></a>"
      ]
    },
    {
      "cell_type": "code",
      "execution_count": null,
      "metadata": {
        "colab": {
          "base_uri": "https://localhost:8080/"
        },
        "id": "I_H4xXFnd0c4",
        "outputId": "46cd3538-b23c-4fec-b983-29de76216032"
      },
      "outputs": [
        {
          "output_type": "stream",
          "name": "stdout",
          "text": [
            "Drive already mounted at /content/drive; to attempt to forcibly remount, call drive.mount(\"/content/drive\", force_remount=True).\n",
            "/content/drive/ My Drive/signate/健診データによる肝疾患判定\n"
          ]
        }
      ],
      "source": [
        "from google.colab import drive\n",
        "drive.mount('/content/drive')\n",
        "%cd /content/drive/ 'My Drive'/signate/健診データによる肝疾患判定"
      ]
    },
    {
      "cell_type": "code",
      "source": [
        "# ライブラリのインストール\n",
        "!pip install optuna"
      ],
      "metadata": {
        "colab": {
          "base_uri": "https://localhost:8080/"
        },
        "id": "LxgZpgPvqofY",
        "outputId": "4edd85ee-95ef-4074-e33f-1cdefee12079"
      },
      "execution_count": null,
      "outputs": [
        {
          "output_type": "stream",
          "name": "stdout",
          "text": [
            "Looking in indexes: https://pypi.org/simple, https://us-python.pkg.dev/colab-wheels/public/simple/\n",
            "Requirement already satisfied: optuna in /usr/local/lib/python3.7/dist-packages (3.0.2)\n",
            "Requirement already satisfied: numpy in /usr/local/lib/python3.7/dist-packages (from optuna) (1.21.6)\n",
            "Requirement already satisfied: colorlog in /usr/local/lib/python3.7/dist-packages (from optuna) (6.7.0)\n",
            "Requirement already satisfied: alembic>=1.5.0 in /usr/local/lib/python3.7/dist-packages (from optuna) (1.8.1)\n",
            "Requirement already satisfied: cliff in /usr/local/lib/python3.7/dist-packages (from optuna) (3.10.1)\n",
            "Requirement already satisfied: packaging>=20.0 in /usr/local/lib/python3.7/dist-packages (from optuna) (21.3)\n",
            "Requirement already satisfied: sqlalchemy>=1.3.0 in /usr/local/lib/python3.7/dist-packages (from optuna) (1.4.41)\n",
            "Requirement already satisfied: tqdm in /usr/local/lib/python3.7/dist-packages (from optuna) (4.64.1)\n",
            "Requirement already satisfied: cmaes>=0.8.2 in /usr/local/lib/python3.7/dist-packages (from optuna) (0.8.2)\n",
            "Requirement already satisfied: scipy<1.9.0,>=1.7.0 in /usr/local/lib/python3.7/dist-packages (from optuna) (1.7.3)\n",
            "Requirement already satisfied: PyYAML in /usr/local/lib/python3.7/dist-packages (from optuna) (6.0)\n",
            "Requirement already satisfied: Mako in /usr/local/lib/python3.7/dist-packages (from alembic>=1.5.0->optuna) (1.2.3)\n",
            "Requirement already satisfied: importlib-resources in /usr/local/lib/python3.7/dist-packages (from alembic>=1.5.0->optuna) (5.9.0)\n",
            "Requirement already satisfied: importlib-metadata in /usr/local/lib/python3.7/dist-packages (from alembic>=1.5.0->optuna) (4.12.0)\n",
            "Requirement already satisfied: pyparsing!=3.0.5,>=2.0.2 in /usr/local/lib/python3.7/dist-packages (from packaging>=20.0->optuna) (3.0.9)\n",
            "Requirement already satisfied: greenlet!=0.4.17 in /usr/local/lib/python3.7/dist-packages (from sqlalchemy>=1.3.0->optuna) (1.1.3)\n",
            "Requirement already satisfied: stevedore>=2.0.1 in /usr/local/lib/python3.7/dist-packages (from cliff->optuna) (3.5.0)\n",
            "Requirement already satisfied: pbr!=2.1.0,>=2.0.0 in /usr/local/lib/python3.7/dist-packages (from cliff->optuna) (5.10.0)\n",
            "Requirement already satisfied: cmd2>=1.0.0 in /usr/local/lib/python3.7/dist-packages (from cliff->optuna) (2.4.2)\n",
            "Requirement already satisfied: autopage>=0.4.0 in /usr/local/lib/python3.7/dist-packages (from cliff->optuna) (0.5.1)\n",
            "Requirement already satisfied: PrettyTable>=0.7.2 in /usr/local/lib/python3.7/dist-packages (from cliff->optuna) (3.4.1)\n",
            "Requirement already satisfied: attrs>=16.3.0 in /usr/local/lib/python3.7/dist-packages (from cmd2>=1.0.0->cliff->optuna) (22.1.0)\n",
            "Requirement already satisfied: wcwidth>=0.1.7 in /usr/local/lib/python3.7/dist-packages (from cmd2>=1.0.0->cliff->optuna) (0.2.5)\n",
            "Requirement already satisfied: pyperclip>=1.6 in /usr/local/lib/python3.7/dist-packages (from cmd2>=1.0.0->cliff->optuna) (1.8.2)\n",
            "Requirement already satisfied: typing-extensions in /usr/local/lib/python3.7/dist-packages (from cmd2>=1.0.0->cliff->optuna) (4.1.1)\n",
            "Requirement already satisfied: zipp>=0.5 in /usr/local/lib/python3.7/dist-packages (from importlib-metadata->alembic>=1.5.0->optuna) (3.8.1)\n",
            "Requirement already satisfied: MarkupSafe>=0.9.2 in /usr/local/lib/python3.7/dist-packages (from Mako->alembic>=1.5.0->optuna) (2.0.1)\n"
          ]
        }
      ]
    },
    {
      "cell_type": "code",
      "source": [
        "\"\"\" 必要なライブラリをimport\"\"\"\n",
        "import argparse\n",
        "import operator\n",
        "import os\n",
        "import time\n",
        "from   collections import OrderedDict\n",
        "from   tqdm        import tqdm\n",
        "\n",
        "\n",
        "import torch\n",
        "import torch.nn                    as nn\n",
        "import torch.utils.data            as data\n",
        "from   torch.utils.data.dataloader import DataLoader\n",
        "import torchvision\n",
        "import torchvision.transforms as transforms\n",
        "\n",
        "import csv\n",
        "import numpy              as     np\n",
        "import pandas             as     pd\n",
        "import seaborn            as     sns   # データの傾向確認用\n",
        "from   sklearn               import preprocessing\n",
        "from   sklearn.preprocessing import OrdinalEncoder\n",
        "\n",
        "from   PIL                import Image\n",
        "from   pathlib            import Path\n",
        "from   matplotlib         import pyplot as plt\n",
        "# %matplotlib inline  # Jupyter Notebookでインライン表示する\n",
        "from   torch.autograd     import Variable\n",
        "from   IPython.display    import display\n",
        "from   torchvision.utils  import save_image # テスト用"
      ],
      "metadata": {
        "id": "CZCQxwd-LM1_"
      },
      "execution_count": null,
      "outputs": []
    },
    {
      "cell_type": "code",
      "source": [
        " # 学習用csvデータ確認\n",
        " df = pd.read_table('./dataset/train.csv', sep=',')\n",
        " df.columns = ['Age', 'Gender', 'T_Bil', 'D_Bil', 'ALP', 'ALT_GPT', 'AST_GOT', 'TP', 'Alb', 'AG_ratio', 'disease']\n",
        " df.head()"
      ],
      "metadata": {
        "colab": {
          "base_uri": "https://localhost:8080/",
          "height": 206
        },
        "id": "IeYtxpOKeXRR",
        "outputId": "ca657bb3-0078-45c8-e647-e9a77c6d46ad"
      },
      "execution_count": null,
      "outputs": [
        {
          "output_type": "execute_result",
          "data": {
            "text/plain": [
              "   Age  Gender     T_Bil     D_Bil         ALP    ALT_GPT     AST_GOT  \\\n",
              "0   59    Male  0.786886  0.150498  220.178691  13.467617   21.729246   \n",
              "1   69    Male  1.003987  0.195625  221.218413  51.033462   64.752323   \n",
              "2   65    Male  0.657140  0.081287  320.770533  12.625011   30.613180   \n",
              "3   65    Male  0.906822  0.214173  369.278160  34.347597   54.510085   \n",
              "4   22  Female  1.734959  0.197706  222.782025  20.572891  170.010177   \n",
              "\n",
              "         TP       Alb  AG_ratio  disease  \n",
              "0  6.815731  3.112276  1.006802        0  \n",
              "1  6.889608  3.051521  0.751346        1  \n",
              "2  5.947767  2.489167  0.774952        0  \n",
              "3  6.967183  3.613837  0.988155        1  \n",
              "4  5.837537  3.068697  1.026654        0  "
            ],
            "text/html": [
              "\n",
              "  <div id=\"df-7582ed3b-857c-4e7c-a20d-1486e6c1dfb1\">\n",
              "    <div class=\"colab-df-container\">\n",
              "      <div>\n",
              "<style scoped>\n",
              "    .dataframe tbody tr th:only-of-type {\n",
              "        vertical-align: middle;\n",
              "    }\n",
              "\n",
              "    .dataframe tbody tr th {\n",
              "        vertical-align: top;\n",
              "    }\n",
              "\n",
              "    .dataframe thead th {\n",
              "        text-align: right;\n",
              "    }\n",
              "</style>\n",
              "<table border=\"1\" class=\"dataframe\">\n",
              "  <thead>\n",
              "    <tr style=\"text-align: right;\">\n",
              "      <th></th>\n",
              "      <th>Age</th>\n",
              "      <th>Gender</th>\n",
              "      <th>T_Bil</th>\n",
              "      <th>D_Bil</th>\n",
              "      <th>ALP</th>\n",
              "      <th>ALT_GPT</th>\n",
              "      <th>AST_GOT</th>\n",
              "      <th>TP</th>\n",
              "      <th>Alb</th>\n",
              "      <th>AG_ratio</th>\n",
              "      <th>disease</th>\n",
              "    </tr>\n",
              "  </thead>\n",
              "  <tbody>\n",
              "    <tr>\n",
              "      <th>0</th>\n",
              "      <td>59</td>\n",
              "      <td>Male</td>\n",
              "      <td>0.786886</td>\n",
              "      <td>0.150498</td>\n",
              "      <td>220.178691</td>\n",
              "      <td>13.467617</td>\n",
              "      <td>21.729246</td>\n",
              "      <td>6.815731</td>\n",
              "      <td>3.112276</td>\n",
              "      <td>1.006802</td>\n",
              "      <td>0</td>\n",
              "    </tr>\n",
              "    <tr>\n",
              "      <th>1</th>\n",
              "      <td>69</td>\n",
              "      <td>Male</td>\n",
              "      <td>1.003987</td>\n",
              "      <td>0.195625</td>\n",
              "      <td>221.218413</td>\n",
              "      <td>51.033462</td>\n",
              "      <td>64.752323</td>\n",
              "      <td>6.889608</td>\n",
              "      <td>3.051521</td>\n",
              "      <td>0.751346</td>\n",
              "      <td>1</td>\n",
              "    </tr>\n",
              "    <tr>\n",
              "      <th>2</th>\n",
              "      <td>65</td>\n",
              "      <td>Male</td>\n",
              "      <td>0.657140</td>\n",
              "      <td>0.081287</td>\n",
              "      <td>320.770533</td>\n",
              "      <td>12.625011</td>\n",
              "      <td>30.613180</td>\n",
              "      <td>5.947767</td>\n",
              "      <td>2.489167</td>\n",
              "      <td>0.774952</td>\n",
              "      <td>0</td>\n",
              "    </tr>\n",
              "    <tr>\n",
              "      <th>3</th>\n",
              "      <td>65</td>\n",
              "      <td>Male</td>\n",
              "      <td>0.906822</td>\n",
              "      <td>0.214173</td>\n",
              "      <td>369.278160</td>\n",
              "      <td>34.347597</td>\n",
              "      <td>54.510085</td>\n",
              "      <td>6.967183</td>\n",
              "      <td>3.613837</td>\n",
              "      <td>0.988155</td>\n",
              "      <td>1</td>\n",
              "    </tr>\n",
              "    <tr>\n",
              "      <th>4</th>\n",
              "      <td>22</td>\n",
              "      <td>Female</td>\n",
              "      <td>1.734959</td>\n",
              "      <td>0.197706</td>\n",
              "      <td>222.782025</td>\n",
              "      <td>20.572891</td>\n",
              "      <td>170.010177</td>\n",
              "      <td>5.837537</td>\n",
              "      <td>3.068697</td>\n",
              "      <td>1.026654</td>\n",
              "      <td>0</td>\n",
              "    </tr>\n",
              "  </tbody>\n",
              "</table>\n",
              "</div>\n",
              "      <button class=\"colab-df-convert\" onclick=\"convertToInteractive('df-7582ed3b-857c-4e7c-a20d-1486e6c1dfb1')\"\n",
              "              title=\"Convert this dataframe to an interactive table.\"\n",
              "              style=\"display:none;\">\n",
              "        \n",
              "  <svg xmlns=\"http://www.w3.org/2000/svg\" height=\"24px\"viewBox=\"0 0 24 24\"\n",
              "       width=\"24px\">\n",
              "    <path d=\"M0 0h24v24H0V0z\" fill=\"none\"/>\n",
              "    <path d=\"M18.56 5.44l.94 2.06.94-2.06 2.06-.94-2.06-.94-.94-2.06-.94 2.06-2.06.94zm-11 1L8.5 8.5l.94-2.06 2.06-.94-2.06-.94L8.5 2.5l-.94 2.06-2.06.94zm10 10l.94 2.06.94-2.06 2.06-.94-2.06-.94-.94-2.06-.94 2.06-2.06.94z\"/><path d=\"M17.41 7.96l-1.37-1.37c-.4-.4-.92-.59-1.43-.59-.52 0-1.04.2-1.43.59L10.3 9.45l-7.72 7.72c-.78.78-.78 2.05 0 2.83L4 21.41c.39.39.9.59 1.41.59.51 0 1.02-.2 1.41-.59l7.78-7.78 2.81-2.81c.8-.78.8-2.07 0-2.86zM5.41 20L4 18.59l7.72-7.72 1.47 1.35L5.41 20z\"/>\n",
              "  </svg>\n",
              "      </button>\n",
              "      \n",
              "  <style>\n",
              "    .colab-df-container {\n",
              "      display:flex;\n",
              "      flex-wrap:wrap;\n",
              "      gap: 12px;\n",
              "    }\n",
              "\n",
              "    .colab-df-convert {\n",
              "      background-color: #E8F0FE;\n",
              "      border: none;\n",
              "      border-radius: 50%;\n",
              "      cursor: pointer;\n",
              "      display: none;\n",
              "      fill: #1967D2;\n",
              "      height: 32px;\n",
              "      padding: 0 0 0 0;\n",
              "      width: 32px;\n",
              "    }\n",
              "\n",
              "    .colab-df-convert:hover {\n",
              "      background-color: #E2EBFA;\n",
              "      box-shadow: 0px 1px 2px rgba(60, 64, 67, 0.3), 0px 1px 3px 1px rgba(60, 64, 67, 0.15);\n",
              "      fill: #174EA6;\n",
              "    }\n",
              "\n",
              "    [theme=dark] .colab-df-convert {\n",
              "      background-color: #3B4455;\n",
              "      fill: #D2E3FC;\n",
              "    }\n",
              "\n",
              "    [theme=dark] .colab-df-convert:hover {\n",
              "      background-color: #434B5C;\n",
              "      box-shadow: 0px 1px 3px 1px rgba(0, 0, 0, 0.15);\n",
              "      filter: drop-shadow(0px 1px 2px rgba(0, 0, 0, 0.3));\n",
              "      fill: #FFFFFF;\n",
              "    }\n",
              "  </style>\n",
              "\n",
              "      <script>\n",
              "        const buttonEl =\n",
              "          document.querySelector('#df-7582ed3b-857c-4e7c-a20d-1486e6c1dfb1 button.colab-df-convert');\n",
              "        buttonEl.style.display =\n",
              "          google.colab.kernel.accessAllowed ? 'block' : 'none';\n",
              "\n",
              "        async function convertToInteractive(key) {\n",
              "          const element = document.querySelector('#df-7582ed3b-857c-4e7c-a20d-1486e6c1dfb1');\n",
              "          const dataTable =\n",
              "            await google.colab.kernel.invokeFunction('convertToInteractive',\n",
              "                                                     [key], {});\n",
              "          if (!dataTable) return;\n",
              "\n",
              "          const docLinkHtml = 'Like what you see? Visit the ' +\n",
              "            '<a target=\"_blank\" href=https://colab.research.google.com/notebooks/data_table.ipynb>data table notebook</a>'\n",
              "            + ' to learn more about interactive tables.';\n",
              "          element.innerHTML = '';\n",
              "          dataTable['output_type'] = 'display_data';\n",
              "          await google.colab.output.renderOutput(dataTable, element);\n",
              "          const docLink = document.createElement('div');\n",
              "          docLink.innerHTML = docLinkHtml;\n",
              "          element.appendChild(docLink);\n",
              "        }\n",
              "      </script>\n",
              "    </div>\n",
              "  </div>\n",
              "  "
            ]
          },
          "metadata": {},
          "execution_count": 26
        }
      ]
    },
    {
      "cell_type": "code",
      "source": [
        "# ラベルエンコーディング（OrdinalEncoder）\n",
        "oe      = preprocessing.OrdinalEncoder()\n",
        "encoded = oe.fit_transform(df[['Gender']].values)\n",
        "\n",
        "# データフレームを作成\n",
        "encodered_df = pd.DataFrame(encoded, columns= ['Gender_enc'])\n",
        "# decoded = oe.inverse_transform(encoded)\n",
        "# エンコードしたデータに差し替え\n",
        "df.insert(loc = 2, column= 'Gender_enc', value= encodered_df)\n",
        "df = df.drop(columns='Gender') # エンコード前のGender列を削除\n",
        "df.head()"
      ],
      "metadata": {
        "id": "FviWEB5ODt4l",
        "colab": {
          "base_uri": "https://localhost:8080/",
          "height": 206
        },
        "outputId": "48fb9eb3-fe57-4c3a-91ff-b6d0e8c36d27"
      },
      "execution_count": null,
      "outputs": [
        {
          "output_type": "execute_result",
          "data": {
            "text/plain": [
              "   Age  Gender  Gender_enc     T_Bil     D_Bil         ALP    ALT_GPT  \\\n",
              "0   59    Male         1.0  0.786886  0.150498  220.178691  13.467617   \n",
              "1   69    Male         1.0  1.003987  0.195625  221.218413  51.033462   \n",
              "2   65    Male         1.0  0.657140  0.081287  320.770533  12.625011   \n",
              "3   65    Male         1.0  0.906822  0.214173  369.278160  34.347597   \n",
              "4   22  Female         0.0  1.734959  0.197706  222.782025  20.572891   \n",
              "\n",
              "      AST_GOT        TP       Alb  AG_ratio  disease  \n",
              "0   21.729246  6.815731  3.112276  1.006802        0  \n",
              "1   64.752323  6.889608  3.051521  0.751346        1  \n",
              "2   30.613180  5.947767  2.489167  0.774952        0  \n",
              "3   54.510085  6.967183  3.613837  0.988155        1  \n",
              "4  170.010177  5.837537  3.068697  1.026654        0  "
            ],
            "text/html": [
              "\n",
              "  <div id=\"df-7b087822-6afd-4c5f-9f25-cc52e53e1276\">\n",
              "    <div class=\"colab-df-container\">\n",
              "      <div>\n",
              "<style scoped>\n",
              "    .dataframe tbody tr th:only-of-type {\n",
              "        vertical-align: middle;\n",
              "    }\n",
              "\n",
              "    .dataframe tbody tr th {\n",
              "        vertical-align: top;\n",
              "    }\n",
              "\n",
              "    .dataframe thead th {\n",
              "        text-align: right;\n",
              "    }\n",
              "</style>\n",
              "<table border=\"1\" class=\"dataframe\">\n",
              "  <thead>\n",
              "    <tr style=\"text-align: right;\">\n",
              "      <th></th>\n",
              "      <th>Age</th>\n",
              "      <th>Gender</th>\n",
              "      <th>Gender_enc</th>\n",
              "      <th>T_Bil</th>\n",
              "      <th>D_Bil</th>\n",
              "      <th>ALP</th>\n",
              "      <th>ALT_GPT</th>\n",
              "      <th>AST_GOT</th>\n",
              "      <th>TP</th>\n",
              "      <th>Alb</th>\n",
              "      <th>AG_ratio</th>\n",
              "      <th>disease</th>\n",
              "    </tr>\n",
              "  </thead>\n",
              "  <tbody>\n",
              "    <tr>\n",
              "      <th>0</th>\n",
              "      <td>59</td>\n",
              "      <td>Male</td>\n",
              "      <td>1.0</td>\n",
              "      <td>0.786886</td>\n",
              "      <td>0.150498</td>\n",
              "      <td>220.178691</td>\n",
              "      <td>13.467617</td>\n",
              "      <td>21.729246</td>\n",
              "      <td>6.815731</td>\n",
              "      <td>3.112276</td>\n",
              "      <td>1.006802</td>\n",
              "      <td>0</td>\n",
              "    </tr>\n",
              "    <tr>\n",
              "      <th>1</th>\n",
              "      <td>69</td>\n",
              "      <td>Male</td>\n",
              "      <td>1.0</td>\n",
              "      <td>1.003987</td>\n",
              "      <td>0.195625</td>\n",
              "      <td>221.218413</td>\n",
              "      <td>51.033462</td>\n",
              "      <td>64.752323</td>\n",
              "      <td>6.889608</td>\n",
              "      <td>3.051521</td>\n",
              "      <td>0.751346</td>\n",
              "      <td>1</td>\n",
              "    </tr>\n",
              "    <tr>\n",
              "      <th>2</th>\n",
              "      <td>65</td>\n",
              "      <td>Male</td>\n",
              "      <td>1.0</td>\n",
              "      <td>0.657140</td>\n",
              "      <td>0.081287</td>\n",
              "      <td>320.770533</td>\n",
              "      <td>12.625011</td>\n",
              "      <td>30.613180</td>\n",
              "      <td>5.947767</td>\n",
              "      <td>2.489167</td>\n",
              "      <td>0.774952</td>\n",
              "      <td>0</td>\n",
              "    </tr>\n",
              "    <tr>\n",
              "      <th>3</th>\n",
              "      <td>65</td>\n",
              "      <td>Male</td>\n",
              "      <td>1.0</td>\n",
              "      <td>0.906822</td>\n",
              "      <td>0.214173</td>\n",
              "      <td>369.278160</td>\n",
              "      <td>34.347597</td>\n",
              "      <td>54.510085</td>\n",
              "      <td>6.967183</td>\n",
              "      <td>3.613837</td>\n",
              "      <td>0.988155</td>\n",
              "      <td>1</td>\n",
              "    </tr>\n",
              "    <tr>\n",
              "      <th>4</th>\n",
              "      <td>22</td>\n",
              "      <td>Female</td>\n",
              "      <td>0.0</td>\n",
              "      <td>1.734959</td>\n",
              "      <td>0.197706</td>\n",
              "      <td>222.782025</td>\n",
              "      <td>20.572891</td>\n",
              "      <td>170.010177</td>\n",
              "      <td>5.837537</td>\n",
              "      <td>3.068697</td>\n",
              "      <td>1.026654</td>\n",
              "      <td>0</td>\n",
              "    </tr>\n",
              "  </tbody>\n",
              "</table>\n",
              "</div>\n",
              "      <button class=\"colab-df-convert\" onclick=\"convertToInteractive('df-7b087822-6afd-4c5f-9f25-cc52e53e1276')\"\n",
              "              title=\"Convert this dataframe to an interactive table.\"\n",
              "              style=\"display:none;\">\n",
              "        \n",
              "  <svg xmlns=\"http://www.w3.org/2000/svg\" height=\"24px\"viewBox=\"0 0 24 24\"\n",
              "       width=\"24px\">\n",
              "    <path d=\"M0 0h24v24H0V0z\" fill=\"none\"/>\n",
              "    <path d=\"M18.56 5.44l.94 2.06.94-2.06 2.06-.94-2.06-.94-.94-2.06-.94 2.06-2.06.94zm-11 1L8.5 8.5l.94-2.06 2.06-.94-2.06-.94L8.5 2.5l-.94 2.06-2.06.94zm10 10l.94 2.06.94-2.06 2.06-.94-2.06-.94-.94-2.06-.94 2.06-2.06.94z\"/><path d=\"M17.41 7.96l-1.37-1.37c-.4-.4-.92-.59-1.43-.59-.52 0-1.04.2-1.43.59L10.3 9.45l-7.72 7.72c-.78.78-.78 2.05 0 2.83L4 21.41c.39.39.9.59 1.41.59.51 0 1.02-.2 1.41-.59l7.78-7.78 2.81-2.81c.8-.78.8-2.07 0-2.86zM5.41 20L4 18.59l7.72-7.72 1.47 1.35L5.41 20z\"/>\n",
              "  </svg>\n",
              "      </button>\n",
              "      \n",
              "  <style>\n",
              "    .colab-df-container {\n",
              "      display:flex;\n",
              "      flex-wrap:wrap;\n",
              "      gap: 12px;\n",
              "    }\n",
              "\n",
              "    .colab-df-convert {\n",
              "      background-color: #E8F0FE;\n",
              "      border: none;\n",
              "      border-radius: 50%;\n",
              "      cursor: pointer;\n",
              "      display: none;\n",
              "      fill: #1967D2;\n",
              "      height: 32px;\n",
              "      padding: 0 0 0 0;\n",
              "      width: 32px;\n",
              "    }\n",
              "\n",
              "    .colab-df-convert:hover {\n",
              "      background-color: #E2EBFA;\n",
              "      box-shadow: 0px 1px 2px rgba(60, 64, 67, 0.3), 0px 1px 3px 1px rgba(60, 64, 67, 0.15);\n",
              "      fill: #174EA6;\n",
              "    }\n",
              "\n",
              "    [theme=dark] .colab-df-convert {\n",
              "      background-color: #3B4455;\n",
              "      fill: #D2E3FC;\n",
              "    }\n",
              "\n",
              "    [theme=dark] .colab-df-convert:hover {\n",
              "      background-color: #434B5C;\n",
              "      box-shadow: 0px 1px 3px 1px rgba(0, 0, 0, 0.15);\n",
              "      filter: drop-shadow(0px 1px 2px rgba(0, 0, 0, 0.3));\n",
              "      fill: #FFFFFF;\n",
              "    }\n",
              "  </style>\n",
              "\n",
              "      <script>\n",
              "        const buttonEl =\n",
              "          document.querySelector('#df-7b087822-6afd-4c5f-9f25-cc52e53e1276 button.colab-df-convert');\n",
              "        buttonEl.style.display =\n",
              "          google.colab.kernel.accessAllowed ? 'block' : 'none';\n",
              "\n",
              "        async function convertToInteractive(key) {\n",
              "          const element = document.querySelector('#df-7b087822-6afd-4c5f-9f25-cc52e53e1276');\n",
              "          const dataTable =\n",
              "            await google.colab.kernel.invokeFunction('convertToInteractive',\n",
              "                                                     [key], {});\n",
              "          if (!dataTable) return;\n",
              "\n",
              "          const docLinkHtml = 'Like what you see? Visit the ' +\n",
              "            '<a target=\"_blank\" href=https://colab.research.google.com/notebooks/data_table.ipynb>data table notebook</a>'\n",
              "            + ' to learn more about interactive tables.';\n",
              "          element.innerHTML = '';\n",
              "          dataTable['output_type'] = 'display_data';\n",
              "          await google.colab.output.renderOutput(dataTable, element);\n",
              "          const docLink = document.createElement('div');\n",
              "          docLink.innerHTML = docLinkHtml;\n",
              "          element.appendChild(docLink);\n",
              "        }\n",
              "      </script>\n",
              "    </div>\n",
              "  </div>\n",
              "  "
            ]
          },
          "metadata": {},
          "execution_count": 27
        }
      ]
    },
    {
      "cell_type": "code",
      "source": [
        "df = df.drop(columns='Gender') # エンコード前のGender列を削除\n",
        "df.head()"
      ],
      "metadata": {
        "colab": {
          "base_uri": "https://localhost:8080/",
          "height": 206
        },
        "id": "jRGn2Zb2f-8q",
        "outputId": "6bdf8bac-2722-4949-8b20-c8f40e7912d3"
      },
      "execution_count": null,
      "outputs": [
        {
          "output_type": "execute_result",
          "data": {
            "text/plain": [
              "   Age  Gender_enc     T_Bil     D_Bil         ALP    ALT_GPT     AST_GOT  \\\n",
              "0   59         1.0  0.786886  0.150498  220.178691  13.467617   21.729246   \n",
              "1   69         1.0  1.003987  0.195625  221.218413  51.033462   64.752323   \n",
              "2   65         1.0  0.657140  0.081287  320.770533  12.625011   30.613180   \n",
              "3   65         1.0  0.906822  0.214173  369.278160  34.347597   54.510085   \n",
              "4   22         0.0  1.734959  0.197706  222.782025  20.572891  170.010177   \n",
              "\n",
              "         TP       Alb  AG_ratio  disease  \n",
              "0  6.815731  3.112276  1.006802        0  \n",
              "1  6.889608  3.051521  0.751346        1  \n",
              "2  5.947767  2.489167  0.774952        0  \n",
              "3  6.967183  3.613837  0.988155        1  \n",
              "4  5.837537  3.068697  1.026654        0  "
            ],
            "text/html": [
              "\n",
              "  <div id=\"df-210e0c34-1115-4f13-943c-4df03db96424\">\n",
              "    <div class=\"colab-df-container\">\n",
              "      <div>\n",
              "<style scoped>\n",
              "    .dataframe tbody tr th:only-of-type {\n",
              "        vertical-align: middle;\n",
              "    }\n",
              "\n",
              "    .dataframe tbody tr th {\n",
              "        vertical-align: top;\n",
              "    }\n",
              "\n",
              "    .dataframe thead th {\n",
              "        text-align: right;\n",
              "    }\n",
              "</style>\n",
              "<table border=\"1\" class=\"dataframe\">\n",
              "  <thead>\n",
              "    <tr style=\"text-align: right;\">\n",
              "      <th></th>\n",
              "      <th>Age</th>\n",
              "      <th>Gender_enc</th>\n",
              "      <th>T_Bil</th>\n",
              "      <th>D_Bil</th>\n",
              "      <th>ALP</th>\n",
              "      <th>ALT_GPT</th>\n",
              "      <th>AST_GOT</th>\n",
              "      <th>TP</th>\n",
              "      <th>Alb</th>\n",
              "      <th>AG_ratio</th>\n",
              "      <th>disease</th>\n",
              "    </tr>\n",
              "  </thead>\n",
              "  <tbody>\n",
              "    <tr>\n",
              "      <th>0</th>\n",
              "      <td>59</td>\n",
              "      <td>1.0</td>\n",
              "      <td>0.786886</td>\n",
              "      <td>0.150498</td>\n",
              "      <td>220.178691</td>\n",
              "      <td>13.467617</td>\n",
              "      <td>21.729246</td>\n",
              "      <td>6.815731</td>\n",
              "      <td>3.112276</td>\n",
              "      <td>1.006802</td>\n",
              "      <td>0</td>\n",
              "    </tr>\n",
              "    <tr>\n",
              "      <th>1</th>\n",
              "      <td>69</td>\n",
              "      <td>1.0</td>\n",
              "      <td>1.003987</td>\n",
              "      <td>0.195625</td>\n",
              "      <td>221.218413</td>\n",
              "      <td>51.033462</td>\n",
              "      <td>64.752323</td>\n",
              "      <td>6.889608</td>\n",
              "      <td>3.051521</td>\n",
              "      <td>0.751346</td>\n",
              "      <td>1</td>\n",
              "    </tr>\n",
              "    <tr>\n",
              "      <th>2</th>\n",
              "      <td>65</td>\n",
              "      <td>1.0</td>\n",
              "      <td>0.657140</td>\n",
              "      <td>0.081287</td>\n",
              "      <td>320.770533</td>\n",
              "      <td>12.625011</td>\n",
              "      <td>30.613180</td>\n",
              "      <td>5.947767</td>\n",
              "      <td>2.489167</td>\n",
              "      <td>0.774952</td>\n",
              "      <td>0</td>\n",
              "    </tr>\n",
              "    <tr>\n",
              "      <th>3</th>\n",
              "      <td>65</td>\n",
              "      <td>1.0</td>\n",
              "      <td>0.906822</td>\n",
              "      <td>0.214173</td>\n",
              "      <td>369.278160</td>\n",
              "      <td>34.347597</td>\n",
              "      <td>54.510085</td>\n",
              "      <td>6.967183</td>\n",
              "      <td>3.613837</td>\n",
              "      <td>0.988155</td>\n",
              "      <td>1</td>\n",
              "    </tr>\n",
              "    <tr>\n",
              "      <th>4</th>\n",
              "      <td>22</td>\n",
              "      <td>0.0</td>\n",
              "      <td>1.734959</td>\n",
              "      <td>0.197706</td>\n",
              "      <td>222.782025</td>\n",
              "      <td>20.572891</td>\n",
              "      <td>170.010177</td>\n",
              "      <td>5.837537</td>\n",
              "      <td>3.068697</td>\n",
              "      <td>1.026654</td>\n",
              "      <td>0</td>\n",
              "    </tr>\n",
              "  </tbody>\n",
              "</table>\n",
              "</div>\n",
              "      <button class=\"colab-df-convert\" onclick=\"convertToInteractive('df-210e0c34-1115-4f13-943c-4df03db96424')\"\n",
              "              title=\"Convert this dataframe to an interactive table.\"\n",
              "              style=\"display:none;\">\n",
              "        \n",
              "  <svg xmlns=\"http://www.w3.org/2000/svg\" height=\"24px\"viewBox=\"0 0 24 24\"\n",
              "       width=\"24px\">\n",
              "    <path d=\"M0 0h24v24H0V0z\" fill=\"none\"/>\n",
              "    <path d=\"M18.56 5.44l.94 2.06.94-2.06 2.06-.94-2.06-.94-.94-2.06-.94 2.06-2.06.94zm-11 1L8.5 8.5l.94-2.06 2.06-.94-2.06-.94L8.5 2.5l-.94 2.06-2.06.94zm10 10l.94 2.06.94-2.06 2.06-.94-2.06-.94-.94-2.06-.94 2.06-2.06.94z\"/><path d=\"M17.41 7.96l-1.37-1.37c-.4-.4-.92-.59-1.43-.59-.52 0-1.04.2-1.43.59L10.3 9.45l-7.72 7.72c-.78.78-.78 2.05 0 2.83L4 21.41c.39.39.9.59 1.41.59.51 0 1.02-.2 1.41-.59l7.78-7.78 2.81-2.81c.8-.78.8-2.07 0-2.86zM5.41 20L4 18.59l7.72-7.72 1.47 1.35L5.41 20z\"/>\n",
              "  </svg>\n",
              "      </button>\n",
              "      \n",
              "  <style>\n",
              "    .colab-df-container {\n",
              "      display:flex;\n",
              "      flex-wrap:wrap;\n",
              "      gap: 12px;\n",
              "    }\n",
              "\n",
              "    .colab-df-convert {\n",
              "      background-color: #E8F0FE;\n",
              "      border: none;\n",
              "      border-radius: 50%;\n",
              "      cursor: pointer;\n",
              "      display: none;\n",
              "      fill: #1967D2;\n",
              "      height: 32px;\n",
              "      padding: 0 0 0 0;\n",
              "      width: 32px;\n",
              "    }\n",
              "\n",
              "    .colab-df-convert:hover {\n",
              "      background-color: #E2EBFA;\n",
              "      box-shadow: 0px 1px 2px rgba(60, 64, 67, 0.3), 0px 1px 3px 1px rgba(60, 64, 67, 0.15);\n",
              "      fill: #174EA6;\n",
              "    }\n",
              "\n",
              "    [theme=dark] .colab-df-convert {\n",
              "      background-color: #3B4455;\n",
              "      fill: #D2E3FC;\n",
              "    }\n",
              "\n",
              "    [theme=dark] .colab-df-convert:hover {\n",
              "      background-color: #434B5C;\n",
              "      box-shadow: 0px 1px 3px 1px rgba(0, 0, 0, 0.15);\n",
              "      filter: drop-shadow(0px 1px 2px rgba(0, 0, 0, 0.3));\n",
              "      fill: #FFFFFF;\n",
              "    }\n",
              "  </style>\n",
              "\n",
              "      <script>\n",
              "        const buttonEl =\n",
              "          document.querySelector('#df-210e0c34-1115-4f13-943c-4df03db96424 button.colab-df-convert');\n",
              "        buttonEl.style.display =\n",
              "          google.colab.kernel.accessAllowed ? 'block' : 'none';\n",
              "\n",
              "        async function convertToInteractive(key) {\n",
              "          const element = document.querySelector('#df-210e0c34-1115-4f13-943c-4df03db96424');\n",
              "          const dataTable =\n",
              "            await google.colab.kernel.invokeFunction('convertToInteractive',\n",
              "                                                     [key], {});\n",
              "          if (!dataTable) return;\n",
              "\n",
              "          const docLinkHtml = 'Like what you see? Visit the ' +\n",
              "            '<a target=\"_blank\" href=https://colab.research.google.com/notebooks/data_table.ipynb>data table notebook</a>'\n",
              "            + ' to learn more about interactive tables.';\n",
              "          element.innerHTML = '';\n",
              "          dataTable['output_type'] = 'display_data';\n",
              "          await google.colab.output.renderOutput(dataTable, element);\n",
              "          const docLink = document.createElement('div');\n",
              "          docLink.innerHTML = docLinkHtml;\n",
              "          element.appendChild(docLink);\n",
              "        }\n",
              "      </script>\n",
              "    </div>\n",
              "  </div>\n",
              "  "
            ]
          },
          "metadata": {},
          "execution_count": 28
        }
      ]
    },
    {
      "cell_type": "code",
      "source": [
        "# データの可視化\n",
        "import seaborn as sns\n",
        "import pandas as pd\n",
        "from matplotlib import pyplot as plt\n",
        "sns.set(style='darkgrid')\n",
        "\n",
        "plt.figure(figsize=(9,6))\n",
        "sns.heatmap(df.corr(), annot=True)"
      ],
      "metadata": {
        "colab": {
          "base_uri": "https://localhost:8080/",
          "height": 454
        },
        "id": "NF9ROY4QNEY3",
        "outputId": "3f888ff7-55e0-408e-ab5f-9a39ce4c11dd"
      },
      "execution_count": null,
      "outputs": [
        {
          "output_type": "execute_result",
          "data": {
            "text/plain": [
              "<matplotlib.axes._subplots.AxesSubplot at 0x7fdb991f2550>"
            ]
          },
          "metadata": {},
          "execution_count": 29
        },
        {
          "output_type": "display_data",
          "data": {
            "text/plain": [
              "<Figure size 648x432 with 2 Axes>"
            ],
            "image/png": "[encoded data removed]"
          },
          "metadata": {}
        }
      ]
    },
    {
      "cell_type": "code",
      "source": [
        "# Age(0列目)〜AG_ration(10列目)を特徴量として使う\n",
        "X = df.iloc[:, :10]\n",
        "X.head()"
      ],
      "metadata": {
        "colab": {
          "base_uri": "https://localhost:8080/",
          "height": 206
        },
        "id": "FesQ9f_he6yy",
        "outputId": "1d8be491-3ca8-43a9-d112-6845165d44e6"
      },
      "execution_count": null,
      "outputs": [
        {
          "output_type": "execute_result",
          "data": {
            "text/plain": [
              "   Age  Gender_enc     T_Bil     D_Bil         ALP    ALT_GPT     AST_GOT  \\\n",
              "0   59         1.0  0.786886  0.150498  220.178691  13.467617   21.729246   \n",
              "1   69         1.0  1.003987  0.195625  221.218413  51.033462   64.752323   \n",
              "2   65         1.0  0.657140  0.081287  320.770533  12.625011   30.613180   \n",
              "3   65         1.0  0.906822  0.214173  369.278160  34.347597   54.510085   \n",
              "4   22         0.0  1.734959  0.197706  222.782025  20.572891  170.010177   \n",
              "\n",
              "         TP       Alb  AG_ratio  \n",
              "0  6.815731  3.112276  1.006802  \n",
              "1  6.889608  3.051521  0.751346  \n",
              "2  5.947767  2.489167  0.774952  \n",
              "3  6.967183  3.613837  0.988155  \n",
              "4  5.837537  3.068697  1.026654  "
            ],
            "text/html": [
              "\n",
              "  <div id=\"df-f1023bcd-8184-4b0f-9c33-3f7599c0750b\">\n",
              "    <div class=\"colab-df-container\">\n",
              "      <div>\n",
              "<style scoped>\n",
              "    .dataframe tbody tr th:only-of-type {\n",
              "        vertical-align: middle;\n",
              "    }\n",
              "\n",
              "    .dataframe tbody tr th {\n",
              "        vertical-align: top;\n",
              "    }\n",
              "\n",
              "    .dataframe thead th {\n",
              "        text-align: right;\n",
              "    }\n",
              "</style>\n",
              "<table border=\"1\" class=\"dataframe\">\n",
              "  <thead>\n",
              "    <tr style=\"text-align: right;\">\n",
              "      <th></th>\n",
              "      <th>Age</th>\n",
              "      <th>Gender_enc</th>\n",
              "      <th>T_Bil</th>\n",
              "      <th>D_Bil</th>\n",
              "      <th>ALP</th>\n",
              "      <th>ALT_GPT</th>\n",
              "      <th>AST_GOT</th>\n",
              "      <th>TP</th>\n",
              "      <th>Alb</th>\n",
              "      <th>AG_ratio</th>\n",
              "    </tr>\n",
              "  </thead>\n",
              "  <tbody>\n",
              "    <tr>\n",
              "      <th>0</th>\n",
              "      <td>59</td>\n",
              "      <td>1.0</td>\n",
              "      <td>0.786886</td>\n",
              "      <td>0.150498</td>\n",
              "      <td>220.178691</td>\n",
              "      <td>13.467617</td>\n",
              "      <td>21.729246</td>\n",
              "      <td>6.815731</td>\n",
              "      <td>3.112276</td>\n",
              "      <td>1.006802</td>\n",
              "    </tr>\n",
              "    <tr>\n",
              "      <th>1</th>\n",
              "      <td>69</td>\n",
              "      <td>1.0</td>\n",
              "      <td>1.003987</td>\n",
              "      <td>0.195625</td>\n",
              "      <td>221.218413</td>\n",
              "      <td>51.033462</td>\n",
              "      <td>64.752323</td>\n",
              "      <td>6.889608</td>\n",
              "      <td>3.051521</td>\n",
              "      <td>0.751346</td>\n",
              "    </tr>\n",
              "    <tr>\n",
              "      <th>2</th>\n",
              "      <td>65</td>\n",
              "      <td>1.0</td>\n",
              "      <td>0.657140</td>\n",
              "      <td>0.081287</td>\n",
              "      <td>320.770533</td>\n",
              "      <td>12.625011</td>\n",
              "      <td>30.613180</td>\n",
              "      <td>5.947767</td>\n",
              "      <td>2.489167</td>\n",
              "      <td>0.774952</td>\n",
              "    </tr>\n",
              "    <tr>\n",
              "      <th>3</th>\n",
              "      <td>65</td>\n",
              "      <td>1.0</td>\n",
              "      <td>0.906822</td>\n",
              "      <td>0.214173</td>\n",
              "      <td>369.278160</td>\n",
              "      <td>34.347597</td>\n",
              "      <td>54.510085</td>\n",
              "      <td>6.967183</td>\n",
              "      <td>3.613837</td>\n",
              "      <td>0.988155</td>\n",
              "    </tr>\n",
              "    <tr>\n",
              "      <th>4</th>\n",
              "      <td>22</td>\n",
              "      <td>0.0</td>\n",
              "      <td>1.734959</td>\n",
              "      <td>0.197706</td>\n",
              "      <td>222.782025</td>\n",
              "      <td>20.572891</td>\n",
              "      <td>170.010177</td>\n",
              "      <td>5.837537</td>\n",
              "      <td>3.068697</td>\n",
              "      <td>1.026654</td>\n",
              "    </tr>\n",
              "  </tbody>\n",
              "</table>\n",
              "</div>\n",
              "      <button class=\"colab-df-convert\" onclick=\"convertToInteractive('df-f1023bcd-8184-4b0f-9c33-3f7599c0750b')\"\n",
              "              title=\"Convert this dataframe to an interactive table.\"\n",
              "              style=\"display:none;\">\n",
              "        \n",
              "  <svg xmlns=\"http://www.w3.org/2000/svg\" height=\"24px\"viewBox=\"0 0 24 24\"\n",
              "       width=\"24px\">\n",
              "    <path d=\"M0 0h24v24H0V0z\" fill=\"none\"/>\n",
              "    <path d=\"M18.56 5.44l.94 2.06.94-2.06 2.06-.94-2.06-.94-.94-2.06-.94 2.06-2.06.94zm-11 1L8.5 8.5l.94-2.06 2.06-.94-2.06-.94L8.5 2.5l-.94 2.06-2.06.94zm10 10l.94 2.06.94-2.06 2.06-.94-2.06-.94-.94-2.06-.94 2.06-2.06.94z\"/><path d=\"M17.41 7.96l-1.37-1.37c-.4-.4-.92-.59-1.43-.59-.52 0-1.04.2-1.43.59L10.3 9.45l-7.72 7.72c-.78.78-.78 2.05 0 2.83L4 21.41c.39.39.9.59 1.41.59.51 0 1.02-.2 1.41-.59l7.78-7.78 2.81-2.81c.8-.78.8-2.07 0-2.86zM5.41 20L4 18.59l7.72-7.72 1.47 1.35L5.41 20z\"/>\n",
              "  </svg>\n",
              "      </button>\n",
              "      \n",
              "  <style>\n",
              "    .colab-df-container {\n",
              "      display:flex;\n",
              "      flex-wrap:wrap;\n",
              "      gap: 12px;\n",
              "    }\n",
              "\n",
              "    .colab-df-convert {\n",
              "      background-color: #E8F0FE;\n",
              "      border: none;\n",
              "      border-radius: 50%;\n",
              "      cursor: pointer;\n",
              "      display: none;\n",
              "      fill: #1967D2;\n",
              "      height: 32px;\n",
              "      padding: 0 0 0 0;\n",
              "      width: 32px;\n",
              "    }\n",
              "\n",
              "    .colab-df-convert:hover {\n",
              "      background-color: #E2EBFA;\n",
              "      box-shadow: 0px 1px 2px rgba(60, 64, 67, 0.3), 0px 1px 3px 1px rgba(60, 64, 67, 0.15);\n",
              "      fill: #174EA6;\n",
              "    }\n",
              "\n",
              "    [theme=dark] .colab-df-convert {\n",
              "      background-color: #3B4455;\n",
              "      fill: #D2E3FC;\n",
              "    }\n",
              "\n",
              "    [theme=dark] .colab-df-convert:hover {\n",
              "      background-color: #434B5C;\n",
              "      box-shadow: 0px 1px 3px 1px rgba(0, 0, 0, 0.15);\n",
              "      filter: drop-shadow(0px 1px 2px rgba(0, 0, 0, 0.3));\n",
              "      fill: #FFFFFF;\n",
              "    }\n",
              "  </style>\n",
              "\n",
              "      <script>\n",
              "        const buttonEl =\n",
              "          document.querySelector('#df-f1023bcd-8184-4b0f-9c33-3f7599c0750b button.colab-df-convert');\n",
              "        buttonEl.style.display =\n",
              "          google.colab.kernel.accessAllowed ? 'block' : 'none';\n",
              "\n",
              "        async function convertToInteractive(key) {\n",
              "          const element = document.querySelector('#df-f1023bcd-8184-4b0f-9c33-3f7599c0750b');\n",
              "          const dataTable =\n",
              "            await google.colab.kernel.invokeFunction('convertToInteractive',\n",
              "                                                     [key], {});\n",
              "          if (!dataTable) return;\n",
              "\n",
              "          const docLinkHtml = 'Like what you see? Visit the ' +\n",
              "            '<a target=\"_blank\" href=https://colab.research.google.com/notebooks/data_table.ipynb>data table notebook</a>'\n",
              "            + ' to learn more about interactive tables.';\n",
              "          element.innerHTML = '';\n",
              "          dataTable['output_type'] = 'display_data';\n",
              "          await google.colab.output.renderOutput(dataTable, element);\n",
              "          const docLink = document.createElement('div');\n",
              "          docLink.innerHTML = docLinkHtml;\n",
              "          element.appendChild(docLink);\n",
              "        }\n",
              "      </script>\n",
              "    </div>\n",
              "  </div>\n",
              "  "
            ]
          },
          "metadata": {},
          "execution_count": 30
        }
      ]
    },
    {
      "cell_type": "code",
      "source": [
        "# disease(11列目)を特徴量として使う\n",
        "y = df.iloc[:,10:11]\n",
        "y.head()"
      ],
      "metadata": {
        "colab": {
          "base_uri": "https://localhost:8080/",
          "height": 206
        },
        "id": "OGQ7CXE7fyqe",
        "outputId": "505db55b-87db-4ba1-af6b-ad01113bae28"
      },
      "execution_count": null,
      "outputs": [
        {
          "output_type": "execute_result",
          "data": {
            "text/plain": [
              "   disease\n",
              "0        0\n",
              "1        1\n",
              "2        0\n",
              "3        1\n",
              "4        0"
            ],
            "text/html": [
              "\n",
              "  <div id=\"df-ac25caf4-93b2-4b4d-8b35-79f26c46914b\">\n",
              "    <div class=\"colab-df-container\">\n",
              "      <div>\n",
              "<style scoped>\n",
              "    .dataframe tbody tr th:only-of-type {\n",
              "        vertical-align: middle;\n",
              "    }\n",
              "\n",
              "    .dataframe tbody tr th {\n",
              "        vertical-align: top;\n",
              "    }\n",
              "\n",
              "    .dataframe thead th {\n",
              "        text-align: right;\n",
              "    }\n",
              "</style>\n",
              "<table border=\"1\" class=\"dataframe\">\n",
              "  <thead>\n",
              "    <tr style=\"text-align: right;\">\n",
              "      <th></th>\n",
              "      <th>disease</th>\n",
              "    </tr>\n",
              "  </thead>\n",
              "  <tbody>\n",
              "    <tr>\n",
              "      <th>0</th>\n",
              "      <td>0</td>\n",
              "    </tr>\n",
              "    <tr>\n",
              "      <th>1</th>\n",
              "      <td>1</td>\n",
              "    </tr>\n",
              "    <tr>\n",
              "      <th>2</th>\n",
              "      <td>0</td>\n",
              "    </tr>\n",
              "    <tr>\n",
              "      <th>3</th>\n",
              "      <td>1</td>\n",
              "    </tr>\n",
              "    <tr>\n",
              "      <th>4</th>\n",
              "      <td>0</td>\n",
              "    </tr>\n",
              "  </tbody>\n",
              "</table>\n",
              "</div>\n",
              "      <button class=\"colab-df-convert\" onclick=\"convertToInteractive('df-ac25caf4-93b2-4b4d-8b35-79f26c46914b')\"\n",
              "              title=\"Convert this dataframe to an interactive table.\"\n",
              "              style=\"display:none;\">\n",
              "        \n",
              "  <svg xmlns=\"http://www.w3.org/2000/svg\" height=\"24px\"viewBox=\"0 0 24 24\"\n",
              "       width=\"24px\">\n",
              "    <path d=\"M0 0h24v24H0V0z\" fill=\"none\"/>\n",
              "    <path d=\"M18.56 5.44l.94 2.06.94-2.06 2.06-.94-2.06-.94-.94-2.06-.94 2.06-2.06.94zm-11 1L8.5 8.5l.94-2.06 2.06-.94-2.06-.94L8.5 2.5l-.94 2.06-2.06.94zm10 10l.94 2.06.94-2.06 2.06-.94-2.06-.94-.94-2.06-.94 2.06-2.06.94z\"/><path d=\"M17.41 7.96l-1.37-1.37c-.4-.4-.92-.59-1.43-.59-.52 0-1.04.2-1.43.59L10.3 9.45l-7.72 7.72c-.78.78-.78 2.05 0 2.83L4 21.41c.39.39.9.59 1.41.59.51 0 1.02-.2 1.41-.59l7.78-7.78 2.81-2.81c.8-.78.8-2.07 0-2.86zM5.41 20L4 18.59l7.72-7.72 1.47 1.35L5.41 20z\"/>\n",
              "  </svg>\n",
              "      </button>\n",
              "      \n",
              "  <style>\n",
              "    .colab-df-container {\n",
              "      display:flex;\n",
              "      flex-wrap:wrap;\n",
              "      gap: 12px;\n",
              "    }\n",
              "\n",
              "    .colab-df-convert {\n",
              "      background-color: #E8F0FE;\n",
              "      border: none;\n",
              "      border-radius: 50%;\n",
              "      cursor: pointer;\n",
              "      display: none;\n",
              "      fill: #1967D2;\n",
              "      height: 32px;\n",
              "      padding: 0 0 0 0;\n",
              "      width: 32px;\n",
              "    }\n",
              "\n",
              "    .colab-df-convert:hover {\n",
              "      background-color: #E2EBFA;\n",
              "      box-shadow: 0px 1px 2px rgba(60, 64, 67, 0.3), 0px 1px 3px 1px rgba(60, 64, 67, 0.15);\n",
              "      fill: #174EA6;\n",
              "    }\n",
              "\n",
              "    [theme=dark] .colab-df-convert {\n",
              "      background-color: #3B4455;\n",
              "      fill: #D2E3FC;\n",
              "    }\n",
              "\n",
              "    [theme=dark] .colab-df-convert:hover {\n",
              "      background-color: #434B5C;\n",
              "      box-shadow: 0px 1px 3px 1px rgba(0, 0, 0, 0.15);\n",
              "      filter: drop-shadow(0px 1px 2px rgba(0, 0, 0, 0.3));\n",
              "      fill: #FFFFFF;\n",
              "    }\n",
              "  </style>\n",
              "\n",
              "      <script>\n",
              "        const buttonEl =\n",
              "          document.querySelector('#df-ac25caf4-93b2-4b4d-8b35-79f26c46914b button.colab-df-convert');\n",
              "        buttonEl.style.display =\n",
              "          google.colab.kernel.accessAllowed ? 'block' : 'none';\n",
              "\n",
              "        async function convertToInteractive(key) {\n",
              "          const element = document.querySelector('#df-ac25caf4-93b2-4b4d-8b35-79f26c46914b');\n",
              "          const dataTable =\n",
              "            await google.colab.kernel.invokeFunction('convertToInteractive',\n",
              "                                                     [key], {});\n",
              "          if (!dataTable) return;\n",
              "\n",
              "          const docLinkHtml = 'Like what you see? Visit the ' +\n",
              "            '<a target=\"_blank\" href=https://colab.research.google.com/notebooks/data_table.ipynb>data table notebook</a>'\n",
              "            + ' to learn more about interactive tables.';\n",
              "          element.innerHTML = '';\n",
              "          dataTable['output_type'] = 'display_data';\n",
              "          await google.colab.output.renderOutput(dataTable, element);\n",
              "          const docLink = document.createElement('div');\n",
              "          docLink.innerHTML = docLinkHtml;\n",
              "          element.appendChild(docLink);\n",
              "        }\n",
              "      </script>\n",
              "    </div>\n",
              "  </div>\n",
              "  "
            ]
          },
          "metadata": {},
          "execution_count": 31
        }
      ]
    },
    {
      "cell_type": "code",
      "source": [
        "# 相関の低いカラムを削除\n",
        "# X = X.drop(columns='Age') \n",
        "# X = X.drop(columns='Gender_enc')\n",
        "X.head()"
      ],
      "metadata": {
        "colab": {
          "base_uri": "https://localhost:8080/",
          "height": 206
        },
        "id": "3yKOUIfuoFde",
        "outputId": "0587870c-4440-41cc-f867-c63381675dca"
      },
      "execution_count": null,
      "outputs": [
        {
          "output_type": "execute_result",
          "data": {
            "text/plain": [
              "   Age     T_Bil     D_Bil         ALP    ALT_GPT     AST_GOT        TP  \\\n",
              "0   59  0.786886  0.150498  220.178691  13.467617   21.729246  6.815731   \n",
              "1   69  1.003987  0.195625  221.218413  51.033462   64.752323  6.889608   \n",
              "2   65  0.657140  0.081287  320.770533  12.625011   30.613180  5.947767   \n",
              "3   65  0.906822  0.214173  369.278160  34.347597   54.510085  6.967183   \n",
              "4   22  1.734959  0.197706  222.782025  20.572891  170.010177  5.837537   \n",
              "\n",
              "        Alb  AG_ratio  \n",
              "0  3.112276  1.006802  \n",
              "1  3.051521  0.751346  \n",
              "2  2.489167  0.774952  \n",
              "3  3.613837  0.988155  \n",
              "4  3.068697  1.026654  "
            ],
            "text/html": [
              "\n",
              "  <div id=\"df-3d270ef5-0661-4579-bd12-4d5512d25e86\">\n",
              "    <div class=\"colab-df-container\">\n",
              "      <div>\n",
              "<style scoped>\n",
              "    .dataframe tbody tr th:only-of-type {\n",
              "        vertical-align: middle;\n",
              "    }\n",
              "\n",
              "    .dataframe tbody tr th {\n",
              "        vertical-align: top;\n",
              "    }\n",
              "\n",
              "    .dataframe thead th {\n",
              "        text-align: right;\n",
              "    }\n",
              "</style>\n",
              "<table border=\"1\" class=\"dataframe\">\n",
              "  <thead>\n",
              "    <tr style=\"text-align: right;\">\n",
              "      <th></th>\n",
              "      <th>Age</th>\n",
              "      <th>T_Bil</th>\n",
              "      <th>D_Bil</th>\n",
              "      <th>ALP</th>\n",
              "      <th>ALT_GPT</th>\n",
              "      <th>AST_GOT</th>\n",
              "      <th>TP</th>\n",
              "      <th>Alb</th>\n",
              "      <th>AG_ratio</th>\n",
              "    </tr>\n",
              "  </thead>\n",
              "  <tbody>\n",
              "    <tr>\n",
              "      <th>0</th>\n",
              "      <td>59</td>\n",
              "      <td>0.786886</td>\n",
              "      <td>0.150498</td>\n",
              "      <td>220.178691</td>\n",
              "      <td>13.467617</td>\n",
              "      <td>21.729246</td>\n",
              "      <td>6.815731</td>\n",
              "      <td>3.112276</td>\n",
              "      <td>1.006802</td>\n",
              "    </tr>\n",
              "    <tr>\n",
              "      <th>1</th>\n",
              "      <td>69</td>\n",
              "      <td>1.003987</td>\n",
              "      <td>0.195625</td>\n",
              "      <td>221.218413</td>\n",
              "      <td>51.033462</td>\n",
              "      <td>64.752323</td>\n",
              "      <td>6.889608</td>\n",
              "      <td>3.051521</td>\n",
              "      <td>0.751346</td>\n",
              "    </tr>\n",
              "    <tr>\n",
              "      <th>2</th>\n",
              "      <td>65</td>\n",
              "      <td>0.657140</td>\n",
              "      <td>0.081287</td>\n",
              "      <td>320.770533</td>\n",
              "      <td>12.625011</td>\n",
              "      <td>30.613180</td>\n",
              "      <td>5.947767</td>\n",
              "      <td>2.489167</td>\n",
              "      <td>0.774952</td>\n",
              "    </tr>\n",
              "    <tr>\n",
              "      <th>3</th>\n",
              "      <td>65</td>\n",
              "      <td>0.906822</td>\n",
              "      <td>0.214173</td>\n",
              "      <td>369.278160</td>\n",
              "      <td>34.347597</td>\n",
              "      <td>54.510085</td>\n",
              "      <td>6.967183</td>\n",
              "      <td>3.613837</td>\n",
              "      <td>0.988155</td>\n",
              "    </tr>\n",
              "    <tr>\n",
              "      <th>4</th>\n",
              "      <td>22</td>\n",
              "      <td>1.734959</td>\n",
              "      <td>0.197706</td>\n",
              "      <td>222.782025</td>\n",
              "      <td>20.572891</td>\n",
              "      <td>170.010177</td>\n",
              "      <td>5.837537</td>\n",
              "      <td>3.068697</td>\n",
              "      <td>1.026654</td>\n",
              "    </tr>\n",
              "  </tbody>\n",
              "</table>\n",
              "</div>\n",
              "      <button class=\"colab-df-convert\" onclick=\"convertToInteractive('df-3d270ef5-0661-4579-bd12-4d5512d25e86')\"\n",
              "              title=\"Convert this dataframe to an interactive table.\"\n",
              "              style=\"display:none;\">\n",
              "        \n",
              "  <svg xmlns=\"http://www.w3.org/2000/svg\" height=\"24px\"viewBox=\"0 0 24 24\"\n",
              "       width=\"24px\">\n",
              "    <path d=\"M0 0h24v24H0V0z\" fill=\"none\"/>\n",
              "    <path d=\"M18.56 5.44l.94 2.06.94-2.06 2.06-.94-2.06-.94-.94-2.06-.94 2.06-2.06.94zm-11 1L8.5 8.5l.94-2.06 2.06-.94-2.06-.94L8.5 2.5l-.94 2.06-2.06.94zm10 10l.94 2.06.94-2.06 2.06-.94-2.06-.94-.94-2.06-.94 2.06-2.06.94z\"/><path d=\"M17.41 7.96l-1.37-1.37c-.4-.4-.92-.59-1.43-.59-.52 0-1.04.2-1.43.59L10.3 9.45l-7.72 7.72c-.78.78-.78 2.05 0 2.83L4 21.41c.39.39.9.59 1.41.59.51 0 1.02-.2 1.41-.59l7.78-7.78 2.81-2.81c.8-.78.8-2.07 0-2.86zM5.41 20L4 18.59l7.72-7.72 1.47 1.35L5.41 20z\"/>\n",
              "  </svg>\n",
              "      </button>\n",
              "      \n",
              "  <style>\n",
              "    .colab-df-container {\n",
              "      display:flex;\n",
              "      flex-wrap:wrap;\n",
              "      gap: 12px;\n",
              "    }\n",
              "\n",
              "    .colab-df-convert {\n",
              "      background-color: #E8F0FE;\n",
              "      border: none;\n",
              "      border-radius: 50%;\n",
              "      cursor: pointer;\n",
              "      display: none;\n",
              "      fill: #1967D2;\n",
              "      height: 32px;\n",
              "      padding: 0 0 0 0;\n",
              "      width: 32px;\n",
              "    }\n",
              "\n",
              "    .colab-df-convert:hover {\n",
              "      background-color: #E2EBFA;\n",
              "      box-shadow: 0px 1px 2px rgba(60, 64, 67, 0.3), 0px 1px 3px 1px rgba(60, 64, 67, 0.15);\n",
              "      fill: #174EA6;\n",
              "    }\n",
              "\n",
              "    [theme=dark] .colab-df-convert {\n",
              "      background-color: #3B4455;\n",
              "      fill: #D2E3FC;\n",
              "    }\n",
              "\n",
              "    [theme=dark] .colab-df-convert:hover {\n",
              "      background-color: #434B5C;\n",
              "      box-shadow: 0px 1px 3px 1px rgba(0, 0, 0, 0.15);\n",
              "      filter: drop-shadow(0px 1px 2px rgba(0, 0, 0, 0.3));\n",
              "      fill: #FFFFFF;\n",
              "    }\n",
              "  </style>\n",
              "\n",
              "      <script>\n",
              "        const buttonEl =\n",
              "          document.querySelector('#df-3d270ef5-0661-4579-bd12-4d5512d25e86 button.colab-df-convert');\n",
              "        buttonEl.style.display =\n",
              "          google.colab.kernel.accessAllowed ? 'block' : 'none';\n",
              "\n",
              "        async function convertToInteractive(key) {\n",
              "          const element = document.querySelector('#df-3d270ef5-0661-4579-bd12-4d5512d25e86');\n",
              "          const dataTable =\n",
              "            await google.colab.kernel.invokeFunction('convertToInteractive',\n",
              "                                                     [key], {});\n",
              "          if (!dataTable) return;\n",
              "\n",
              "          const docLinkHtml = 'Like what you see? Visit the ' +\n",
              "            '<a target=\"_blank\" href=https://colab.research.google.com/notebooks/data_table.ipynb>data table notebook</a>'\n",
              "            + ' to learn more about interactive tables.';\n",
              "          element.innerHTML = '';\n",
              "          dataTable['output_type'] = 'display_data';\n",
              "          await google.colab.output.renderOutput(dataTable, element);\n",
              "          const docLink = document.createElement('div');\n",
              "          docLink.innerHTML = docLinkHtml;\n",
              "          element.appendChild(docLink);\n",
              "        }\n",
              "      </script>\n",
              "    </div>\n",
              "  </div>\n",
              "  "
            ]
          },
          "metadata": {},
          "execution_count": 32
        }
      ]
    },
    {
      "cell_type": "code",
      "source": [
        "# 学習データとテストデータを4:1で分離\n",
        "# from sklearn.model_selection import train_test_split\n",
        "# X_train, X_valid, y_train, y_valid = train_test_split(X, y, test_size=0.2, random_state=1)\n"
      ],
      "metadata": {
        "id": "B4l8n-gEhwi-"
      },
      "execution_count": null,
      "outputs": []
    },
    {
      "cell_type": "code",
      "source": [
        "# 精度計算\n",
        "def col_acc(y_pred, y_test):\n",
        "  total_acc = 0\n",
        "  for i in range(len(y_pred)):\n",
        "    if (y_pred[i] >0.5 and y_test[i]==1):\n",
        "      total_acc = total_acc+1\n",
        "    elif (y_pred[i] <=0.5 and y_test[i]==0):\n",
        "      total_acc = total_acc+1\n",
        "  acc = total_acc/len(y_pred)\n",
        "  return acc"
      ],
      "metadata": {
        "id": "5hZ2qRjSa6tK"
      },
      "execution_count": null,
      "outputs": []
    },
    {
      "cell_type": "code",
      "source": [
        "# Optunaによるハイパラ探索\n",
        "from sklearn.metrics import mean_absolute_error, accuracy_score\n",
        "from sklearn.model_selection import KFold\n",
        "import lightgbm as lgb\n",
        "import numpy as np\n",
        "import optuna\n",
        "\n",
        "# パラメータ\n",
        "FOLD         = 5\n",
        "NUM_ROUND    = 30000\n",
        "VERBOSE_EVAL = 10000\n",
        "SEED         = 42\n",
        "# categorical_list = ['Gender_enc']\n",
        "\n",
        "# Optunaを使ったハイパーパラメータ探索\n",
        "def objective(trial):\n",
        "    # LightGBMパラメータチューニング\n",
        "    params = {\n",
        "        'objective'       : 'binary',\n",
        "        'boosting_type'   : trial.suggest_categorical('boosting_type', ['gbdt', 'dart', 'goss']),  # default = gbdt\n",
        "        'num_leaves'      : trial.suggest_int('num_leaves', 10, 1000),                             # default = 31\n",
        "        'max_depth'       : -1,                                                                    # default = -1(上限なし)\n",
        "        'learning_rate   ': trial.suggest_loguniform('learning_rate', 1e-8, 1.0),                  # default = 0.1\n",
        "        'feature_fraction': 0.8,                                                                   # default = 1.0\n",
        "        'bagging_freq'    : 1,                                                                     # default = 0\n",
        "        'random_state'    : 0,                                                                     # default = None\n",
        "        'metric'          : trial.suggest_categorical('metrics', ['binary_logloss', 'rmse', 'auc']),  # default = 'binary_logloss',\n",
        "        'seed'            : SEED\n",
        "    }\n",
        "    \n",
        "    valid_scores = []\n",
        "    valid_acc    = []\n",
        "    # models       = []\n",
        "    result_data  = {}\n",
        "\n",
        "    # kFold交差検定で決定係数を算出し、各セットの平均値を返す\n",
        "    kf = KFold(n_splits=FOLD, shuffle=True, random_state=42)\n",
        "    for fold, (train_indices, valid_indices) in enumerate(kf.split(X)):\n",
        "        X_train, X_valid = X.iloc[train_indices], X.iloc[valid_indices] # 指定したindexで学習・評価データを分ける\n",
        "        y_train, y_valid = y.iloc[train_indices], y.iloc[valid_indices] \n",
        "\n",
        "        train_data = lgb.Dataset(X_train, y_train) \n",
        "        valid_data = lgb.Dataset(X_valid, y_valid)\n",
        "\n",
        "        model = lgb.train(\n",
        "            params = params,\n",
        "            train_set             = train_data,\n",
        "            valid_sets            = [train_data, valid_data],\n",
        "            categorical_feature   = categorical_list, # categorical_featureを設定\n",
        "            num_boost_round       = NUM_ROUND,\n",
        "            early_stopping_rounds = 5,\n",
        "            verbose_eval          = VERBOSE_EVAL,\n",
        "            evals_result          = result_data\n",
        "        )\n",
        "\n",
        "        y_valid_pred = model.predict(X_valid)\n",
        "        acc          = col_acc(y_pred=y_valid_pred, y_test=y_valid.to_numpy().squeeze())\n",
        "        valid_acc.append(acc)\n",
        "\n",
        "    cv_acc   = np.mean(valid_acc)\n",
        "    print('CV Accuracy: {}'.format(cv_acc))\n",
        "    return cv_acc\n",
        "\n",
        "study = optuna.create_study(direction='maximize')\n",
        "study.optimize(objective, n_trials=100)"
      ],
      "metadata": {
        "colab": {
          "base_uri": "https://localhost:8080/"
        },
        "id": "ycl2FN3cWeu_",
        "outputId": "45a6a072-7be5-4424-daf4-d60df131d051"
      },
      "execution_count": null,
      "outputs": [
        {
          "output_type": "stream",
          "name": "stderr",
          "text": [
            "\u001b[32m[I 2022-09-28 17:33:04,829]\u001b[0m A new study created in memory with name: no-name-3dc98caf-87a5-4cbe-b860-878649feea83\u001b[0m\n",
            "/usr/local/lib/python3.7/dist-packages/ipykernel_launcher.py:23: FutureWarning: suggest_loguniform has been deprecated in v3.0.0. This feature will be removed in v6.0.0. See https://github.com/optuna/optuna/releases/tag/v3.0.0. Use :func:`~optuna.trial.Trial.suggest_float` instead.\n",
            "/usr/local/lib/python3.7/dist-packages/lightgbm/callback.py:189: UserWarning: Early stopping is not available in dart mode\n",
            "  warnings.warn('Early stopping is not available in dart mode')\n"
          ]
        },
        {
          "output_type": "stream",
          "name": "stdout",
          "text": [
            "[10000]\ttraining's auc: 1\tvalid_1's auc: 0.96048\n",
            "[20000]\ttraining's auc: 1\tvalid_1's auc: 0.950286\n",
            "[30000]\ttraining's auc: 1\tvalid_1's auc: 0.939394\n",
            "[10000]\ttraining's auc: 1\tvalid_1's auc: 0.944149\n",
            "[20000]\ttraining's auc: 1\tvalid_1's auc: 0.93995\n",
            "[30000]\ttraining's auc: 1\tvalid_1's auc: 0.93561\n",
            "[10000]\ttraining's auc: 1\tvalid_1's auc: 0.912\n",
            "[20000]\ttraining's auc: 1\tvalid_1's auc: 0.897571\n",
            "[30000]\ttraining's auc: 1\tvalid_1's auc: 0.892571\n",
            "[10000]\ttraining's auc: 1\tvalid_1's auc: 0.95\n",
            "[20000]\ttraining's auc: 1\tvalid_1's auc: 0.946667\n",
            "[30000]\ttraining's auc: 1\tvalid_1's auc: 0.937639\n",
            "[10000]\ttraining's auc: 1\tvalid_1's auc: 0.936842\n",
            "[20000]\ttraining's auc: 1\tvalid_1's auc: 0.930667\n",
            "[30000]\ttraining's auc: 1\tvalid_1's auc: 0.929404\n"
          ]
        },
        {
          "output_type": "stream",
          "name": "stderr",
          "text": [
            "\u001b[32m[I 2022-09-28 17:41:59,333]\u001b[0m Trial 0 finished with value: 0.8447058823529412 and parameters: {'boosting_type': 'dart', 'num_leaves': 432, 'learning_rate': 0.00012137532031618813, 'metrics': 'auc'}. Best is trial 0 with value: 0.8447058823529412.\u001b[0m\n"
          ]
        },
        {
          "output_type": "stream",
          "name": "stdout",
          "text": [
            "CV Accuracy: 0.8447058823529412\n",
            "Training until validation scores don't improve for 5 rounds.\n",
            "Early stopping, best iteration is:\n",
            "[18]\ttraining's auc: 0.987031\tvalid_1's auc: 0.970814\n",
            "Training until validation scores don't improve for 5 rounds.\n",
            "Early stopping, best iteration is:\n",
            "[6]\ttraining's auc: 0.973028\tvalid_1's auc: 0.941419\n",
            "Training until validation scores don't improve for 5 rounds.\n"
          ]
        },
        {
          "output_type": "stream",
          "name": "stderr",
          "text": [
            "\u001b[32m[I 2022-09-28 17:41:59,707]\u001b[0m Trial 1 finished with value: 0.8623529411764705 and parameters: {'boosting_type': 'gbdt', 'num_leaves': 403, 'learning_rate': 2.7989899368324844e-08, 'metrics': 'auc'}. Best is trial 1 with value: 0.8623529411764705.\u001b[0m\n"
          ]
        },
        {
          "output_type": "stream",
          "name": "stdout",
          "text": [
            "Early stopping, best iteration is:\n",
            "[53]\ttraining's auc: 1\tvalid_1's auc: 0.933429\n",
            "Training until validation scores don't improve for 5 rounds.\n",
            "Early stopping, best iteration is:\n",
            "[33]\ttraining's auc: 0.997294\tvalid_1's auc: 0.944583\n",
            "Training until validation scores don't improve for 5 rounds.\n",
            "Early stopping, best iteration is:\n",
            "[14]\ttraining's auc: 0.985678\tvalid_1's auc: 0.924491\n",
            "CV Accuracy: 0.8623529411764705\n",
            "Training until validation scores don't improve for 5 rounds.\n",
            "Early stopping, best iteration is:\n",
            "[18]\ttraining's auc: 0.987031\tvalid_1's auc: 0.970814\n",
            "Training until validation scores don't improve for 5 rounds.\n",
            "Early stopping, best iteration is:\n",
            "[6]\ttraining's auc: 0.973028\tvalid_1's auc: 0.941419\n",
            "Training until validation scores don't improve for 5 rounds.\n",
            "Early stopping, best iteration is:\n",
            "[53]\ttraining's auc: 1\tvalid_1's auc: 0.933429\n"
          ]
        },
        {
          "output_type": "stream",
          "name": "stderr",
          "text": [
            "\u001b[32m[I 2022-09-28 17:42:00,111]\u001b[0m Trial 2 finished with value: 0.8623529411764705 and parameters: {'boosting_type': 'gbdt', 'num_leaves': 492, 'learning_rate': 8.574513077004163e-06, 'metrics': 'auc'}. Best is trial 1 with value: 0.8623529411764705.\u001b[0m\n"
          ]
        },
        {
          "output_type": "stream",
          "name": "stdout",
          "text": [
            "Training until validation scores don't improve for 5 rounds.\n",
            "Early stopping, best iteration is:\n",
            "[33]\ttraining's auc: 0.997294\tvalid_1's auc: 0.944583\n",
            "Training until validation scores don't improve for 5 rounds.\n",
            "Early stopping, best iteration is:\n",
            "[14]\ttraining's auc: 0.985678\tvalid_1's auc: 0.924491\n",
            "CV Accuracy: 0.8623529411764705\n",
            "[10000]\ttraining's rmse: 1.64468e-05\tvalid_1's rmse: 0.345962\n",
            "[20000]\ttraining's rmse: 1.33943e-05\tvalid_1's rmse: 0.363681\n",
            "[30000]\ttraining's rmse: 1.32571e-05\tvalid_1's rmse: 0.370297\n",
            "[10000]\ttraining's rmse: 1.62569e-05\tvalid_1's rmse: 0.325069\n",
            "[20000]\ttraining's rmse: 1.33838e-05\tvalid_1's rmse: 0.313566\n",
            "[30000]\ttraining's rmse: 1.30807e-05\tvalid_1's rmse: 0.327292\n",
            "[10000]\ttraining's rmse: 1.58901e-05\tvalid_1's rmse: 0.390777\n",
            "[20000]\ttraining's rmse: 1.34455e-05\tvalid_1's rmse: 0.420894\n",
            "[30000]\ttraining's rmse: 1.29568e-05\tvalid_1's rmse: 0.432442\n",
            "[10000]\ttraining's rmse: 1.60479e-05\tvalid_1's rmse: 0.322211\n",
            "[20000]\ttraining's rmse: 1.32317e-05\tvalid_1's rmse: 0.325571\n",
            "[30000]\ttraining's rmse: 1.28376e-05\tvalid_1's rmse: 0.329546\n",
            "[10000]\ttraining's rmse: 1.6072e-05\tvalid_1's rmse: 0.37463\n",
            "[20000]\ttraining's rmse: 1.29975e-05\tvalid_1's rmse: 0.387513\n",
            "[30000]\ttraining's rmse: 1.26411e-05\tvalid_1's rmse: 0.400217\n"
          ]
        },
        {
          "output_type": "stream",
          "name": "stderr",
          "text": [
            "\u001b[32m[I 2022-09-28 17:50:01,633]\u001b[0m Trial 3 finished with value: 0.8447058823529412 and parameters: {'boosting_type': 'dart', 'num_leaves': 445, 'learning_rate': 3.6658781972651983e-07, 'metrics': 'rmse'}. Best is trial 1 with value: 0.8623529411764705.\u001b[0m\n"
          ]
        },
        {
          "output_type": "stream",
          "name": "stdout",
          "text": [
            "CV Accuracy: 0.8447058823529412\n",
            "Training until validation scores don't improve for 5 rounds.\n",
            "Early stopping, best iteration is:\n",
            "[22]\ttraining's rmse: 0.235164\tvalid_1's rmse: 0.283599\n",
            "Training until validation scores don't improve for 5 rounds.\n",
            "Early stopping, best iteration is:\n",
            "[40]\ttraining's rmse: 0.162495\tvalid_1's rmse: 0.309168\n",
            "Training until validation scores don't improve for 5 rounds.\n",
            "Early stopping, best iteration is:\n",
            "[43]\ttraining's rmse: 0.140618\tvalid_1's rmse: 0.329088\n",
            "Training until validation scores don't improve for 5 rounds.\n",
            "Early stopping, best iteration is:\n",
            "[69]\ttraining's rmse: 0.0738259\tvalid_1's rmse: 0.293925\n",
            "Training until validation scores don't improve for 5 rounds.\n"
          ]
        },
        {
          "output_type": "stream",
          "name": "stderr",
          "text": [
            "\u001b[32m[I 2022-09-28 17:50:02,090]\u001b[0m Trial 4 finished with value: 0.8694117647058823 and parameters: {'boosting_type': 'gbdt', 'num_leaves': 41, 'learning_rate': 0.011395709751916889, 'metrics': 'rmse'}. Best is trial 4 with value: 0.8694117647058823.\u001b[0m\n"
          ]
        },
        {
          "output_type": "stream",
          "name": "stdout",
          "text": [
            "Early stopping, best iteration is:\n",
            "[39]\ttraining's rmse: 0.160351\tvalid_1's rmse: 0.3212\n",
            "CV Accuracy: 0.8694117647058823\n",
            "Training until validation scores don't improve for 5 rounds.\n",
            "Early stopping, best iteration is:\n",
            "[48]\ttraining's binary_logloss: 0.0950491\tvalid_1's binary_logloss: 0.249261\n",
            "Training until validation scores don't improve for 5 rounds.\n",
            "Early stopping, best iteration is:\n",
            "[40]\ttraining's binary_logloss: 0.119626\tvalid_1's binary_logloss: 0.298327\n",
            "Training until validation scores don't improve for 5 rounds.\n",
            "Early stopping, best iteration is:\n",
            "[42]\ttraining's binary_logloss: 0.101339\tvalid_1's binary_logloss: 0.351179\n",
            "Training until validation scores don't improve for 5 rounds.\n"
          ]
        },
        {
          "output_type": "stream",
          "name": "stderr",
          "text": [
            "\u001b[32m[I 2022-09-28 17:50:02,665]\u001b[0m Trial 5 finished with value: 0.8658823529411764 and parameters: {'boosting_type': 'gbdt', 'num_leaves': 654, 'learning_rate': 9.337983491373269e-05, 'metrics': 'binary_logloss'}. Best is trial 4 with value: 0.8694117647058823.\u001b[0m\n"
          ]
        },
        {
          "output_type": "stream",
          "name": "stdout",
          "text": [
            "Early stopping, best iteration is:\n",
            "[59]\ttraining's binary_logloss: 0.0633748\tvalid_1's binary_logloss: 0.291879\n",
            "Training until validation scores don't improve for 5 rounds.\n",
            "Early stopping, best iteration is:\n",
            "[39]\ttraining's binary_logloss: 0.119211\tvalid_1's binary_logloss: 0.318757\n",
            "CV Accuracy: 0.8658823529411764\n",
            "Training until validation scores don't improve for 5 rounds.\n",
            "Early stopping, best iteration is:\n",
            "[29]\ttraining's rmse: 0.202664\tvalid_1's rmse: 0.278989\n",
            "Training until validation scores don't improve for 5 rounds.\n"
          ]
        },
        {
          "output_type": "stream",
          "name": "stderr",
          "text": [
            "\u001b[32m[I 2022-09-28 17:50:02,936]\u001b[0m Trial 6 finished with value: 0.8670588235294117 and parameters: {'boosting_type': 'gbdt', 'num_leaves': 21, 'learning_rate': 9.589570100419882e-08, 'metrics': 'rmse'}. Best is trial 4 with value: 0.8694117647058823.\u001b[0m\n"
          ]
        },
        {
          "output_type": "stream",
          "name": "stdout",
          "text": [
            "Early stopping, best iteration is:\n",
            "[33]\ttraining's rmse: 0.186629\tvalid_1's rmse: 0.313992\n",
            "Training until validation scores don't improve for 5 rounds.\n",
            "Early stopping, best iteration is:\n",
            "[55]\ttraining's rmse: 0.106984\tvalid_1's rmse: 0.328257\n",
            "Training until validation scores don't improve for 5 rounds.\n",
            "Early stopping, best iteration is:\n",
            "[48]\ttraining's rmse: 0.135916\tvalid_1's rmse: 0.296164\n",
            "Training until validation scores don't improve for 5 rounds.\n",
            "Early stopping, best iteration is:\n",
            "[25]\ttraining's rmse: 0.213388\tvalid_1's rmse: 0.328506\n",
            "CV Accuracy: 0.8670588235294117\n",
            "Training until validation scores don't improve for 5 rounds.\n",
            "Early stopping, best iteration is:\n",
            "[46]\ttraining's binary_logloss: 0.195751\tvalid_1's binary_logloss: 0.259764\n",
            "Training until validation scores don't improve for 5 rounds.\n",
            "Early stopping, best iteration is:\n",
            "[103]\ttraining's binary_logloss: 0.119822\tvalid_1's binary_logloss: 0.274184\n",
            "Training until validation scores don't improve for 5 rounds.\n",
            "Early stopping, best iteration is:\n",
            "[54]\ttraining's binary_logloss: 0.164262\tvalid_1's binary_logloss: 0.382694\n",
            "Training until validation scores don't improve for 5 rounds.\n"
          ]
        },
        {
          "output_type": "stream",
          "name": "stderr",
          "text": [
            "\u001b[32m[I 2022-09-28 17:50:03,540]\u001b[0m Trial 7 finished with value: 0.8670588235294119 and parameters: {'boosting_type': 'goss', 'num_leaves': 964, 'learning_rate': 0.0542124895205434, 'metrics': 'binary_logloss'}. Best is trial 4 with value: 0.8694117647058823.\u001b[0m\n"
          ]
        },
        {
          "output_type": "stream",
          "name": "stdout",
          "text": [
            "Early stopping, best iteration is:\n",
            "[55]\ttraining's binary_logloss: 0.16957\tvalid_1's binary_logloss: 0.305775\n",
            "Training until validation scores don't improve for 5 rounds.\n",
            "Early stopping, best iteration is:\n",
            "[51]\ttraining's binary_logloss: 0.174768\tvalid_1's binary_logloss: 0.32985\n",
            "CV Accuracy: 0.8670588235294119\n",
            "Training until validation scores don't improve for 5 rounds.\n",
            "Early stopping, best iteration is:\n",
            "[46]\ttraining's binary_logloss: 0.195751\tvalid_1's binary_logloss: 0.259764\n",
            "Training until validation scores don't improve for 5 rounds.\n",
            "Early stopping, best iteration is:\n",
            "[103]\ttraining's binary_logloss: 0.119822\tvalid_1's binary_logloss: 0.274184\n",
            "Training until validation scores don't improve for 5 rounds.\n",
            "Early stopping, best iteration is:\n",
            "[54]\ttraining's binary_logloss: 0.164262\tvalid_1's binary_logloss: 0.382694\n",
            "Training until validation scores don't improve for 5 rounds.\n"
          ]
        },
        {
          "output_type": "stream",
          "name": "stderr",
          "text": [
            "\u001b[32m[I 2022-09-28 17:50:04,004]\u001b[0m Trial 8 finished with value: 0.8670588235294119 and parameters: {'boosting_type': 'goss', 'num_leaves': 316, 'learning_rate': 0.05098056084660112, 'metrics': 'binary_logloss'}. Best is trial 4 with value: 0.8694117647058823.\u001b[0m\n"
          ]
        },
        {
          "output_type": "stream",
          "name": "stdout",
          "text": [
            "Early stopping, best iteration is:\n",
            "[55]\ttraining's binary_logloss: 0.16957\tvalid_1's binary_logloss: 0.305775\n",
            "Training until validation scores don't improve for 5 rounds.\n",
            "Early stopping, best iteration is:\n",
            "[51]\ttraining's binary_logloss: 0.174768\tvalid_1's binary_logloss: 0.32985\n",
            "CV Accuracy: 0.8670588235294119\n",
            "Training until validation scores don't improve for 5 rounds.\n",
            "Early stopping, best iteration is:\n",
            "[48]\ttraining's binary_logloss: 0.0950491\tvalid_1's binary_logloss: 0.249261\n",
            "Training until validation scores don't improve for 5 rounds.\n",
            "Early stopping, best iteration is:\n",
            "[40]\ttraining's binary_logloss: 0.119626\tvalid_1's binary_logloss: 0.298327\n",
            "Training until validation scores don't improve for 5 rounds.\n",
            "Early stopping, best iteration is:\n",
            "[42]\ttraining's binary_logloss: 0.101339\tvalid_1's binary_logloss: 0.351179\n",
            "Training until validation scores don't improve for 5 rounds.\n",
            "Early stopping, best iteration is:\n",
            "[59]\ttraining's binary_logloss: 0.0633748\tvalid_1's binary_logloss: 0.291879\n",
            "Training until validation scores don't improve for 5 rounds.\n",
            "Early stopping, best iteration is:\n",
            "[39]\ttraining's binary_logloss: 0.119211\tvalid_1's binary_logloss: 0.318757\n",
            "CV Accuracy: 0.8658823529411764"
          ]
        },
        {
          "output_type": "stream",
          "name": "stderr",
          "text": [
            "\u001b[32m[I 2022-09-28 17:50:04,586]\u001b[0m Trial 9 finished with value: 0.8658823529411764 and parameters: {'boosting_type': 'gbdt', 'num_leaves': 756, 'learning_rate': 0.09757889903363487, 'metrics': 'binary_logloss'}. Best is trial 4 with value: 0.8694117647058823.\u001b[0m\n"
          ]
        },
        {
          "output_type": "stream",
          "name": "stdout",
          "text": [
            "\n",
            "[10000]\ttraining's rmse: 1.66611e-05\tvalid_1's rmse: 0.348437\n",
            "[20000]\ttraining's rmse: 1.34197e-05\tvalid_1's rmse: 0.361596\n",
            "[30000]\ttraining's rmse: 1.31827e-05\tvalid_1's rmse: 0.370001\n",
            "[10000]\ttraining's rmse: 1.63116e-05\tvalid_1's rmse: 0.32856\n",
            "[20000]\ttraining's rmse: 1.334e-05\tvalid_1's rmse: 0.317839\n",
            "[30000]\ttraining's rmse: 1.31901e-05\tvalid_1's rmse: 0.334845\n",
            "[10000]\ttraining's rmse: 1.5701e-05\tvalid_1's rmse: 0.388841\n",
            "[20000]\ttraining's rmse: 1.34328e-05\tvalid_1's rmse: 0.41506\n",
            "[30000]\ttraining's rmse: 1.28316e-05\tvalid_1's rmse: 0.425044\n",
            "[10000]\ttraining's rmse: 1.59269e-05\tvalid_1's rmse: 0.321975\n",
            "[20000]\ttraining's rmse: 1.31802e-05\tvalid_1's rmse: 0.329638\n",
            "[30000]\ttraining's rmse: 1.30364e-05\tvalid_1's rmse: 0.333342\n",
            "[10000]\ttraining's rmse: 1.62981e-05\tvalid_1's rmse: 0.371233\n",
            "[20000]\ttraining's rmse: 1.30343e-05\tvalid_1's rmse: 0.388345\n",
            "[30000]\ttraining's rmse: 1.26388e-05\tvalid_1's rmse: 0.398518\n"
          ]
        },
        {
          "output_type": "stream",
          "name": "stderr",
          "text": [
            "\u001b[32m[I 2022-09-28 17:57:46,792]\u001b[0m Trial 10 finished with value: 0.8482352941176471 and parameters: {'boosting_type': 'dart', 'num_leaves': 28, 'learning_rate': 0.0010221111977549474, 'metrics': 'rmse'}. Best is trial 4 with value: 0.8694117647058823.\u001b[0m\n"
          ]
        },
        {
          "output_type": "stream",
          "name": "stdout",
          "text": [
            "CV Accuracy: 0.8482352941176471\n",
            "Training until validation scores don't improve for 5 rounds.\n",
            "Early stopping, best iteration is:\n",
            "[46]\ttraining's binary_logloss: 0.195751\tvalid_1's binary_logloss: 0.259764\n",
            "Training until validation scores don't improve for 5 rounds.\n",
            "Early stopping, best iteration is:\n",
            "[103]\ttraining's binary_logloss: 0.119822\tvalid_1's binary_logloss: 0.274184\n",
            "Training until validation scores don't improve for 5 rounds.\n",
            "Early stopping, best iteration is:\n",
            "[54]\ttraining's binary_logloss: 0.164262\tvalid_1's binary_logloss: 0.382694\n",
            "Training until validation scores don't improve for 5 rounds.\n"
          ]
        },
        {
          "output_type": "stream",
          "name": "stderr",
          "text": [
            "\u001b[32m[I 2022-09-28 17:57:47,382]\u001b[0m Trial 11 finished with value: 0.8670588235294119 and parameters: {'boosting_type': 'goss', 'num_leaves': 994, 'learning_rate': 0.7461319032155574, 'metrics': 'binary_logloss'}. Best is trial 4 with value: 0.8694117647058823.\u001b[0m\n"
          ]
        },
        {
          "output_type": "stream",
          "name": "stdout",
          "text": [
            "Early stopping, best iteration is:\n",
            "[55]\ttraining's binary_logloss: 0.16957\tvalid_1's binary_logloss: 0.305775\n",
            "Training until validation scores don't improve for 5 rounds.\n",
            "Early stopping, best iteration is:\n",
            "[51]\ttraining's binary_logloss: 0.174768\tvalid_1's binary_logloss: 0.32985\n",
            "CV Accuracy: 0.8670588235294119\n",
            "Training until validation scores don't improve for 5 rounds.\n",
            "Early stopping, best iteration is:\n",
            "[42]\ttraining's rmse: 0.233621\tvalid_1's rmse: 0.279653\n",
            "Training until validation scores don't improve for 5 rounds.\n",
            "Early stopping, best iteration is:\n",
            "[32]\ttraining's rmse: 0.247861\tvalid_1's rmse: 0.314936\n",
            "Training until validation scores don't improve for 5 rounds.\n",
            "Early stopping, best iteration is:\n",
            "[54]\ttraining's rmse: 0.205553\tvalid_1's rmse: 0.342989\n"
          ]
        },
        {
          "output_type": "stream",
          "name": "stderr",
          "text": [
            "\u001b[32m[I 2022-09-28 17:57:47,844]\u001b[0m Trial 12 finished with value: 0.8611764705882354 and parameters: {'boosting_type': 'goss', 'num_leaves': 983, 'learning_rate': 0.006931596280383355, 'metrics': 'rmse'}. Best is trial 4 with value: 0.8694117647058823.\u001b[0m\n"
          ]
        },
        {
          "output_type": "stream",
          "name": "stdout",
          "text": [
            "Training until validation scores don't improve for 5 rounds.\n",
            "Early stopping, best iteration is:\n",
            "[34]\ttraining's rmse: 0.238421\tvalid_1's rmse: 0.312463\n",
            "Training until validation scores don't improve for 5 rounds.\n",
            "Early stopping, best iteration is:\n",
            "[45]\ttraining's rmse: 0.220642\tvalid_1's rmse: 0.325424\n",
            "CV Accuracy: 0.8611764705882354\n",
            "Training until validation scores don't improve for 5 rounds.\n",
            "Early stopping, best iteration is:\n",
            "[46]\ttraining's binary_logloss: 0.195751\tvalid_1's binary_logloss: 0.259764\n",
            "Training until validation scores don't improve for 5 rounds.\n",
            "Early stopping, best iteration is:\n",
            "[103]\ttraining's binary_logloss: 0.119822\tvalid_1's binary_logloss: 0.274184\n",
            "Training until validation scores don't improve for 5 rounds.\n"
          ]
        },
        {
          "output_type": "stream",
          "name": "stderr",
          "text": [
            "\u001b[32m[I 2022-09-28 17:57:48,364]\u001b[0m Trial 13 finished with value: 0.8670588235294119 and parameters: {'boosting_type': 'goss', 'num_leaves': 178, 'learning_rate': 0.008119219058882616, 'metrics': 'binary_logloss'}. Best is trial 4 with value: 0.8694117647058823.\u001b[0m\n"
          ]
        },
        {
          "output_type": "stream",
          "name": "stdout",
          "text": [
            "Early stopping, best iteration is:\n",
            "[54]\ttraining's binary_logloss: 0.164262\tvalid_1's binary_logloss: 0.382694\n",
            "Training until validation scores don't improve for 5 rounds.\n",
            "Early stopping, best iteration is:\n",
            "[55]\ttraining's binary_logloss: 0.16957\tvalid_1's binary_logloss: 0.305775\n",
            "Training until validation scores don't improve for 5 rounds.\n",
            "Early stopping, best iteration is:\n",
            "[51]\ttraining's binary_logloss: 0.174768\tvalid_1's binary_logloss: 0.32985\n",
            "CV Accuracy: 0.8670588235294119\n",
            "Training until validation scores don't improve for 5 rounds.\n",
            "Early stopping, best iteration is:\n",
            "[42]\ttraining's rmse: 0.233621\tvalid_1's rmse: 0.279653\n",
            "Training until validation scores don't improve for 5 rounds.\n",
            "Early stopping, best iteration is:\n",
            "[32]\ttraining's rmse: 0.247861\tvalid_1's rmse: 0.314936\n",
            "Training until validation scores don't improve for 5 rounds.\n"
          ]
        },
        {
          "output_type": "stream",
          "name": "stderr",
          "text": [
            "\u001b[32m[I 2022-09-28 17:57:48,816]\u001b[0m Trial 14 finished with value: 0.8611764705882354 and parameters: {'boosting_type': 'goss', 'num_leaves': 738, 'learning_rate': 0.42096022094806734, 'metrics': 'rmse'}. Best is trial 4 with value: 0.8694117647058823.\u001b[0m\n"
          ]
        },
        {
          "output_type": "stream",
          "name": "stdout",
          "text": [
            "Early stopping, best iteration is:\n",
            "[54]\ttraining's rmse: 0.205553\tvalid_1's rmse: 0.342989\n",
            "Training until validation scores don't improve for 5 rounds.\n",
            "Early stopping, best iteration is:\n",
            "[34]\ttraining's rmse: 0.238421\tvalid_1's rmse: 0.312463\n",
            "Training until validation scores don't improve for 5 rounds.\n",
            "Early stopping, best iteration is:\n",
            "[45]\ttraining's rmse: 0.220642\tvalid_1's rmse: 0.325424\n",
            "CV Accuracy: 0.8611764705882354\n",
            "Training until validation scores don't improve for 5 rounds.\n",
            "Early stopping, best iteration is:\n",
            "[48]\ttraining's binary_logloss: 0.0950491\tvalid_1's binary_logloss: 0.249261\n",
            "Training until validation scores don't improve for 5 rounds.\n",
            "Early stopping, best iteration is:\n",
            "[40]\ttraining's binary_logloss: 0.119626\tvalid_1's binary_logloss: 0.298327\n",
            "Training until validation scores don't improve for 5 rounds.\n",
            "Early stopping, best iteration is:\n",
            "[42]\ttraining's binary_logloss: 0.101339\tvalid_1's binary_logloss: 0.351179\n",
            "Training until validation scores don't improve for 5 rounds.\n"
          ]
        },
        {
          "output_type": "stream",
          "name": "stderr",
          "text": [
            "\u001b[32m[I 2022-09-28 17:57:49,397]\u001b[0m Trial 15 finished with value: 0.8658823529411764 and parameters: {'boosting_type': 'gbdt', 'num_leaves': 221, 'learning_rate': 0.004578433952011531, 'metrics': 'binary_logloss'}. Best is trial 4 with value: 0.8694117647058823.\u001b[0m\n"
          ]
        },
        {
          "output_type": "stream",
          "name": "stdout",
          "text": [
            "Early stopping, best iteration is:\n",
            "[59]\ttraining's binary_logloss: 0.0633748\tvalid_1's binary_logloss: 0.291879\n",
            "Training until validation scores don't improve for 5 rounds.\n",
            "Early stopping, best iteration is:\n",
            "[39]\ttraining's binary_logloss: 0.119211\tvalid_1's binary_logloss: 0.318757\n",
            "CV Accuracy: 0.8658823529411764\n",
            "Training until validation scores don't improve for 5 rounds.\n",
            "Early stopping, best iteration is:\n",
            "[42]\ttraining's rmse: 0.233621\tvalid_1's rmse: 0.279653\n",
            "Training until validation scores don't improve for 5 rounds.\n",
            "Early stopping, best iteration is:\n",
            "[32]\ttraining's rmse: 0.247861\tvalid_1's rmse: 0.314936\n",
            "Training until validation scores don't improve for 5 rounds.\n",
            "Early stopping, best iteration is:\n",
            "[54]\ttraining's rmse: 0.205553\tvalid_1's rmse: 0.342989\n",
            "Training until validation scores don't improve for 5 rounds.\n"
          ]
        },
        {
          "output_type": "stream",
          "name": "stderr",
          "text": [
            "\u001b[32m[I 2022-09-28 17:57:49,831]\u001b[0m Trial 16 finished with value: 0.8611764705882354 and parameters: {'boosting_type': 'goss', 'num_leaves': 615, 'learning_rate': 0.0005113482994885188, 'metrics': 'rmse'}. Best is trial 4 with value: 0.8694117647058823.\u001b[0m\n"
          ]
        },
        {
          "output_type": "stream",
          "name": "stdout",
          "text": [
            "Early stopping, best iteration is:\n",
            "[34]\ttraining's rmse: 0.238421\tvalid_1's rmse: 0.312463\n",
            "Training until validation scores don't improve for 5 rounds.\n",
            "Early stopping, best iteration is:\n",
            "[45]\ttraining's rmse: 0.220642\tvalid_1's rmse: 0.325424\n",
            "CV Accuracy: 0.8611764705882354\n",
            "Training until validation scores don't improve for 5 rounds.\n",
            "Early stopping, best iteration is:\n",
            "[42]\ttraining's rmse: 0.233621\tvalid_1's rmse: 0.279653\n",
            "Training until validation scores don't improve for 5 rounds.\n",
            "Early stopping, best iteration is:\n",
            "[32]\ttraining's rmse: 0.247861\tvalid_1's rmse: 0.314936\n",
            "Training until validation scores don't improve for 5 rounds.\n",
            "Early stopping, best iteration is:\n",
            "[54]\ttraining's rmse: 0.205553\tvalid_1's rmse: 0.342989\n",
            "Training until validation scores don't improve for 5 rounds.\n"
          ]
        },
        {
          "output_type": "stream",
          "name": "stderr",
          "text": [
            "\u001b[32m[I 2022-09-28 17:57:50,248]\u001b[0m Trial 17 finished with value: 0.8611764705882354 and parameters: {'boosting_type': 'goss', 'num_leaves': 282, 'learning_rate': 0.04980768020707345, 'metrics': 'rmse'}. Best is trial 4 with value: 0.8694117647058823.\u001b[0m\n"
          ]
        },
        {
          "output_type": "stream",
          "name": "stdout",
          "text": [
            "Early stopping, best iteration is:\n",
            "[34]\ttraining's rmse: 0.238421\tvalid_1's rmse: 0.312463\n",
            "Training until validation scores don't improve for 5 rounds.\n",
            "Early stopping, best iteration is:\n",
            "[45]\ttraining's rmse: 0.220642\tvalid_1's rmse: 0.325424\n",
            "CV Accuracy: 0.8611764705882354\n",
            "Training until validation scores don't improve for 5 rounds.\n",
            "Early stopping, best iteration is:\n",
            "[48]\ttraining's binary_logloss: 0.0950491\tvalid_1's binary_logloss: 0.249261\n",
            "Training until validation scores don't improve for 5 rounds.\n",
            "Early stopping, best iteration is:\n",
            "[40]\ttraining's binary_logloss: 0.119626\tvalid_1's binary_logloss: 0.298327\n",
            "Training until validation scores don't improve for 5 rounds.\n",
            "Early stopping, best iteration is:\n",
            "[42]\ttraining's binary_logloss: 0.101339\tvalid_1's binary_logloss: 0.351179\n",
            "Training until validation scores don't improve for 5 rounds.\n"
          ]
        },
        {
          "output_type": "stream",
          "name": "stderr",
          "text": [
            "\u001b[32m[I 2022-09-28 17:57:50,774]\u001b[0m Trial 18 finished with value: 0.8658823529411764 and parameters: {'boosting_type': 'gbdt', 'num_leaves': 114, 'learning_rate': 7.977053469709507e-06, 'metrics': 'binary_logloss'}. Best is trial 4 with value: 0.8694117647058823.\u001b[0m\n"
          ]
        },
        {
          "output_type": "stream",
          "name": "stdout",
          "text": [
            "Early stopping, best iteration is:\n",
            "[59]\ttraining's binary_logloss: 0.0633748\tvalid_1's binary_logloss: 0.291879\n",
            "Training until validation scores don't improve for 5 rounds.\n",
            "Early stopping, best iteration is:\n",
            "[39]\ttraining's binary_logloss: 0.119211\tvalid_1's binary_logloss: 0.318757\n",
            "CV Accuracy: 0.8658823529411764\n",
            "[10000]\ttraining's auc: 1\tvalid_1's auc: 0.96048\n",
            "[20000]\ttraining's auc: 1\tvalid_1's auc: 0.950286\n",
            "[30000]\ttraining's auc: 1\tvalid_1's auc: 0.939394\n",
            "[10000]\ttraining's auc: 1\tvalid_1's auc: 0.944149\n",
            "[20000]\ttraining's auc: 1\tvalid_1's auc: 0.93995\n",
            "[30000]\ttraining's auc: 1\tvalid_1's auc: 0.93561\n",
            "[10000]\ttraining's auc: 1\tvalid_1's auc: 0.912\n",
            "[20000]\ttraining's auc: 1\tvalid_1's auc: 0.897571\n",
            "[30000]\ttraining's auc: 1\tvalid_1's auc: 0.892571\n",
            "[10000]\ttraining's auc: 1\tvalid_1's auc: 0.95\n",
            "[20000]\ttraining's auc: 1\tvalid_1's auc: 0.946667\n",
            "[30000]\ttraining's auc: 1\tvalid_1's auc: 0.937639\n",
            "[10000]\ttraining's auc: 1\tvalid_1's auc: 0.936842\n",
            "[20000]\ttraining's auc: 1\tvalid_1's auc: 0.930667\n",
            "[30000]\ttraining's auc: 1\tvalid_1's auc: 0.929404\n"
          ]
        },
        {
          "output_type": "stream",
          "name": "stderr",
          "text": [
            "\u001b[32m[I 2022-09-28 18:05:49,805]\u001b[0m Trial 19 finished with value: 0.8447058823529412 and parameters: {'boosting_type': 'dart', 'num_leaves': 165, 'learning_rate': 0.005537955309556196, 'metrics': 'auc'}. Best is trial 4 with value: 0.8694117647058823.\u001b[0m\n"
          ]
        },
        {
          "output_type": "stream",
          "name": "stdout",
          "text": [
            "CV Accuracy: 0.8447058823529412\n",
            "Training until validation scores don't improve for 5 rounds.\n",
            "Early stopping, best iteration is:\n",
            "[42]\ttraining's rmse: 0.233621\tvalid_1's rmse: 0.279653\n",
            "Training until validation scores don't improve for 5 rounds.\n",
            "Early stopping, best iteration is:\n",
            "[32]\ttraining's rmse: 0.247861\tvalid_1's rmse: 0.314936\n",
            "Training until validation scores don't improve for 5 rounds.\n",
            "Early stopping, best iteration is:\n",
            "[54]\ttraining's rmse: 0.205553\tvalid_1's rmse: 0.342989\n",
            "Training until validation scores don't improve for 5 rounds.\n",
            "Early stopping, best iteration is:\n",
            "[34]\ttraining's rmse: 0.238421\tvalid_1's rmse: 0.312463\n",
            "Training until validation scores don't improve for 5 rounds.\n"
          ]
        },
        {
          "output_type": "stream",
          "name": "stderr",
          "text": [
            "\u001b[32m[I 2022-09-28 18:05:50,200]\u001b[0m Trial 20 finished with value: 0.8611764705882354 and parameters: {'boosting_type': 'goss', 'num_leaves': 347, 'learning_rate': 0.17464766157728856, 'metrics': 'rmse'}. Best is trial 4 with value: 0.8694117647058823.\u001b[0m\n"
          ]
        },
        {
          "output_type": "stream",
          "name": "stdout",
          "text": [
            "Early stopping, best iteration is:\n",
            "[45]\ttraining's rmse: 0.220642\tvalid_1's rmse: 0.325424\n",
            "CV Accuracy: 0.8611764705882354\n",
            "Training until validation scores don't improve for 5 rounds.\n",
            "Early stopping, best iteration is:\n",
            "[46]\ttraining's binary_logloss: 0.195751\tvalid_1's binary_logloss: 0.259764\n",
            "Training until validation scores don't improve for 5 rounds.\n",
            "Early stopping, best iteration is:\n",
            "[103]\ttraining's binary_logloss: 0.119822\tvalid_1's binary_logloss: 0.274184\n",
            "Training until validation scores don't improve for 5 rounds.\n",
            "Early stopping, best iteration is:\n",
            "[54]\ttraining's binary_logloss: 0.164262\tvalid_1's binary_logloss: 0.382694\n",
            "Training until validation scores don't improve for 5 rounds.\n",
            "Early stopping, best iteration is:\n",
            "[55]\ttraining's binary_logloss: 0.16957\tvalid_1's binary_logloss: 0.305775\n"
          ]
        },
        {
          "output_type": "stream",
          "name": "stderr",
          "text": [
            "\u001b[32m[I 2022-09-28 18:05:50,718]\u001b[0m Trial 21 finished with value: 0.8670588235294119 and parameters: {'boosting_type': 'goss', 'num_leaves': 818, 'learning_rate': 0.05676565630866211, 'metrics': 'binary_logloss'}. Best is trial 4 with value: 0.8694117647058823.\u001b[0m\n"
          ]
        },
        {
          "output_type": "stream",
          "name": "stdout",
          "text": [
            "Training until validation scores don't improve for 5 rounds.\n",
            "Early stopping, best iteration is:\n",
            "[51]\ttraining's binary_logloss: 0.174768\tvalid_1's binary_logloss: 0.32985\n",
            "CV Accuracy: 0.8670588235294119\n",
            "Training until validation scores don't improve for 5 rounds.\n",
            "Early stopping, best iteration is:\n",
            "[46]\ttraining's binary_logloss: 0.195751\tvalid_1's binary_logloss: 0.259764\n",
            "Training until validation scores don't improve for 5 rounds.\n",
            "Early stopping, best iteration is:\n",
            "[103]\ttraining's binary_logloss: 0.119822\tvalid_1's binary_logloss: 0.274184\n",
            "Training until validation scores don't improve for 5 rounds.\n",
            "Early stopping, best iteration is:\n",
            "[54]\ttraining's binary_logloss: 0.164262\tvalid_1's binary_logloss: 0.382694\n",
            "Training until validation scores don't improve for 5 rounds.\n",
            "Early stopping, best iteration is:\n",
            "[55]\ttraining's binary_logloss: 0.16957\tvalid_1's binary_logloss: 0.305775\n",
            "Training until validation scores don't improve for 5 rounds.\n"
          ]
        },
        {
          "output_type": "stream",
          "name": "stderr",
          "text": [
            "\u001b[32m[I 2022-09-28 18:05:51,222]\u001b[0m Trial 22 finished with value: 0.8670588235294119 and parameters: {'boosting_type': 'goss', 'num_leaves': 114, 'learning_rate': 0.01216778633893855, 'metrics': 'binary_logloss'}. Best is trial 4 with value: 0.8694117647058823.\u001b[0m\n"
          ]
        },
        {
          "output_type": "stream",
          "name": "stdout",
          "text": [
            "Early stopping, best iteration is:\n",
            "[51]\ttraining's binary_logloss: 0.174768\tvalid_1's binary_logloss: 0.32985\n",
            "CV Accuracy: 0.8670588235294119\n",
            "Training until validation scores don't improve for 5 rounds.\n",
            "Early stopping, best iteration is:\n",
            "[46]\ttraining's binary_logloss: 0.195751\tvalid_1's binary_logloss: 0.259764\n",
            "Training until validation scores don't improve for 5 rounds.\n",
            "Early stopping, best iteration is:\n",
            "[103]\ttraining's binary_logloss: 0.119822\tvalid_1's binary_logloss: 0.274184\n",
            "Training until validation scores don't improve for 5 rounds.\n",
            "Early stopping, best iteration is:\n",
            "[54]\ttraining's binary_logloss: 0.164262\tvalid_1's binary_logloss: 0.382694\n",
            "Training until validation scores don't improve for 5 rounds.\n",
            "Early stopping, best iteration is:\n",
            "[55]\ttraining's binary_logloss: 0.16957\tvalid_1's binary_logloss: 0.305775\n"
          ]
        },
        {
          "output_type": "stream",
          "name": "stderr",
          "text": [
            "\u001b[32m[I 2022-09-28 18:05:51,729]\u001b[0m Trial 23 finished with value: 0.8670588235294119 and parameters: {'boosting_type': 'goss', 'num_leaves': 559, 'learning_rate': 0.7375864342396663, 'metrics': 'binary_logloss'}. Best is trial 4 with value: 0.8694117647058823.\u001b[0m\n"
          ]
        },
        {
          "output_type": "stream",
          "name": "stdout",
          "text": [
            "Training until validation scores don't improve for 5 rounds.\n",
            "Early stopping, best iteration is:\n",
            "[51]\ttraining's binary_logloss: 0.174768\tvalid_1's binary_logloss: 0.32985\n",
            "CV Accuracy: 0.8670588235294119\n",
            "Training until validation scores don't improve for 5 rounds.\n",
            "Early stopping, best iteration is:\n",
            "[46]\ttraining's binary_logloss: 0.195751\tvalid_1's binary_logloss: 0.259764\n",
            "Training until validation scores don't improve for 5 rounds.\n",
            "Early stopping, best iteration is:\n",
            "[103]\ttraining's binary_logloss: 0.119822\tvalid_1's binary_logloss: 0.274184\n",
            "Training until validation scores don't improve for 5 rounds.\n",
            "Early stopping, best iteration is:\n",
            "[54]\ttraining's binary_logloss: 0.164262\tvalid_1's binary_logloss: 0.382694\n",
            "Training until validation scores don't improve for 5 rounds.\n",
            "Early stopping, best iteration is:\n",
            "[55]\ttraining's binary_logloss: 0.16957\tvalid_1's binary_logloss: 0.305775\n",
            "Training until validation scores don't improve for 5 rounds.\n",
            "Early stopping, best iteration is:\n",
            "[51]\ttraining's binary_logloss: 0.174768\tvalid_1's binary_logloss: 0.32985\n"
          ]
        },
        {
          "output_type": "stream",
          "name": "stderr",
          "text": [
            "\u001b[32m[I 2022-09-28 18:05:52,316]\u001b[0m Trial 24 finished with value: 0.8670588235294119 and parameters: {'boosting_type': 'goss', 'num_leaves': 897, 'learning_rate': 0.8111939287582235, 'metrics': 'binary_logloss'}. Best is trial 4 with value: 0.8694117647058823.\u001b[0m\n"
          ]
        },
        {
          "output_type": "stream",
          "name": "stdout",
          "text": [
            "CV Accuracy: 0.8670588235294119\n",
            "Training until validation scores don't improve for 5 rounds.\n",
            "Early stopping, best iteration is:\n",
            "[48]\ttraining's binary_logloss: 0.0950491\tvalid_1's binary_logloss: 0.249261\n",
            "Training until validation scores don't improve for 5 rounds.\n",
            "Early stopping, best iteration is:\n",
            "[40]\ttraining's binary_logloss: 0.119626\tvalid_1's binary_logloss: 0.298327\n",
            "Training until validation scores don't improve for 5 rounds.\n",
            "Early stopping, best iteration is:\n",
            "[42]\ttraining's binary_logloss: 0.101339\tvalid_1's binary_logloss: 0.351179\n",
            "Training until validation scores don't improve for 5 rounds.\n"
          ]
        },
        {
          "output_type": "stream",
          "name": "stderr",
          "text": [
            "\u001b[32m[I 2022-09-28 18:05:52,904]\u001b[0m Trial 25 finished with value: 0.8658823529411764 and parameters: {'boosting_type': 'gbdt', 'num_leaves': 242, 'learning_rate': 0.0005170445260662047, 'metrics': 'binary_logloss'}. Best is trial 4 with value: 0.8694117647058823.\u001b[0m\n"
          ]
        },
        {
          "output_type": "stream",
          "name": "stdout",
          "text": [
            "Early stopping, best iteration is:\n",
            "[59]\ttraining's binary_logloss: 0.0633748\tvalid_1's binary_logloss: 0.291879\n",
            "Training until validation scores don't improve for 5 rounds.\n",
            "Early stopping, best iteration is:\n",
            "[39]\ttraining's binary_logloss: 0.119211\tvalid_1's binary_logloss: 0.318757\n",
            "CV Accuracy: 0.8658823529411764\n",
            "Training until validation scores don't improve for 5 rounds.\n",
            "Early stopping, best iteration is:\n",
            "[46]\ttraining's binary_logloss: 0.195751\tvalid_1's binary_logloss: 0.259764\n",
            "Training until validation scores don't improve for 5 rounds.\n",
            "Early stopping, best iteration is:\n",
            "[103]\ttraining's binary_logloss: 0.119822\tvalid_1's binary_logloss: 0.274184\n",
            "Training until validation scores don't improve for 5 rounds.\n",
            "Early stopping, best iteration is:\n",
            "[54]\ttraining's binary_logloss: 0.164262\tvalid_1's binary_logloss: 0.382694\n",
            "Training until validation scores don't improve for 5 rounds.\n",
            "Early stopping, best iteration is:\n",
            "[55]\ttraining's binary_logloss: 0.16957\tvalid_1's binary_logloss: 0.305775\n",
            "Training until validation scores don't improve for 5 rounds.\n",
            "Early stopping, best iteration is:\n",
            "[51]\ttraining's binary_logloss: 0.174768\tvalid_1's binary_logloss: 0.32985\n"
          ]
        },
        {
          "output_type": "stream",
          "name": "stderr",
          "text": [
            "\u001b[32m[I 2022-09-28 18:05:53,483]\u001b[0m Trial 26 finished with value: 0.8670588235294119 and parameters: {'boosting_type': 'goss', 'num_leaves': 835, 'learning_rate': 0.02065792505617157, 'metrics': 'binary_logloss'}. Best is trial 4 with value: 0.8694117647058823.\u001b[0m\n"
          ]
        },
        {
          "output_type": "stream",
          "name": "stdout",
          "text": [
            "CV Accuracy: 0.8670588235294119\n",
            "Training until validation scores don't improve for 5 rounds.\n",
            "Early stopping, best iteration is:\n",
            "[22]\ttraining's rmse: 0.235164\tvalid_1's rmse: 0.283599\n",
            "Training until validation scores don't improve for 5 rounds.\n",
            "Early stopping, best iteration is:\n",
            "[40]\ttraining's rmse: 0.162495\tvalid_1's rmse: 0.309168\n",
            "Training until validation scores don't improve for 5 rounds.\n",
            "Early stopping, best iteration is:\n",
            "[43]\ttraining's rmse: 0.140618\tvalid_1's rmse: 0.329088\n",
            "Training until validation scores don't improve for 5 rounds.\n",
            "Early stopping, best iteration is:\n",
            "[69]\ttraining's rmse: 0.0738259\tvalid_1's rmse: 0.293925\n",
            "Training until validation scores don't improve for 5 rounds.\n"
          ]
        },
        {
          "output_type": "stream",
          "name": "stderr",
          "text": [
            "\u001b[32m[I 2022-09-28 18:05:53,990]\u001b[0m Trial 27 finished with value: 0.8694117647058823 and parameters: {'boosting_type': 'gbdt', 'num_leaves': 160, 'learning_rate': 0.0010592011945674616, 'metrics': 'rmse'}. Best is trial 4 with value: 0.8694117647058823.\u001b[0m\n"
          ]
        },
        {
          "output_type": "stream",
          "name": "stdout",
          "text": [
            "Early stopping, best iteration is:\n",
            "[39]\ttraining's rmse: 0.160351\tvalid_1's rmse: 0.3212\n",
            "CV Accuracy: 0.8694117647058823\n",
            "Training until validation scores don't improve for 5 rounds.\n",
            "Early stopping, best iteration is:\n",
            "[22]\ttraining's rmse: 0.235164\tvalid_1's rmse: 0.283599\n",
            "Training until validation scores don't improve for 5 rounds.\n",
            "Early stopping, best iteration is:\n",
            "[40]\ttraining's rmse: 0.162495\tvalid_1's rmse: 0.309168\n",
            "Training until validation scores don't improve for 5 rounds.\n",
            "Early stopping, best iteration is:\n",
            "[43]\ttraining's rmse: 0.140618\tvalid_1's rmse: 0.329088\n",
            "Training until validation scores don't improve for 5 rounds.\n",
            "Early stopping, best iteration is:\n",
            "[69]\ttraining's rmse: 0.0738259\tvalid_1's rmse: 0.293925\n",
            "Training until validation scores don't improve for 5 rounds.\n"
          ]
        },
        {
          "output_type": "stream",
          "name": "stderr",
          "text": [
            "\u001b[32m[I 2022-09-28 18:05:54,470]\u001b[0m Trial 28 finished with value: 0.8694117647058823 and parameters: {'boosting_type': 'gbdt', 'num_leaves': 76, 'learning_rate': 0.001770689631133531, 'metrics': 'rmse'}. Best is trial 4 with value: 0.8694117647058823.\u001b[0m\n"
          ]
        },
        {
          "output_type": "stream",
          "name": "stdout",
          "text": [
            "Early stopping, best iteration is:\n",
            "[39]\ttraining's rmse: 0.160351\tvalid_1's rmse: 0.3212\n",
            "CV Accuracy: 0.8694117647058823\n",
            "Training until validation scores don't improve for 5 rounds.\n",
            "Early stopping, best iteration is:\n",
            "[22]\ttraining's rmse: 0.235164\tvalid_1's rmse: 0.283599\n",
            "Training until validation scores don't improve for 5 rounds.\n",
            "Early stopping, best iteration is:\n",
            "[40]\ttraining's rmse: 0.162495\tvalid_1's rmse: 0.309168\n",
            "Training until validation scores don't improve for 5 rounds.\n",
            "Early stopping, best iteration is:\n",
            "[43]\ttraining's rmse: 0.140618\tvalid_1's rmse: 0.329088\n",
            "Training until validation scores don't improve for 5 rounds.\n",
            "Early stopping, best iteration is:\n",
            "[69]\ttraining's rmse: 0.0738259\tvalid_1's rmse: 0.293925\n",
            "Training until validation scores don't improve for 5 rounds.\n"
          ]
        },
        {
          "output_type": "stream",
          "name": "stderr",
          "text": [
            "\u001b[32m[I 2022-09-28 18:05:54,937]\u001b[0m Trial 29 finished with value: 0.8694117647058823 and parameters: {'boosting_type': 'gbdt', 'num_leaves': 83, 'learning_rate': 8.38515795737508e-05, 'metrics': 'rmse'}. Best is trial 4 with value: 0.8694117647058823.\u001b[0m\n"
          ]
        },
        {
          "output_type": "stream",
          "name": "stdout",
          "text": [
            "Early stopping, best iteration is:\n",
            "[39]\ttraining's rmse: 0.160351\tvalid_1's rmse: 0.3212\n",
            "CV Accuracy: 0.8694117647058823\n",
            "Training until validation scores don't improve for 5 rounds.\n",
            "Early stopping, best iteration is:\n",
            "[22]\ttraining's rmse: 0.235164\tvalid_1's rmse: 0.283599\n",
            "Training until validation scores don't improve for 5 rounds.\n",
            "Early stopping, best iteration is:\n",
            "[40]\ttraining's rmse: 0.162495\tvalid_1's rmse: 0.309168\n",
            "Training until validation scores don't improve for 5 rounds.\n",
            "Early stopping, best iteration is:\n",
            "[43]\ttraining's rmse: 0.140618\tvalid_1's rmse: 0.329088\n",
            "Training until validation scores don't improve for 5 rounds.\n"
          ]
        },
        {
          "output_type": "stream",
          "name": "stderr",
          "text": [
            "\u001b[32m[I 2022-09-28 18:05:55,477]\u001b[0m Trial 30 finished with value: 0.8694117647058823 and parameters: {'boosting_type': 'gbdt', 'num_leaves': 161, 'learning_rate': 4.063181740056907e-05, 'metrics': 'rmse'}. Best is trial 4 with value: 0.8694117647058823.\u001b[0m\n"
          ]
        },
        {
          "output_type": "stream",
          "name": "stdout",
          "text": [
            "Early stopping, best iteration is:\n",
            "[69]\ttraining's rmse: 0.0738259\tvalid_1's rmse: 0.293925\n",
            "Training until validation scores don't improve for 5 rounds.\n",
            "Early stopping, best iteration is:\n",
            "[39]\ttraining's rmse: 0.160351\tvalid_1's rmse: 0.3212\n",
            "CV Accuracy: 0.8694117647058823\n",
            "Training until validation scores don't improve for 5 rounds.\n",
            "Early stopping, best iteration is:\n",
            "[22]\ttraining's rmse: 0.235164\tvalid_1's rmse: 0.283599\n",
            "Training until validation scores don't improve for 5 rounds.\n",
            "Early stopping, best iteration is:\n",
            "[40]\ttraining's rmse: 0.162495\tvalid_1's rmse: 0.309168\n",
            "Training until validation scores don't improve for 5 rounds.\n",
            "Early stopping, best iteration is:\n",
            "[43]\ttraining's rmse: 0.140618\tvalid_1's rmse: 0.329088\n",
            "Training until validation scores don't improve for 5 rounds.\n"
          ]
        },
        {
          "output_type": "stream",
          "name": "stderr",
          "text": [
            "\u001b[32m[I 2022-09-28 18:05:55,971]\u001b[0m Trial 31 finished with value: 0.8694117647058823 and parameters: {'boosting_type': 'gbdt', 'num_leaves': 76, 'learning_rate': 1.5881284168863604e-05, 'metrics': 'rmse'}. Best is trial 4 with value: 0.8694117647058823.\u001b[0m\n"
          ]
        },
        {
          "output_type": "stream",
          "name": "stdout",
          "text": [
            "Early stopping, best iteration is:\n",
            "[69]\ttraining's rmse: 0.0738259\tvalid_1's rmse: 0.293925\n",
            "Training until validation scores don't improve for 5 rounds.\n",
            "Early stopping, best iteration is:\n",
            "[39]\ttraining's rmse: 0.160351\tvalid_1's rmse: 0.3212\n",
            "CV Accuracy: 0.8694117647058823\n",
            "Training until validation scores don't improve for 5 rounds.\n",
            "Early stopping, best iteration is:\n",
            "[22]\ttraining's rmse: 0.235164\tvalid_1's rmse: 0.283599\n",
            "Training until validation scores don't improve for 5 rounds.\n",
            "Early stopping, best iteration is:\n",
            "[40]\ttraining's rmse: 0.162495\tvalid_1's rmse: 0.309168\n",
            "Training until validation scores don't improve for 5 rounds.\n",
            "Early stopping, best iteration is:\n",
            "[43]\ttraining's rmse: 0.140618\tvalid_1's rmse: 0.329088\n",
            "Training until validation scores don't improve for 5 rounds.\n"
          ]
        },
        {
          "output_type": "stream",
          "name": "stderr",
          "text": [
            "\u001b[32m[I 2022-09-28 18:05:56,470]\u001b[0m Trial 32 finished with value: 0.8694117647058823 and parameters: {'boosting_type': 'gbdt', 'num_leaves': 99, 'learning_rate': 1.3892932355857548e-05, 'metrics': 'rmse'}. Best is trial 4 with value: 0.8694117647058823.\u001b[0m\n"
          ]
        },
        {
          "output_type": "stream",
          "name": "stdout",
          "text": [
            "Early stopping, best iteration is:\n",
            "[69]\ttraining's rmse: 0.0738259\tvalid_1's rmse: 0.293925\n",
            "Training until validation scores don't improve for 5 rounds.\n",
            "Early stopping, best iteration is:\n",
            "[39]\ttraining's rmse: 0.160351\tvalid_1's rmse: 0.3212\n",
            "CV Accuracy: 0.8694117647058823\n",
            "Training until validation scores don't improve for 5 rounds.\n",
            "Early stopping, best iteration is:\n",
            "[31]\ttraining's rmse: 0.222205\tvalid_1's rmse: 0.279168\n",
            "Training until validation scores don't improve for 5 rounds.\n",
            "Early stopping, best iteration is:\n",
            "[28]\ttraining's rmse: 0.233796\tvalid_1's rmse: 0.30929\n"
          ]
        },
        {
          "output_type": "stream",
          "name": "stderr",
          "text": [
            "\u001b[32m[I 2022-09-28 18:05:56,739]\u001b[0m Trial 33 finished with value: 0.8729411764705881 and parameters: {'boosting_type': 'gbdt', 'num_leaves': 12, 'learning_rate': 1.2015569006237162e-05, 'metrics': 'rmse'}. Best is trial 33 with value: 0.8729411764705881.\u001b[0m\n"
          ]
        },
        {
          "output_type": "stream",
          "name": "stdout",
          "text": [
            "Training until validation scores don't improve for 5 rounds.\n",
            "Early stopping, best iteration is:\n",
            "[53]\ttraining's rmse: 0.152287\tvalid_1's rmse: 0.327004\n",
            "Training until validation scores don't improve for 5 rounds.\n",
            "Early stopping, best iteration is:\n",
            "[45]\ttraining's rmse: 0.181564\tvalid_1's rmse: 0.30287\n",
            "Training until validation scores don't improve for 5 rounds.\n",
            "Early stopping, best iteration is:\n",
            "[39]\ttraining's rmse: 0.193094\tvalid_1's rmse: 0.321695\n",
            "CV Accuracy: 0.8729411764705881\n",
            "Training until validation scores don't improve for 5 rounds.\n",
            "Early stopping, best iteration is:\n",
            "[22]\ttraining's rmse: 0.235164\tvalid_1's rmse: 0.283599\n",
            "Training until validation scores don't improve for 5 rounds.\n",
            "Early stopping, best iteration is:\n",
            "[40]\ttraining's rmse: 0.162495\tvalid_1's rmse: 0.309168\n",
            "Training until validation scores don't improve for 5 rounds.\n",
            "Early stopping, best iteration is:\n",
            "[43]\ttraining's rmse: 0.140618\tvalid_1's rmse: 0.329088\n",
            "Training until validation scores don't improve for 5 rounds.\n",
            "Early stopping, best iteration is:\n",
            "[69]\ttraining's rmse: 0.0738259\tvalid_1's rmse: 0.293925\n",
            "Training until validation scores don't improve for 5 rounds.\n"
          ]
        },
        {
          "output_type": "stream",
          "name": "stderr",
          "text": [
            "\u001b[32m[I 2022-09-28 18:05:57,316]\u001b[0m Trial 34 finished with value: 0.8694117647058823 and parameters: {'boosting_type': 'gbdt', 'num_leaves': 399, 'learning_rate': 4.2505462509911235e-06, 'metrics': 'rmse'}. Best is trial 33 with value: 0.8729411764705881.\u001b[0m\n"
          ]
        },
        {
          "output_type": "stream",
          "name": "stdout",
          "text": [
            "Early stopping, best iteration is:\n",
            "[39]\ttraining's rmse: 0.160351\tvalid_1's rmse: 0.3212\n",
            "CV Accuracy: 0.8694117647058823\n",
            "Training until validation scores don't improve for 5 rounds.\n",
            "Early stopping, best iteration is:\n",
            "[18]\ttraining's auc: 0.987031\tvalid_1's auc: 0.970814\n",
            "Training until validation scores don't improve for 5 rounds.\n",
            "Early stopping, best iteration is:\n",
            "[6]\ttraining's auc: 0.973028\tvalid_1's auc: 0.941419\n",
            "Training until validation scores don't improve for 5 rounds.\n"
          ]
        },
        {
          "output_type": "stream",
          "name": "stderr",
          "text": [
            "\u001b[32m[I 2022-09-28 18:05:57,684]\u001b[0m Trial 35 finished with value: 0.8623529411764705 and parameters: {'boosting_type': 'gbdt', 'num_leaves': 422, 'learning_rate': 1.1162523550972217e-06, 'metrics': 'auc'}. Best is trial 33 with value: 0.8729411764705881.\u001b[0m\n"
          ]
        },
        {
          "output_type": "stream",
          "name": "stdout",
          "text": [
            "Early stopping, best iteration is:\n",
            "[53]\ttraining's auc: 1\tvalid_1's auc: 0.933429\n",
            "Training until validation scores don't improve for 5 rounds.\n",
            "Early stopping, best iteration is:\n",
            "[33]\ttraining's auc: 0.997294\tvalid_1's auc: 0.944583\n",
            "Training until validation scores don't improve for 5 rounds.\n",
            "Early stopping, best iteration is:\n",
            "[14]\ttraining's auc: 0.985678\tvalid_1's auc: 0.924491\n",
            "CV Accuracy: 0.8623529411764705\n",
            "Training until validation scores don't improve for 5 rounds.\n",
            "Early stopping, best iteration is:\n",
            "[29]\ttraining's rmse: 0.202835\tvalid_1's rmse: 0.279091\n",
            "Training until validation scores don't improve for 5 rounds.\n",
            "Early stopping, best iteration is:\n",
            "[29]\ttraining's rmse: 0.20471\tvalid_1's rmse: 0.314232\n",
            "Training until validation scores don't improve for 5 rounds.\n",
            "Early stopping, best iteration is:\n",
            "[39]\ttraining's rmse: 0.152857\tvalid_1's rmse: 0.328747\n",
            "Training until validation scores don't improve for 5 rounds.\n",
            "Early stopping, best iteration is:\n",
            "[37]\ttraining's rmse: 0.16588\tvalid_1's rmse: 0.304119\n",
            "Training until validation scores don't improve for 5 rounds.\n"
          ]
        },
        {
          "output_type": "stream",
          "name": "stderr",
          "text": [
            "\u001b[32m[I 2022-09-28 18:05:57,977]\u001b[0m Trial 36 finished with value: 0.8576470588235294 and parameters: {'boosting_type': 'gbdt', 'num_leaves': 24, 'learning_rate': 0.001968934934906831, 'metrics': 'rmse'}. Best is trial 33 with value: 0.8729411764705881.\u001b[0m\n"
          ]
        },
        {
          "output_type": "stream",
          "name": "stdout",
          "text": [
            "Early stopping, best iteration is:\n",
            "[29]\ttraining's rmse: 0.195908\tvalid_1's rmse: 0.330974\n",
            "CV Accuracy: 0.8576470588235294\n",
            "Training until validation scores don't improve for 5 rounds.\n",
            "Early stopping, best iteration is:\n",
            "[22]\ttraining's rmse: 0.235164\tvalid_1's rmse: 0.283599\n",
            "Training until validation scores don't improve for 5 rounds.\n",
            "Early stopping, best iteration is:\n",
            "[40]\ttraining's rmse: 0.162495\tvalid_1's rmse: 0.309168\n",
            "Training until validation scores don't improve for 5 rounds.\n",
            "Early stopping, best iteration is:\n",
            "[43]\ttraining's rmse: 0.140618\tvalid_1's rmse: 0.329088\n",
            "Training until validation scores don't improve for 5 rounds.\n",
            "Early stopping, best iteration is:\n",
            "[69]\ttraining's rmse: 0.0738259\tvalid_1's rmse: 0.293925\n"
          ]
        },
        {
          "output_type": "stream",
          "name": "stderr",
          "text": [
            "\u001b[32m[I 2022-09-28 18:05:58,464]\u001b[0m Trial 37 finished with value: 0.8694117647058823 and parameters: {'boosting_type': 'gbdt', 'num_leaves': 172, 'learning_rate': 2.7089914563308007e-05, 'metrics': 'rmse'}. Best is trial 33 with value: 0.8729411764705881.\u001b[0m\n"
          ]
        },
        {
          "output_type": "stream",
          "name": "stdout",
          "text": [
            "Training until validation scores don't improve for 5 rounds.\n",
            "Early stopping, best iteration is:\n",
            "[39]\ttraining's rmse: 0.160351\tvalid_1's rmse: 0.3212\n",
            "CV Accuracy: 0.8694117647058823\n",
            "[10000]\ttraining's auc: 1\tvalid_1's auc: 0.96048\n",
            "[20000]\ttraining's auc: 1\tvalid_1's auc: 0.950286\n",
            "[30000]\ttraining's auc: 1\tvalid_1's auc: 0.939394\n",
            "[10000]\ttraining's auc: 1\tvalid_1's auc: 0.944149\n",
            "[20000]\ttraining's auc: 1\tvalid_1's auc: 0.93995\n",
            "[30000]\ttraining's auc: 1\tvalid_1's auc: 0.93561\n",
            "[10000]\ttraining's auc: 1\tvalid_1's auc: 0.912\n",
            "[20000]\ttraining's auc: 1\tvalid_1's auc: 0.897571\n",
            "[30000]\ttraining's auc: 1\tvalid_1's auc: 0.892571\n",
            "[10000]\ttraining's auc: 1\tvalid_1's auc: 0.95\n",
            "[20000]\ttraining's auc: 1\tvalid_1's auc: 0.946667\n",
            "[30000]\ttraining's auc: 1\tvalid_1's auc: 0.937639\n",
            "[10000]\ttraining's auc: 1\tvalid_1's auc: 0.936842\n",
            "[20000]\ttraining's auc: 1\tvalid_1's auc: 0.930667\n",
            "[30000]\ttraining's auc: 1\tvalid_1's auc: 0.929404\n"
          ]
        },
        {
          "output_type": "stream",
          "name": "stderr",
          "text": [
            "\u001b[32m[I 2022-09-28 18:14:05,913]\u001b[0m Trial 38 finished with value: 0.8447058823529412 and parameters: {'boosting_type': 'dart', 'num_leaves': 229, 'learning_rate': 0.00017174461779414883, 'metrics': 'auc'}. Best is trial 33 with value: 0.8729411764705881.\u001b[0m\n"
          ]
        },
        {
          "output_type": "stream",
          "name": "stdout",
          "text": [
            "CV Accuracy: 0.8447058823529412\n",
            "Training until validation scores don't improve for 5 rounds.\n",
            "Early stopping, best iteration is:\n",
            "[29]\ttraining's rmse: 0.202835\tvalid_1's rmse: 0.279091\n",
            "Training until validation scores don't improve for 5 rounds.\n",
            "Early stopping, best iteration is:\n",
            "[29]\ttraining's rmse: 0.20471\tvalid_1's rmse: 0.314232\n",
            "Training until validation scores don't improve for 5 rounds.\n"
          ]
        },
        {
          "output_type": "stream",
          "name": "stderr",
          "text": [
            "\u001b[32m[I 2022-09-28 18:14:06,245]\u001b[0m Trial 39 finished with value: 0.8576470588235294 and parameters: {'boosting_type': 'gbdt', 'num_leaves': 24, 'learning_rate': 0.0014961336959678747, 'metrics': 'rmse'}. Best is trial 33 with value: 0.8729411764705881.\u001b[0m\n"
          ]
        },
        {
          "output_type": "stream",
          "name": "stdout",
          "text": [
            "Early stopping, best iteration is:\n",
            "[39]\ttraining's rmse: 0.152857\tvalid_1's rmse: 0.328747\n",
            "Training until validation scores don't improve for 5 rounds.\n",
            "Early stopping, best iteration is:\n",
            "[37]\ttraining's rmse: 0.16588\tvalid_1's rmse: 0.304119\n",
            "Training until validation scores don't improve for 5 rounds.\n",
            "Early stopping, best iteration is:\n",
            "[29]\ttraining's rmse: 0.195908\tvalid_1's rmse: 0.330974\n",
            "CV Accuracy: 0.8576470588235294\n",
            "Training until validation scores don't improve for 5 rounds.\n",
            "Early stopping, best iteration is:\n",
            "[22]\ttraining's rmse: 0.235164\tvalid_1's rmse: 0.283599\n",
            "Training until validation scores don't improve for 5 rounds.\n",
            "Early stopping, best iteration is:\n",
            "[40]\ttraining's rmse: 0.162495\tvalid_1's rmse: 0.309168\n",
            "Training until validation scores don't improve for 5 rounds.\n",
            "Early stopping, best iteration is:\n",
            "[43]\ttraining's rmse: 0.140618\tvalid_1's rmse: 0.329088\n",
            "Training until validation scores don't improve for 5 rounds.\n",
            "Early stopping, best iteration is:\n",
            "[69]\ttraining's rmse: 0.0738259\tvalid_1's rmse: 0.293925\n",
            "Training until validation scores don't improve for 5 rounds.\n"
          ]
        },
        {
          "output_type": "stream",
          "name": "stderr",
          "text": [
            "\u001b[32m[I 2022-09-28 18:14:06,768]\u001b[0m Trial 40 finished with value: 0.8694117647058823 and parameters: {'boosting_type': 'gbdt', 'num_leaves': 163, 'learning_rate': 2.566441207724999e-06, 'metrics': 'rmse'}. Best is trial 33 with value: 0.8729411764705881.\u001b[0m\n"
          ]
        },
        {
          "output_type": "stream",
          "name": "stdout",
          "text": [
            "Early stopping, best iteration is:\n",
            "[39]\ttraining's rmse: 0.160351\tvalid_1's rmse: 0.3212\n",
            "CV Accuracy: 0.8694117647058823\n",
            "Training until validation scores don't improve for 5 rounds.\n",
            "Early stopping, best iteration is:\n",
            "[22]\ttraining's rmse: 0.235164\tvalid_1's rmse: 0.283599\n",
            "Training until validation scores don't improve for 5 rounds.\n",
            "Early stopping, best iteration is:\n",
            "[40]\ttraining's rmse: 0.162495\tvalid_1's rmse: 0.309168\n",
            "Training until validation scores don't improve for 5 rounds.\n",
            "Early stopping, best iteration is:\n",
            "[43]\ttraining's rmse: 0.140618\tvalid_1's rmse: 0.329088\n",
            "Training until validation scores don't improve for 5 rounds.\n",
            "Early stopping, best iteration is:\n",
            "[69]\ttraining's rmse: 0.0738259\tvalid_1's rmse: 0.293925\n"
          ]
        },
        {
          "output_type": "stream",
          "name": "stderr",
          "text": [
            "\u001b[32m[I 2022-09-28 18:14:07,283]\u001b[0m Trial 41 finished with value: 0.8694117647058823 and parameters: {'boosting_type': 'gbdt', 'num_leaves': 91, 'learning_rate': 3.420010201942139e-05, 'metrics': 'rmse'}. Best is trial 33 with value: 0.8729411764705881.\u001b[0m\n"
          ]
        },
        {
          "output_type": "stream",
          "name": "stdout",
          "text": [
            "Training until validation scores don't improve for 5 rounds.\n",
            "Early stopping, best iteration is:\n",
            "[39]\ttraining's rmse: 0.160351\tvalid_1's rmse: 0.3212\n",
            "CV Accuracy: 0.8694117647058823\n",
            "Training until validation scores don't improve for 5 rounds.\n",
            "Early stopping, best iteration is:\n",
            "[22]\ttraining's rmse: 0.235164\tvalid_1's rmse: 0.283599\n",
            "Training until validation scores don't improve for 5 rounds.\n",
            "Early stopping, best iteration is:\n",
            "[40]\ttraining's rmse: 0.162495\tvalid_1's rmse: 0.309168\n",
            "Training until validation scores don't improve for 5 rounds.\n",
            "Early stopping, best iteration is:\n",
            "[43]\ttraining's rmse: 0.140618\tvalid_1's rmse: 0.329088\n",
            "Training until validation scores don't improve for 5 rounds.\n"
          ]
        },
        {
          "output_type": "stream",
          "name": "stderr",
          "text": [
            "\u001b[32m[I 2022-09-28 18:14:07,822]\u001b[0m Trial 42 finished with value: 0.8694117647058823 and parameters: {'boosting_type': 'gbdt', 'num_leaves': 150, 'learning_rate': 1.8941650196829034e-06, 'metrics': 'rmse'}. Best is trial 33 with value: 0.8729411764705881.\u001b[0m\n"
          ]
        },
        {
          "output_type": "stream",
          "name": "stdout",
          "text": [
            "Early stopping, best iteration is:\n",
            "[69]\ttraining's rmse: 0.0738259\tvalid_1's rmse: 0.293925\n",
            "Training until validation scores don't improve for 5 rounds.\n",
            "Early stopping, best iteration is:\n",
            "[39]\ttraining's rmse: 0.160351\tvalid_1's rmse: 0.3212\n",
            "CV Accuracy: 0.8694117647058823\n",
            "Training until validation scores don't improve for 5 rounds.\n",
            "Early stopping, best iteration is:\n",
            "[22]\ttraining's rmse: 0.235164\tvalid_1's rmse: 0.283599\n",
            "Training until validation scores don't improve for 5 rounds.\n",
            "Early stopping, best iteration is:\n",
            "[40]\ttraining's rmse: 0.162495\tvalid_1's rmse: 0.309168\n",
            "Training until validation scores don't improve for 5 rounds.\n",
            "Early stopping, best iteration is:\n",
            "[43]\ttraining's rmse: 0.140618\tvalid_1's rmse: 0.329088\n",
            "Training until validation scores don't improve for 5 rounds.\n"
          ]
        },
        {
          "output_type": "stream",
          "name": "stderr",
          "text": [
            "\u001b[32m[I 2022-09-28 18:14:08,340]\u001b[0m Trial 43 finished with value: 0.8694117647058823 and parameters: {'boosting_type': 'gbdt', 'num_leaves': 63, 'learning_rate': 3.0946147147486293e-07, 'metrics': 'rmse'}. Best is trial 33 with value: 0.8729411764705881.\u001b[0m\n"
          ]
        },
        {
          "output_type": "stream",
          "name": "stdout",
          "text": [
            "Early stopping, best iteration is:\n",
            "[69]\ttraining's rmse: 0.0738259\tvalid_1's rmse: 0.293925\n",
            "Training until validation scores don't improve for 5 rounds.\n",
            "Early stopping, best iteration is:\n",
            "[39]\ttraining's rmse: 0.160351\tvalid_1's rmse: 0.3212\n",
            "CV Accuracy: 0.8694117647058823\n",
            "Training until validation scores don't improve for 5 rounds.\n",
            "Early stopping, best iteration is:\n",
            "[22]\ttraining's rmse: 0.235164\tvalid_1's rmse: 0.283599\n",
            "Training until validation scores don't improve for 5 rounds.\n",
            "Early stopping, best iteration is:\n",
            "[40]\ttraining's rmse: 0.162495\tvalid_1's rmse: 0.309168\n",
            "Training until validation scores don't improve for 5 rounds.\n",
            "Early stopping, best iteration is:\n",
            "[43]\ttraining's rmse: 0.140618\tvalid_1's rmse: 0.329088\n",
            "Training until validation scores don't improve for 5 rounds.\n"
          ]
        },
        {
          "output_type": "stream",
          "name": "stderr",
          "text": [
            "\u001b[32m[I 2022-09-28 18:14:08,836]\u001b[0m Trial 44 finished with value: 0.8694117647058823 and parameters: {'boosting_type': 'gbdt', 'num_leaves': 82, 'learning_rate': 1.455482346677944e-08, 'metrics': 'rmse'}. Best is trial 33 with value: 0.8729411764705881.\u001b[0m\n"
          ]
        },
        {
          "output_type": "stream",
          "name": "stdout",
          "text": [
            "Early stopping, best iteration is:\n",
            "[69]\ttraining's rmse: 0.0738259\tvalid_1's rmse: 0.293925\n",
            "Training until validation scores don't improve for 5 rounds.\n",
            "Early stopping, best iteration is:\n",
            "[39]\ttraining's rmse: 0.160351\tvalid_1's rmse: 0.3212\n",
            "CV Accuracy: 0.8694117647058823\n",
            "Training until validation scores don't improve for 5 rounds.\n",
            "Early stopping, best iteration is:\n",
            "[22]\ttraining's rmse: 0.235164\tvalid_1's rmse: 0.283599\n",
            "Training until validation scores don't improve for 5 rounds.\n",
            "Early stopping, best iteration is:\n",
            "[40]\ttraining's rmse: 0.162495\tvalid_1's rmse: 0.309168\n",
            "Training until validation scores don't improve for 5 rounds.\n",
            "Early stopping, best iteration is:\n",
            "[43]\ttraining's rmse: 0.140618\tvalid_1's rmse: 0.329088\n",
            "Training until validation scores don't improve for 5 rounds.\n"
          ]
        },
        {
          "output_type": "stream",
          "name": "stderr",
          "text": [
            "\u001b[32m[I 2022-09-28 18:14:09,337]\u001b[0m Trial 45 finished with value: 0.8694117647058823 and parameters: {'boosting_type': 'gbdt', 'num_leaves': 58, 'learning_rate': 2.6525641270741446e-08, 'metrics': 'rmse'}. Best is trial 33 with value: 0.8729411764705881.\u001b[0m\n"
          ]
        },
        {
          "output_type": "stream",
          "name": "stdout",
          "text": [
            "Early stopping, best iteration is:\n",
            "[69]\ttraining's rmse: 0.0738259\tvalid_1's rmse: 0.293925\n",
            "Training until validation scores don't improve for 5 rounds.\n",
            "Early stopping, best iteration is:\n",
            "[39]\ttraining's rmse: 0.160351\tvalid_1's rmse: 0.3212\n",
            "CV Accuracy: 0.8694117647058823\n",
            "Training until validation scores don't improve for 5 rounds.\n",
            "Early stopping, best iteration is:\n",
            "[22]\ttraining's rmse: 0.235164\tvalid_1's rmse: 0.283599\n",
            "Training until validation scores don't improve for 5 rounds.\n",
            "Early stopping, best iteration is:\n",
            "[40]\ttraining's rmse: 0.162495\tvalid_1's rmse: 0.309168\n",
            "Training until validation scores don't improve for 5 rounds.\n",
            "Early stopping, best iteration is:\n",
            "[43]\ttraining's rmse: 0.140618\tvalid_1's rmse: 0.329088\n",
            "Training until validation scores don't improve for 5 rounds.\n"
          ]
        },
        {
          "output_type": "stream",
          "name": "stderr",
          "text": [
            "\u001b[32m[I 2022-09-28 18:14:09,862]\u001b[0m Trial 46 finished with value: 0.8694117647058823 and parameters: {'boosting_type': 'gbdt', 'num_leaves': 287, 'learning_rate': 0.00014548077478013547, 'metrics': 'rmse'}. Best is trial 33 with value: 0.8729411764705881.\u001b[0m\n"
          ]
        },
        {
          "output_type": "stream",
          "name": "stdout",
          "text": [
            "Early stopping, best iteration is:\n",
            "[69]\ttraining's rmse: 0.0738259\tvalid_1's rmse: 0.293925\n",
            "Training until validation scores don't improve for 5 rounds.\n",
            "Early stopping, best iteration is:\n",
            "[39]\ttraining's rmse: 0.160351\tvalid_1's rmse: 0.3212\n",
            "CV Accuracy: 0.8694117647058823\n",
            "[10000]\ttraining's rmse: 1.64468e-05\tvalid_1's rmse: 0.345962\n",
            "[20000]\ttraining's rmse: 1.33943e-05\tvalid_1's rmse: 0.363681\n",
            "[30000]\ttraining's rmse: 1.32571e-05\tvalid_1's rmse: 0.370297\n",
            "[10000]\ttraining's rmse: 1.62569e-05\tvalid_1's rmse: 0.325069\n",
            "[20000]\ttraining's rmse: 1.33838e-05\tvalid_1's rmse: 0.313566\n",
            "[30000]\ttraining's rmse: 1.30807e-05\tvalid_1's rmse: 0.327292\n",
            "[10000]\ttraining's rmse: 1.58901e-05\tvalid_1's rmse: 0.390777\n",
            "[20000]\ttraining's rmse: 1.34455e-05\tvalid_1's rmse: 0.420894\n",
            "[30000]\ttraining's rmse: 1.29568e-05\tvalid_1's rmse: 0.432442\n",
            "[10000]\ttraining's rmse: 1.60479e-05\tvalid_1's rmse: 0.322211\n",
            "[20000]\ttraining's rmse: 1.32317e-05\tvalid_1's rmse: 0.325571\n",
            "[30000]\ttraining's rmse: 1.28376e-05\tvalid_1's rmse: 0.329546\n",
            "[10000]\ttraining's rmse: 1.6072e-05\tvalid_1's rmse: 0.37463\n",
            "[20000]\ttraining's rmse: 1.29975e-05\tvalid_1's rmse: 0.387513\n",
            "[30000]\ttraining's rmse: 1.26411e-05\tvalid_1's rmse: 0.400217\n"
          ]
        },
        {
          "output_type": "stream",
          "name": "stderr",
          "text": [
            "\u001b[32m[I 2022-09-28 18:22:16,405]\u001b[0m Trial 47 finished with value: 0.8447058823529412 and parameters: {'boosting_type': 'dart', 'num_leaves': 293, 'learning_rate': 0.00019552746977553244, 'metrics': 'rmse'}. Best is trial 33 with value: 0.8729411764705881.\u001b[0m\n"
          ]
        },
        {
          "output_type": "stream",
          "name": "stdout",
          "text": [
            "CV Accuracy: 0.8447058823529412\n",
            "Training until validation scores don't improve for 5 rounds.\n",
            "Early stopping, best iteration is:\n",
            "[18]\ttraining's auc: 0.987031\tvalid_1's auc: 0.970814\n",
            "Training until validation scores don't improve for 5 rounds.\n",
            "Early stopping, best iteration is:\n",
            "[6]\ttraining's auc: 0.973028\tvalid_1's auc: 0.941419\n",
            "Training until validation scores don't improve for 5 rounds.\n"
          ]
        },
        {
          "output_type": "stream",
          "name": "stderr",
          "text": [
            "\u001b[32m[I 2022-09-28 18:22:16,813]\u001b[0m Trial 48 finished with value: 0.8623529411764705 and parameters: {'boosting_type': 'gbdt', 'num_leaves': 356, 'learning_rate': 5.797595923986708e-07, 'metrics': 'auc'}. Best is trial 33 with value: 0.8729411764705881.\u001b[0m\n"
          ]
        },
        {
          "output_type": "stream",
          "name": "stdout",
          "text": [
            "Early stopping, best iteration is:\n",
            "[53]\ttraining's auc: 1\tvalid_1's auc: 0.933429\n",
            "Training until validation scores don't improve for 5 rounds.\n",
            "Early stopping, best iteration is:\n",
            "[33]\ttraining's auc: 0.997294\tvalid_1's auc: 0.944583\n",
            "Training until validation scores don't improve for 5 rounds.\n",
            "Early stopping, best iteration is:\n",
            "[14]\ttraining's auc: 0.985678\tvalid_1's auc: 0.924491\n",
            "CV Accuracy: 0.8623529411764705\n",
            "Training until validation scores don't improve for 5 rounds.\n",
            "Early stopping, best iteration is:\n",
            "[22]\ttraining's rmse: 0.235164\tvalid_1's rmse: 0.283599\n",
            "Training until validation scores don't improve for 5 rounds.\n",
            "Early stopping, best iteration is:\n",
            "[40]\ttraining's rmse: 0.162495\tvalid_1's rmse: 0.309168\n",
            "Training until validation scores don't improve for 5 rounds.\n",
            "Early stopping, best iteration is:\n",
            "[43]\ttraining's rmse: 0.140618\tvalid_1's rmse: 0.329088\n",
            "Training until validation scores don't improve for 5 rounds.\n",
            "Early stopping, best iteration is:\n",
            "[69]\ttraining's rmse: 0.0738259\tvalid_1's rmse: 0.293925\n",
            "Training until validation scores don't improve for 5 rounds.\n"
          ]
        },
        {
          "output_type": "stream",
          "name": "stderr",
          "text": [
            "\u001b[32m[I 2022-09-28 18:22:17,339]\u001b[0m Trial 49 finished with value: 0.8694117647058823 and parameters: {'boosting_type': 'gbdt', 'num_leaves': 199, 'learning_rate': 6.810488439501912e-05, 'metrics': 'rmse'}. Best is trial 33 with value: 0.8729411764705881.\u001b[0m\n"
          ]
        },
        {
          "output_type": "stream",
          "name": "stdout",
          "text": [
            "Early stopping, best iteration is:\n",
            "[39]\ttraining's rmse: 0.160351\tvalid_1's rmse: 0.3212\n",
            "CV Accuracy: 0.8694117647058823\n",
            "Training until validation scores don't improve for 5 rounds.\n",
            "Early stopping, best iteration is:\n",
            "[22]\ttraining's rmse: 0.235164\tvalid_1's rmse: 0.283599\n",
            "Training until validation scores don't improve for 5 rounds.\n",
            "Early stopping, best iteration is:\n",
            "[40]\ttraining's rmse: 0.162495\tvalid_1's rmse: 0.309168\n",
            "Training until validation scores don't improve for 5 rounds.\n",
            "Early stopping, best iteration is:\n",
            "[43]\ttraining's rmse: 0.140618\tvalid_1's rmse: 0.329088\n",
            "Training until validation scores don't improve for 5 rounds.\n"
          ]
        },
        {
          "output_type": "stream",
          "name": "stderr",
          "text": [
            "\u001b[32m[I 2022-09-28 18:22:17,923]\u001b[0m Trial 50 finished with value: 0.8694117647058823 and parameters: {'boosting_type': 'gbdt', 'num_leaves': 482, 'learning_rate': 0.0004799000930513252, 'metrics': 'rmse'}. Best is trial 33 with value: 0.8729411764705881.\u001b[0m\n"
          ]
        },
        {
          "output_type": "stream",
          "name": "stdout",
          "text": [
            "Early stopping, best iteration is:\n",
            "[69]\ttraining's rmse: 0.0738259\tvalid_1's rmse: 0.293925\n",
            "Training until validation scores don't improve for 5 rounds.\n",
            "Early stopping, best iteration is:\n",
            "[39]\ttraining's rmse: 0.160351\tvalid_1's rmse: 0.3212\n",
            "CV Accuracy: 0.8694117647058823\n",
            "Training until validation scores don't improve for 5 rounds.\n",
            "Early stopping, best iteration is:\n",
            "[22]\ttraining's rmse: 0.235164\tvalid_1's rmse: 0.283599\n",
            "Training until validation scores don't improve for 5 rounds.\n",
            "Early stopping, best iteration is:\n",
            "[40]\ttraining's rmse: 0.162495\tvalid_1's rmse: 0.309168\n",
            "Training until validation scores don't improve for 5 rounds.\n",
            "Early stopping, best iteration is:\n",
            "[43]\ttraining's rmse: 0.140618\tvalid_1's rmse: 0.329088\n",
            "Training until validation scores don't improve for 5 rounds.\n"
          ]
        },
        {
          "output_type": "stream",
          "name": "stderr",
          "text": [
            "\u001b[32m[I 2022-09-28 18:22:18,429]\u001b[0m Trial 51 finished with value: 0.8694117647058823 and parameters: {'boosting_type': 'gbdt', 'num_leaves': 209, 'learning_rate': 5.9633780689429196e-05, 'metrics': 'rmse'}. Best is trial 33 with value: 0.8729411764705881.\u001b[0m\n"
          ]
        },
        {
          "output_type": "stream",
          "name": "stdout",
          "text": [
            "Early stopping, best iteration is:\n",
            "[69]\ttraining's rmse: 0.0738259\tvalid_1's rmse: 0.293925\n",
            "Training until validation scores don't improve for 5 rounds.\n",
            "Early stopping, best iteration is:\n",
            "[39]\ttraining's rmse: 0.160351\tvalid_1's rmse: 0.3212\n",
            "CV Accuracy: 0.8694117647058823\n",
            "Training until validation scores don't improve for 5 rounds.\n",
            "Early stopping, best iteration is:\n",
            "[22]\ttraining's rmse: 0.235164\tvalid_1's rmse: 0.283599\n",
            "Training until validation scores don't improve for 5 rounds.\n",
            "Early stopping, best iteration is:\n",
            "[40]\ttraining's rmse: 0.162495\tvalid_1's rmse: 0.309168\n",
            "Training until validation scores don't improve for 5 rounds.\n",
            "Early stopping, best iteration is:\n",
            "[43]\ttraining's rmse: 0.140618\tvalid_1's rmse: 0.329088\n",
            "Training until validation scores don't improve for 5 rounds.\n",
            "Early stopping, best iteration is:\n",
            "[69]\ttraining's rmse: 0.0738259\tvalid_1's rmse: 0.293925\n",
            "Training until validation scores don't improve for 5 rounds.\n"
          ]
        },
        {
          "output_type": "stream",
          "name": "stderr",
          "text": [
            "\u001b[32m[I 2022-09-28 18:22:18,992]\u001b[0m Trial 52 finished with value: 0.8694117647058823 and parameters: {'boosting_type': 'gbdt', 'num_leaves': 512, 'learning_rate': 0.0004494537390155483, 'metrics': 'rmse'}. Best is trial 33 with value: 0.8729411764705881.\u001b[0m\n"
          ]
        },
        {
          "output_type": "stream",
          "name": "stdout",
          "text": [
            "Early stopping, best iteration is:\n",
            "[39]\ttraining's rmse: 0.160351\tvalid_1's rmse: 0.3212\n",
            "CV Accuracy: 0.8694117647058823\n",
            "Training until validation scores don't improve for 5 rounds.\n",
            "Early stopping, best iteration is:\n",
            "[22]\ttraining's rmse: 0.235164\tvalid_1's rmse: 0.283599\n",
            "Training until validation scores don't improve for 5 rounds.\n",
            "Early stopping, best iteration is:\n",
            "[40]\ttraining's rmse: 0.162495\tvalid_1's rmse: 0.309168\n",
            "Training until validation scores don't improve for 5 rounds.\n",
            "Early stopping, best iteration is:\n",
            "[43]\ttraining's rmse: 0.140618\tvalid_1's rmse: 0.329088\n",
            "Training until validation scores don't improve for 5 rounds.\n"
          ]
        },
        {
          "output_type": "stream",
          "name": "stderr",
          "text": [
            "\u001b[32m[I 2022-09-28 18:22:19,539]\u001b[0m Trial 53 finished with value: 0.8694117647058823 and parameters: {'boosting_type': 'gbdt', 'num_leaves': 572, 'learning_rate': 0.00032556529621688207, 'metrics': 'rmse'}. Best is trial 33 with value: 0.8729411764705881.\u001b[0m\n"
          ]
        },
        {
          "output_type": "stream",
          "name": "stdout",
          "text": [
            "Early stopping, best iteration is:\n",
            "[69]\ttraining's rmse: 0.0738259\tvalid_1's rmse: 0.293925\n",
            "Training until validation scores don't improve for 5 rounds.\n",
            "Early stopping, best iteration is:\n",
            "[39]\ttraining's rmse: 0.160351\tvalid_1's rmse: 0.3212\n",
            "CV Accuracy: 0.8694117647058823\n",
            "Training until validation scores don't improve for 5 rounds.\n",
            "Early stopping, best iteration is:\n",
            "[22]\ttraining's rmse: 0.235164\tvalid_1's rmse: 0.283599\n",
            "Training until validation scores don't improve for 5 rounds.\n",
            "Early stopping, best iteration is:\n",
            "[40]\ttraining's rmse: 0.162495\tvalid_1's rmse: 0.309168\n",
            "Training until validation scores don't improve for 5 rounds.\n",
            "Early stopping, best iteration is:\n",
            "[43]\ttraining's rmse: 0.140618\tvalid_1's rmse: 0.329088\n",
            "Training until validation scores don't improve for 5 rounds.\n",
            "Early stopping, best iteration is:\n",
            "[69]\ttraining's rmse: 0.0738259\tvalid_1's rmse: 0.293925\n",
            "Training until validation scores don't improve for 5 rounds.\n"
          ]
        },
        {
          "output_type": "stream",
          "name": "stderr",
          "text": [
            "\u001b[32m[I 2022-09-28 18:22:20,128]\u001b[0m Trial 54 finished with value: 0.8694117647058823 and parameters: {'boosting_type': 'gbdt', 'num_leaves': 617, 'learning_rate': 0.0010732774311274357, 'metrics': 'rmse'}. Best is trial 33 with value: 0.8729411764705881.\u001b[0m\n"
          ]
        },
        {
          "output_type": "stream",
          "name": "stdout",
          "text": [
            "Early stopping, best iteration is:\n",
            "[39]\ttraining's rmse: 0.160351\tvalid_1's rmse: 0.3212\n",
            "CV Accuracy: 0.8694117647058823\n",
            "Training until validation scores don't improve for 5 rounds.\n",
            "Early stopping, best iteration is:\n",
            "[22]\ttraining's rmse: 0.235164\tvalid_1's rmse: 0.283599\n",
            "Training until validation scores don't improve for 5 rounds.\n",
            "Early stopping, best iteration is:\n",
            "[40]\ttraining's rmse: 0.162495\tvalid_1's rmse: 0.309168\n",
            "Training until validation scores don't improve for 5 rounds.\n",
            "Early stopping, best iteration is:\n",
            "[43]\ttraining's rmse: 0.140618\tvalid_1's rmse: 0.329088\n",
            "Training until validation scores don't improve for 5 rounds.\n",
            "Early stopping, best iteration is:\n",
            "[69]\ttraining's rmse: 0.0738259\tvalid_1's rmse: 0.293925\n"
          ]
        },
        {
          "output_type": "stream",
          "name": "stderr",
          "text": [
            "\u001b[32m[I 2022-09-28 18:22:20,630]\u001b[0m Trial 55 finished with value: 0.8694117647058823 and parameters: {'boosting_type': 'gbdt', 'num_leaves': 127, 'learning_rate': 1.3854256094673937e-05, 'metrics': 'rmse'}. Best is trial 33 with value: 0.8729411764705881.\u001b[0m\n"
          ]
        },
        {
          "output_type": "stream",
          "name": "stdout",
          "text": [
            "Training until validation scores don't improve for 5 rounds.\n",
            "Early stopping, best iteration is:\n",
            "[39]\ttraining's rmse: 0.160351\tvalid_1's rmse: 0.3212\n",
            "CV Accuracy: 0.8694117647058823\n",
            "[10000]\ttraining's rmse: 1.65329e-05\tvalid_1's rmse: 0.351063\n",
            "[20000]\ttraining's rmse: 1.37436e-05\tvalid_1's rmse: 0.35584\n",
            "[30000]\ttraining's rmse: 1.29617e-05\tvalid_1's rmse: 0.366356\n",
            "[10000]\ttraining's rmse: 1.60443e-05\tvalid_1's rmse: 0.322586\n",
            "[20000]\ttraining's rmse: 1.36426e-05\tvalid_1's rmse: 0.311542\n",
            "[30000]\ttraining's rmse: 1.26403e-05\tvalid_1's rmse: 0.329039\n",
            "[10000]\ttraining's rmse: 1.61505e-05\tvalid_1's rmse: 0.393397\n",
            "[20000]\ttraining's rmse: 1.3537e-05\tvalid_1's rmse: 0.422348\n",
            "[30000]\ttraining's rmse: 1.25864e-05\tvalid_1's rmse: 0.429268\n",
            "[10000]\ttraining's rmse: 1.59703e-05\tvalid_1's rmse: 0.316942\n",
            "[20000]\ttraining's rmse: 1.38603e-05\tvalid_1's rmse: 0.329865\n",
            "[30000]\ttraining's rmse: 1.24089e-05\tvalid_1's rmse: 0.330239\n",
            "[10000]\ttraining's rmse: 1.60812e-05\tvalid_1's rmse: 0.369809\n",
            "[20000]\ttraining's rmse: 1.35973e-05\tvalid_1's rmse: 0.391484\n",
            "[30000]\ttraining's rmse: 1.22585e-05\tvalid_1's rmse: 0.398083\n"
          ]
        },
        {
          "output_type": "stream",
          "name": "stderr",
          "text": [
            "\u001b[32m[I 2022-09-28 18:29:34,983]\u001b[0m Trial 56 finished with value: 0.8494117647058823 and parameters: {'boosting_type': 'dart', 'num_leaves': 13, 'learning_rate': 9.993570926981195e-06, 'metrics': 'rmse'}. Best is trial 33 with value: 0.8729411764705881.\u001b[0m\n"
          ]
        },
        {
          "output_type": "stream",
          "name": "stdout",
          "text": [
            "CV Accuracy: 0.8494117647058823\n",
            "Training until validation scores don't improve for 5 rounds.\n",
            "Early stopping, best iteration is:\n",
            "[22]\ttraining's rmse: 0.235164\tvalid_1's rmse: 0.283599\n",
            "Training until validation scores don't improve for 5 rounds.\n",
            "Early stopping, best iteration is:\n",
            "[40]\ttraining's rmse: 0.162495\tvalid_1's rmse: 0.309168\n",
            "Training until validation scores don't improve for 5 rounds.\n",
            "Early stopping, best iteration is:\n",
            "[43]\ttraining's rmse: 0.140618\tvalid_1's rmse: 0.329088\n",
            "Training until validation scores don't improve for 5 rounds.\n"
          ]
        },
        {
          "output_type": "stream",
          "name": "stderr",
          "text": [
            "\u001b[32m[I 2022-09-28 18:29:35,524]\u001b[0m Trial 57 finished with value: 0.8694117647058823 and parameters: {'boosting_type': 'gbdt', 'num_leaves': 92, 'learning_rate': 2.353119711430182e-05, 'metrics': 'rmse'}. Best is trial 33 with value: 0.8729411764705881.\u001b[0m\n"
          ]
        },
        {
          "output_type": "stream",
          "name": "stdout",
          "text": [
            "Early stopping, best iteration is:\n",
            "[69]\ttraining's rmse: 0.0738259\tvalid_1's rmse: 0.293925\n",
            "Training until validation scores don't improve for 5 rounds.\n",
            "Early stopping, best iteration is:\n",
            "[39]\ttraining's rmse: 0.160351\tvalid_1's rmse: 0.3212\n",
            "CV Accuracy: 0.8694117647058823\n",
            "Training until validation scores don't improve for 5 rounds.\n",
            "Early stopping, best iteration is:\n",
            "[22]\ttraining's rmse: 0.235164\tvalid_1's rmse: 0.283599\n",
            "Training until validation scores don't improve for 5 rounds.\n",
            "Early stopping, best iteration is:\n",
            "[40]\ttraining's rmse: 0.162495\tvalid_1's rmse: 0.309168\n",
            "Training until validation scores don't improve for 5 rounds.\n",
            "Early stopping, best iteration is:\n",
            "[43]\ttraining's rmse: 0.140618\tvalid_1's rmse: 0.329088\n",
            "Training until validation scores don't improve for 5 rounds.\n"
          ]
        },
        {
          "output_type": "stream",
          "name": "stderr",
          "text": [
            "\u001b[32m[I 2022-09-28 18:29:36,024]\u001b[0m Trial 58 finished with value: 0.8694117647058823 and parameters: {'boosting_type': 'gbdt', 'num_leaves': 126, 'learning_rate': 4.027699869140861e-06, 'metrics': 'rmse'}. Best is trial 33 with value: 0.8729411764705881.\u001b[0m\n"
          ]
        },
        {
          "output_type": "stream",
          "name": "stdout",
          "text": [
            "Early stopping, best iteration is:\n",
            "[69]\ttraining's rmse: 0.0738259\tvalid_1's rmse: 0.293925\n",
            "Training until validation scores don't improve for 5 rounds.\n",
            "Early stopping, best iteration is:\n",
            "[39]\ttraining's rmse: 0.160351\tvalid_1's rmse: 0.3212\n",
            "CV Accuracy: 0.8694117647058823\n",
            "Training until validation scores don't improve for 5 rounds.\n",
            "Early stopping, best iteration is:\n",
            "[18]\ttraining's auc: 0.987031\tvalid_1's auc: 0.970814\n",
            "Training until validation scores don't improve for 5 rounds.\n",
            "Early stopping, best iteration is:\n",
            "[6]\ttraining's auc: 0.973028\tvalid_1's auc: 0.941419\n",
            "Training until validation scores don't improve for 5 rounds.\n",
            "Early stopping, best iteration is:\n",
            "[53]\ttraining's auc: 1\tvalid_1's auc: 0.933429\n",
            "Training until validation scores don't improve for 5 rounds.\n",
            "Early stopping, best iteration is:\n",
            "[33]\ttraining's auc: 0.997294\tvalid_1's auc: 0.944583\n"
          ]
        },
        {
          "output_type": "stream",
          "name": "stderr",
          "text": [
            "\u001b[32m[I 2022-09-28 18:29:36,405]\u001b[0m Trial 59 finished with value: 0.8623529411764705 and parameters: {'boosting_type': 'gbdt', 'num_leaves': 102, 'learning_rate': 1.896001859179901e-05, 'metrics': 'auc'}. Best is trial 33 with value: 0.8729411764705881.\u001b[0m\n"
          ]
        },
        {
          "output_type": "stream",
          "name": "stdout",
          "text": [
            "Training until validation scores don't improve for 5 rounds.\n",
            "Early stopping, best iteration is:\n",
            "[14]\ttraining's auc: 0.985678\tvalid_1's auc: 0.924491\n",
            "CV Accuracy: 0.8623529411764705\n",
            "Training until validation scores don't improve for 5 rounds.\n",
            "Early stopping, best iteration is:\n",
            "[22]\ttraining's rmse: 0.235164\tvalid_1's rmse: 0.283599\n",
            "Training until validation scores don't improve for 5 rounds.\n",
            "Early stopping, best iteration is:\n",
            "[40]\ttraining's rmse: 0.162495\tvalid_1's rmse: 0.309168\n",
            "Training until validation scores don't improve for 5 rounds.\n",
            "Early stopping, best iteration is:\n",
            "[43]\ttraining's rmse: 0.140618\tvalid_1's rmse: 0.329088\n",
            "Training until validation scores don't improve for 5 rounds.\n",
            "Early stopping, best iteration is:\n",
            "[69]\ttraining's rmse: 0.0738259\tvalid_1's rmse: 0.293925\n"
          ]
        },
        {
          "output_type": "stream",
          "name": "stderr",
          "text": [
            "\u001b[32m[I 2022-09-28 18:29:36,920]\u001b[0m Trial 60 finished with value: 0.8694117647058823 and parameters: {'boosting_type': 'gbdt', 'num_leaves': 53, 'learning_rate': 1.3352811208827877e-07, 'metrics': 'rmse'}. Best is trial 33 with value: 0.8729411764705881.\u001b[0m\n"
          ]
        },
        {
          "output_type": "stream",
          "name": "stdout",
          "text": [
            "Training until validation scores don't improve for 5 rounds.\n",
            "Early stopping, best iteration is:\n",
            "[39]\ttraining's rmse: 0.160351\tvalid_1's rmse: 0.3212\n",
            "CV Accuracy: 0.8694117647058823\n",
            "Training until validation scores don't improve for 5 rounds.\n",
            "Early stopping, best iteration is:\n",
            "[22]\ttraining's rmse: 0.235164\tvalid_1's rmse: 0.283599\n",
            "Training until validation scores don't improve for 5 rounds.\n",
            "Early stopping, best iteration is:\n",
            "[40]\ttraining's rmse: 0.162495\tvalid_1's rmse: 0.309168\n",
            "Training until validation scores don't improve for 5 rounds.\n",
            "Early stopping, best iteration is:\n",
            "[43]\ttraining's rmse: 0.140618\tvalid_1's rmse: 0.329088\n",
            "Training until validation scores don't improve for 5 rounds.\n",
            "Early stopping, best iteration is:\n",
            "[69]\ttraining's rmse: 0.0738259\tvalid_1's rmse: 0.293925\n",
            "Training until validation scores don't improve for 5 rounds.\n"
          ]
        },
        {
          "output_type": "stream",
          "name": "stderr",
          "text": [
            "\u001b[32m[I 2022-09-28 18:29:37,483]\u001b[0m Trial 61 finished with value: 0.8694117647058823 and parameters: {'boosting_type': 'gbdt', 'num_leaves': 263, 'learning_rate': 5.632127249314836e-06, 'metrics': 'rmse'}. Best is trial 33 with value: 0.8729411764705881.\u001b[0m\n"
          ]
        },
        {
          "output_type": "stream",
          "name": "stdout",
          "text": [
            "Early stopping, best iteration is:\n",
            "[39]\ttraining's rmse: 0.160351\tvalid_1's rmse: 0.3212\n",
            "CV Accuracy: 0.8694117647058823\n",
            "Training until validation scores don't improve for 5 rounds.\n",
            "Early stopping, best iteration is:\n",
            "[22]\ttraining's rmse: 0.235164\tvalid_1's rmse: 0.283599\n",
            "Training until validation scores don't improve for 5 rounds.\n",
            "Early stopping, best iteration is:\n",
            "[40]\ttraining's rmse: 0.162495\tvalid_1's rmse: 0.309168\n",
            "Training until validation scores don't improve for 5 rounds.\n",
            "Early stopping, best iteration is:\n",
            "[43]\ttraining's rmse: 0.140618\tvalid_1's rmse: 0.329088\n",
            "Training until validation scores don't improve for 5 rounds.\n",
            "Early stopping, best iteration is:\n",
            "[69]\ttraining's rmse: 0.0738259\tvalid_1's rmse: 0.293925\n",
            "Training until validation scores don't improve for 5 rounds.\n"
          ]
        },
        {
          "output_type": "stream",
          "name": "stderr",
          "text": [
            "\u001b[32m[I 2022-09-28 18:29:37,988]\u001b[0m Trial 62 finished with value: 0.8694117647058823 and parameters: {'boosting_type': 'gbdt', 'num_leaves': 50, 'learning_rate': 1.668116175664682e-07, 'metrics': 'rmse'}. Best is trial 33 with value: 0.8729411764705881.\u001b[0m\n"
          ]
        },
        {
          "output_type": "stream",
          "name": "stdout",
          "text": [
            "Early stopping, best iteration is:\n",
            "[39]\ttraining's rmse: 0.160351\tvalid_1's rmse: 0.3212\n",
            "CV Accuracy: 0.8694117647058823\n",
            "Training until validation scores don't improve for 5 rounds.\n",
            "Early stopping, best iteration is:\n",
            "[22]\ttraining's rmse: 0.235164\tvalid_1's rmse: 0.283599\n",
            "Training until validation scores don't improve for 5 rounds.\n",
            "Early stopping, best iteration is:\n",
            "[40]\ttraining's rmse: 0.162495\tvalid_1's rmse: 0.309168\n",
            "Training until validation scores don't improve for 5 rounds.\n",
            "Early stopping, best iteration is:\n",
            "[43]\ttraining's rmse: 0.140618\tvalid_1's rmse: 0.329088\n",
            "Training until validation scores don't improve for 5 rounds.\n"
          ]
        },
        {
          "output_type": "stream",
          "name": "stderr",
          "text": [
            "\u001b[32m[I 2022-09-28 18:29:38,562]\u001b[0m Trial 63 finished with value: 0.8694117647058823 and parameters: {'boosting_type': 'gbdt', 'num_leaves': 385, 'learning_rate': 5.848314542393325e-06, 'metrics': 'rmse'}. Best is trial 33 with value: 0.8729411764705881.\u001b[0m\n"
          ]
        },
        {
          "output_type": "stream",
          "name": "stdout",
          "text": [
            "Early stopping, best iteration is:\n",
            "[69]\ttraining's rmse: 0.0738259\tvalid_1's rmse: 0.293925\n",
            "Training until validation scores don't improve for 5 rounds.\n",
            "Early stopping, best iteration is:\n",
            "[39]\ttraining's rmse: 0.160351\tvalid_1's rmse: 0.3212\n",
            "CV Accuracy: 0.8694117647058823\n",
            "Training until validation scores don't improve for 5 rounds.\n",
            "Early stopping, best iteration is:\n",
            "[22]\ttraining's rmse: 0.235164\tvalid_1's rmse: 0.283599\n",
            "Training until validation scores don't improve for 5 rounds.\n",
            "Early stopping, best iteration is:\n",
            "[40]\ttraining's rmse: 0.162495\tvalid_1's rmse: 0.309168\n",
            "Training until validation scores don't improve for 5 rounds.\n",
            "Early stopping, best iteration is:\n",
            "[43]\ttraining's rmse: 0.140618\tvalid_1's rmse: 0.329088\n"
          ]
        },
        {
          "output_type": "stream",
          "name": "stderr",
          "text": [
            "\u001b[32m[I 2022-09-28 18:29:39,070]\u001b[0m Trial 64 finished with value: 0.8694117647058823 and parameters: {'boosting_type': 'gbdt', 'num_leaves': 198, 'learning_rate': 4.275853581367149e-05, 'metrics': 'rmse'}. Best is trial 33 with value: 0.8729411764705881.\u001b[0m\n"
          ]
        },
        {
          "output_type": "stream",
          "name": "stdout",
          "text": [
            "Training until validation scores don't improve for 5 rounds.\n",
            "Early stopping, best iteration is:\n",
            "[69]\ttraining's rmse: 0.0738259\tvalid_1's rmse: 0.293925\n",
            "Training until validation scores don't improve for 5 rounds.\n",
            "Early stopping, best iteration is:\n",
            "[39]\ttraining's rmse: 0.160351\tvalid_1's rmse: 0.3212\n",
            "CV Accuracy: 0.8694117647058823\n",
            "Training until validation scores don't improve for 5 rounds.\n",
            "Early stopping, best iteration is:\n",
            "[22]\ttraining's rmse: 0.235164\tvalid_1's rmse: 0.283599\n",
            "Training until validation scores don't improve for 5 rounds.\n",
            "Early stopping, best iteration is:\n",
            "[40]\ttraining's rmse: 0.162495\tvalid_1's rmse: 0.309168\n",
            "Training until validation scores don't improve for 5 rounds.\n",
            "Early stopping, best iteration is:\n",
            "[43]\ttraining's rmse: 0.140618\tvalid_1's rmse: 0.329088\n",
            "Training until validation scores don't improve for 5 rounds.\n",
            "Early stopping, best iteration is:\n",
            "[69]\ttraining's rmse: 0.0738259\tvalid_1's rmse: 0.293925\n",
            "Training until validation scores don't improve for 5 rounds.\n"
          ]
        },
        {
          "output_type": "stream",
          "name": "stderr",
          "text": [
            "\u001b[32m[I 2022-09-28 18:29:39,646]\u001b[0m Trial 65 finished with value: 0.8694117647058823 and parameters: {'boosting_type': 'gbdt', 'num_leaves': 316, 'learning_rate': 4.216576419522683e-06, 'metrics': 'rmse'}. Best is trial 33 with value: 0.8729411764705881.\u001b[0m\n"
          ]
        },
        {
          "output_type": "stream",
          "name": "stdout",
          "text": [
            "Early stopping, best iteration is:\n",
            "[39]\ttraining's rmse: 0.160351\tvalid_1's rmse: 0.3212\n",
            "CV Accuracy: 0.8694117647058823\n",
            "[10000]\ttraining's rmse: 1.64468e-05\tvalid_1's rmse: 0.345962\n",
            "[20000]\ttraining's rmse: 1.33943e-05\tvalid_1's rmse: 0.363681\n",
            "[30000]\ttraining's rmse: 1.32571e-05\tvalid_1's rmse: 0.370297\n",
            "[10000]\ttraining's rmse: 1.62569e-05\tvalid_1's rmse: 0.325069\n",
            "[20000]\ttraining's rmse: 1.33838e-05\tvalid_1's rmse: 0.313566\n",
            "[30000]\ttraining's rmse: 1.30807e-05\tvalid_1's rmse: 0.327292\n",
            "[10000]\ttraining's rmse: 1.58901e-05\tvalid_1's rmse: 0.390777\n",
            "[20000]\ttraining's rmse: 1.34455e-05\tvalid_1's rmse: 0.420894\n",
            "[30000]\ttraining's rmse: 1.29568e-05\tvalid_1's rmse: 0.432442\n",
            "[10000]\ttraining's rmse: 1.60479e-05\tvalid_1's rmse: 0.322211\n",
            "[20000]\ttraining's rmse: 1.32317e-05\tvalid_1's rmse: 0.325571\n",
            "[30000]\ttraining's rmse: 1.28376e-05\tvalid_1's rmse: 0.329546\n",
            "[10000]\ttraining's rmse: 1.6072e-05\tvalid_1's rmse: 0.37463\n",
            "[20000]\ttraining's rmse: 1.29975e-05\tvalid_1's rmse: 0.387513\n",
            "[30000]\ttraining's rmse: 1.26411e-05\tvalid_1's rmse: 0.400217\n"
          ]
        },
        {
          "output_type": "stream",
          "name": "stderr",
          "text": [
            "\u001b[32m[I 2022-09-28 18:37:37,262]\u001b[0m Trial 66 finished with value: 0.8447058823529412 and parameters: {'boosting_type': 'dart', 'num_leaves': 174, 'learning_rate': 1.5627224184545404e-06, 'metrics': 'rmse'}. Best is trial 33 with value: 0.8729411764705881.\u001b[0m\n"
          ]
        },
        {
          "output_type": "stream",
          "name": "stdout",
          "text": [
            "CV Accuracy: 0.8447058823529412\n",
            "Training until validation scores don't improve for 5 rounds.\n",
            "Early stopping, best iteration is:\n",
            "[22]\ttraining's rmse: 0.235164\tvalid_1's rmse: 0.283599\n",
            "Training until validation scores don't improve for 5 rounds.\n",
            "Early stopping, best iteration is:\n",
            "[40]\ttraining's rmse: 0.162495\tvalid_1's rmse: 0.309168\n",
            "Training until validation scores don't improve for 5 rounds.\n",
            "Early stopping, best iteration is:\n",
            "[43]\ttraining's rmse: 0.140618\tvalid_1's rmse: 0.329088\n",
            "Training until validation scores don't improve for 5 rounds.\n",
            "Early stopping, best iteration is:\n",
            "[69]\ttraining's rmse: 0.0738259\tvalid_1's rmse: 0.293925\n"
          ]
        },
        {
          "output_type": "stream",
          "name": "stderr",
          "text": [
            "\u001b[32m[I 2022-09-28 18:37:37,766]\u001b[0m Trial 67 finished with value: 0.8694117647058823 and parameters: {'boosting_type': 'gbdt', 'num_leaves': 346, 'learning_rate': 3.0900351770150146e-06, 'metrics': 'rmse'}. Best is trial 33 with value: 0.8729411764705881.\u001b[0m\n"
          ]
        },
        {
          "output_type": "stream",
          "name": "stdout",
          "text": [
            "Training until validation scores don't improve for 5 rounds.\n",
            "Early stopping, best iteration is:\n",
            "[39]\ttraining's rmse: 0.160351\tvalid_1's rmse: 0.3212\n",
            "CV Accuracy: 0.8694117647058823\n",
            "Training until validation scores don't improve for 5 rounds.\n",
            "Early stopping, best iteration is:\n",
            "[22]\ttraining's rmse: 0.235164\tvalid_1's rmse: 0.283599\n",
            "Training until validation scores don't improve for 5 rounds.\n",
            "Early stopping, best iteration is:\n",
            "[40]\ttraining's rmse: 0.162495\tvalid_1's rmse: 0.309168\n",
            "Training until validation scores don't improve for 5 rounds.\n",
            "Early stopping, best iteration is:\n",
            "[43]\ttraining's rmse: 0.140618\tvalid_1's rmse: 0.329088\n",
            "Training until validation scores don't improve for 5 rounds.\n"
          ]
        },
        {
          "output_type": "stream",
          "name": "stderr",
          "text": [
            "\u001b[32m[I 2022-09-28 18:37:38,304]\u001b[0m Trial 68 finished with value: 0.8694117647058823 and parameters: {'boosting_type': 'gbdt', 'num_leaves': 258, 'learning_rate': 2.3951566697503544e-05, 'metrics': 'rmse'}. Best is trial 33 with value: 0.8729411764705881.\u001b[0m\n"
          ]
        },
        {
          "output_type": "stream",
          "name": "stdout",
          "text": [
            "Early stopping, best iteration is:\n",
            "[69]\ttraining's rmse: 0.0738259\tvalid_1's rmse: 0.293925\n",
            "Training until validation scores don't improve for 5 rounds.\n",
            "Early stopping, best iteration is:\n",
            "[39]\ttraining's rmse: 0.160351\tvalid_1's rmse: 0.3212\n",
            "CV Accuracy: 0.8694117647058823\n",
            "Training until validation scores don't improve for 5 rounds.\n",
            "Early stopping, best iteration is:\n",
            "[22]\ttraining's rmse: 0.235164\tvalid_1's rmse: 0.283599\n",
            "Training until validation scores don't improve for 5 rounds.\n",
            "Early stopping, best iteration is:\n",
            "[40]\ttraining's rmse: 0.162495\tvalid_1's rmse: 0.309168\n",
            "Training until validation scores don't improve for 5 rounds.\n",
            "Early stopping, best iteration is:\n",
            "[43]\ttraining's rmse: 0.140618\tvalid_1's rmse: 0.329088\n"
          ]
        },
        {
          "output_type": "stream",
          "name": "stderr",
          "text": [
            "\u001b[32m[I 2022-09-28 18:37:38,841]\u001b[0m Trial 69 finished with value: 0.8694117647058823 and parameters: {'boosting_type': 'gbdt', 'num_leaves': 362, 'learning_rate': 3.01611435633797e-06, 'metrics': 'rmse'}. Best is trial 33 with value: 0.8729411764705881.\u001b[0m\n"
          ]
        },
        {
          "output_type": "stream",
          "name": "stdout",
          "text": [
            "Training until validation scores don't improve for 5 rounds.\n",
            "Early stopping, best iteration is:\n",
            "[69]\ttraining's rmse: 0.0738259\tvalid_1's rmse: 0.293925\n",
            "Training until validation scores don't improve for 5 rounds.\n",
            "Early stopping, best iteration is:\n",
            "[39]\ttraining's rmse: 0.160351\tvalid_1's rmse: 0.3212\n",
            "CV Accuracy: 0.8694117647058823\n",
            "Training until validation scores don't improve for 5 rounds.\n",
            "Early stopping, best iteration is:\n",
            "[18]\ttraining's auc: 0.987031\tvalid_1's auc: 0.970814\n",
            "Training until validation scores don't improve for 5 rounds.\n",
            "Early stopping, best iteration is:\n",
            "[6]\ttraining's auc: 0.973028\tvalid_1's auc: 0.941419\n",
            "Training until validation scores don't improve for 5 rounds.\n",
            "Early stopping, best iteration is:\n",
            "[53]\ttraining's auc: 1\tvalid_1's auc: 0.933429\n"
          ]
        },
        {
          "output_type": "stream",
          "name": "stderr",
          "text": [
            "\u001b[32m[I 2022-09-28 18:37:39,237]\u001b[0m Trial 70 finished with value: 0.8623529411764705 and parameters: {'boosting_type': 'gbdt', 'num_leaves': 245, 'learning_rate': 3.0347967358199823e-05, 'metrics': 'auc'}. Best is trial 33 with value: 0.8729411764705881.\u001b[0m\n"
          ]
        },
        {
          "output_type": "stream",
          "name": "stdout",
          "text": [
            "Training until validation scores don't improve for 5 rounds.\n",
            "Early stopping, best iteration is:\n",
            "[33]\ttraining's auc: 0.997294\tvalid_1's auc: 0.944583\n",
            "Training until validation scores don't improve for 5 rounds.\n",
            "Early stopping, best iteration is:\n",
            "[14]\ttraining's auc: 0.985678\tvalid_1's auc: 0.924491\n",
            "CV Accuracy: 0.8623529411764705\n",
            "Training until validation scores don't improve for 5 rounds.\n",
            "Early stopping, best iteration is:\n",
            "[22]\ttraining's rmse: 0.235164\tvalid_1's rmse: 0.283599\n",
            "Training until validation scores don't improve for 5 rounds.\n",
            "Early stopping, best iteration is:\n",
            "[40]\ttraining's rmse: 0.162495\tvalid_1's rmse: 0.309168\n",
            "Training until validation scores don't improve for 5 rounds.\n",
            "Early stopping, best iteration is:\n",
            "[43]\ttraining's rmse: 0.140618\tvalid_1's rmse: 0.329088\n",
            "Training until validation scores don't improve for 5 rounds.\n"
          ]
        },
        {
          "output_type": "stream",
          "name": "stderr",
          "text": [
            "\u001b[32m[I 2022-09-28 18:37:39,735]\u001b[0m Trial 71 finished with value: 0.8694117647058823 and parameters: {'boosting_type': 'gbdt', 'num_leaves': 140, 'learning_rate': 0.0031727100924264754, 'metrics': 'rmse'}. Best is trial 33 with value: 0.8729411764705881.\u001b[0m\n"
          ]
        },
        {
          "output_type": "stream",
          "name": "stdout",
          "text": [
            "Early stopping, best iteration is:\n",
            "[69]\ttraining's rmse: 0.0738259\tvalid_1's rmse: 0.293925\n",
            "Training until validation scores don't improve for 5 rounds.\n",
            "Early stopping, best iteration is:\n",
            "[39]\ttraining's rmse: 0.160351\tvalid_1's rmse: 0.3212\n",
            "CV Accuracy: 0.8694117647058823\n",
            "Training until validation scores don't improve for 5 rounds.\n",
            "Early stopping, best iteration is:\n",
            "[22]\ttraining's rmse: 0.235164\tvalid_1's rmse: 0.283599\n",
            "Training until validation scores don't improve for 5 rounds.\n",
            "Early stopping, best iteration is:\n",
            "[40]\ttraining's rmse: 0.162495\tvalid_1's rmse: 0.309168\n",
            "Training until validation scores don't improve for 5 rounds.\n",
            "Early stopping, best iteration is:\n",
            "[43]\ttraining's rmse: 0.140618\tvalid_1's rmse: 0.329088\n",
            "Training until validation scores don't improve for 5 rounds.\n"
          ]
        },
        {
          "output_type": "stream",
          "name": "stderr",
          "text": [
            "\u001b[32m[I 2022-09-28 18:37:40,281]\u001b[0m Trial 72 finished with value: 0.8694117647058823 and parameters: {'boosting_type': 'gbdt', 'num_leaves': 128, 'learning_rate': 9.311897422085148e-05, 'metrics': 'rmse'}. Best is trial 33 with value: 0.8729411764705881.\u001b[0m\n"
          ]
        },
        {
          "output_type": "stream",
          "name": "stdout",
          "text": [
            "Early stopping, best iteration is:\n",
            "[69]\ttraining's rmse: 0.0738259\tvalid_1's rmse: 0.293925\n",
            "Training until validation scores don't improve for 5 rounds.\n",
            "Early stopping, best iteration is:\n",
            "[39]\ttraining's rmse: 0.160351\tvalid_1's rmse: 0.3212\n",
            "CV Accuracy: 0.8694117647058823\n",
            "Training until validation scores don't improve for 5 rounds.\n",
            "Early stopping, best iteration is:\n",
            "[22]\ttraining's rmse: 0.235164\tvalid_1's rmse: 0.283599\n",
            "Training until validation scores don't improve for 5 rounds.\n",
            "Early stopping, best iteration is:\n",
            "[40]\ttraining's rmse: 0.162495\tvalid_1's rmse: 0.309168\n",
            "Training until validation scores don't improve for 5 rounds.\n",
            "Early stopping, best iteration is:\n",
            "[43]\ttraining's rmse: 0.140618\tvalid_1's rmse: 0.329088\n",
            "Training until validation scores don't improve for 5 rounds.\n"
          ]
        },
        {
          "output_type": "stream",
          "name": "stderr",
          "text": [
            "\u001b[32m[I 2022-09-28 18:37:40,804]\u001b[0m Trial 73 finished with value: 0.8694117647058823 and parameters: {'boosting_type': 'gbdt', 'num_leaves': 322, 'learning_rate': 9.273426806226423e-06, 'metrics': 'rmse'}. Best is trial 33 with value: 0.8729411764705881.\u001b[0m\n"
          ]
        },
        {
          "output_type": "stream",
          "name": "stdout",
          "text": [
            "Early stopping, best iteration is:\n",
            "[69]\ttraining's rmse: 0.0738259\tvalid_1's rmse: 0.293925\n",
            "Training until validation scores don't improve for 5 rounds.\n",
            "Early stopping, best iteration is:\n",
            "[39]\ttraining's rmse: 0.160351\tvalid_1's rmse: 0.3212\n",
            "CV Accuracy: 0.8694117647058823\n",
            "Training until validation scores don't improve for 5 rounds.\n",
            "Early stopping, best iteration is:\n",
            "[22]\ttraining's rmse: 0.235164\tvalid_1's rmse: 0.283599\n",
            "Training until validation scores don't improve for 5 rounds.\n",
            "Early stopping, best iteration is:\n",
            "[40]\ttraining's rmse: 0.162495\tvalid_1's rmse: 0.309168\n",
            "Training until validation scores don't improve for 5 rounds.\n",
            "Early stopping, best iteration is:\n",
            "[43]\ttraining's rmse: 0.140618\tvalid_1's rmse: 0.329088\n",
            "Training until validation scores don't improve for 5 rounds.\n"
          ]
        },
        {
          "output_type": "stream",
          "name": "stderr",
          "text": [
            "\u001b[32m[I 2022-09-28 18:37:41,335]\u001b[0m Trial 74 finished with value: 0.8694117647058823 and parameters: {'boosting_type': 'gbdt', 'num_leaves': 424, 'learning_rate': 8.20805018724499e-07, 'metrics': 'rmse'}. Best is trial 33 with value: 0.8729411764705881.\u001b[0m\n"
          ]
        },
        {
          "output_type": "stream",
          "name": "stdout",
          "text": [
            "Early stopping, best iteration is:\n",
            "[69]\ttraining's rmse: 0.0738259\tvalid_1's rmse: 0.293925\n",
            "Training until validation scores don't improve for 5 rounds.\n",
            "Early stopping, best iteration is:\n",
            "[39]\ttraining's rmse: 0.160351\tvalid_1's rmse: 0.3212\n",
            "CV Accuracy: 0.8694117647058823\n",
            "Training until validation scores don't improve for 5 rounds.\n",
            "Early stopping, best iteration is:\n",
            "[22]\ttraining's rmse: 0.235164\tvalid_1's rmse: 0.283599\n",
            "Training until validation scores don't improve for 5 rounds.\n",
            "Early stopping, best iteration is:\n",
            "[40]\ttraining's rmse: 0.162495\tvalid_1's rmse: 0.309168\n",
            "Training until validation scores don't improve for 5 rounds.\n",
            "Early stopping, best iteration is:\n",
            "[43]\ttraining's rmse: 0.140618\tvalid_1's rmse: 0.329088\n",
            "Training until validation scores don't improve for 5 rounds.\n"
          ]
        },
        {
          "output_type": "stream",
          "name": "stderr",
          "text": [
            "\u001b[32m[I 2022-09-28 18:37:41,809]\u001b[0m Trial 75 finished with value: 0.8694117647058823 and parameters: {'boosting_type': 'gbdt', 'num_leaves': 186, 'learning_rate': 1.5899164291849435e-06, 'metrics': 'rmse'}. Best is trial 33 with value: 0.8729411764705881.\u001b[0m\n"
          ]
        },
        {
          "output_type": "stream",
          "name": "stdout",
          "text": [
            "Early stopping, best iteration is:\n",
            "[69]\ttraining's rmse: 0.0738259\tvalid_1's rmse: 0.293925\n",
            "Training until validation scores don't improve for 5 rounds.\n",
            "Early stopping, best iteration is:\n",
            "[39]\ttraining's rmse: 0.160351\tvalid_1's rmse: 0.3212\n",
            "CV Accuracy: 0.8694117647058823\n",
            "Training until validation scores don't improve for 5 rounds.\n",
            "Early stopping, best iteration is:\n",
            "[22]\ttraining's rmse: 0.235164\tvalid_1's rmse: 0.283599\n",
            "Training until validation scores don't improve for 5 rounds.\n",
            "Early stopping, best iteration is:\n",
            "[40]\ttraining's rmse: 0.162495\tvalid_1's rmse: 0.309168\n",
            "Training until validation scores don't improve for 5 rounds.\n",
            "Early stopping, best iteration is:\n",
            "[43]\ttraining's rmse: 0.140618\tvalid_1's rmse: 0.329088\n",
            "Training until validation scores don't improve for 5 rounds.\n"
          ]
        },
        {
          "output_type": "stream",
          "name": "stderr",
          "text": [
            "\u001b[32m[I 2022-09-28 18:37:42,325]\u001b[0m Trial 76 finished with value: 0.8694117647058823 and parameters: {'boosting_type': 'gbdt', 'num_leaves': 63, 'learning_rate': 1.3560919276864713e-08, 'metrics': 'rmse'}. Best is trial 33 with value: 0.8729411764705881.\u001b[0m\n"
          ]
        },
        {
          "output_type": "stream",
          "name": "stdout",
          "text": [
            "Early stopping, best iteration is:\n",
            "[69]\ttraining's rmse: 0.0738259\tvalid_1's rmse: 0.293925\n",
            "Training until validation scores don't improve for 5 rounds.\n",
            "Early stopping, best iteration is:\n",
            "[39]\ttraining's rmse: 0.160351\tvalid_1's rmse: 0.3212\n",
            "CV Accuracy: 0.8694117647058823\n",
            "Training until validation scores don't improve for 5 rounds.\n",
            "Early stopping, best iteration is:\n",
            "[22]\ttraining's rmse: 0.235164\tvalid_1's rmse: 0.283599\n",
            "Training until validation scores don't improve for 5 rounds.\n",
            "Early stopping, best iteration is:\n",
            "[40]\ttraining's rmse: 0.162495\tvalid_1's rmse: 0.309168\n",
            "Training until validation scores don't improve for 5 rounds.\n",
            "Early stopping, best iteration is:\n",
            "[43]\ttraining's rmse: 0.140618\tvalid_1's rmse: 0.329088\n",
            "Training until validation scores don't improve for 5 rounds.\n"
          ]
        },
        {
          "output_type": "stream",
          "name": "stderr",
          "text": [
            "\u001b[32m[I 2022-09-28 18:37:42,779]\u001b[0m Trial 77 finished with value: 0.8694117647058823 and parameters: {'boosting_type': 'gbdt', 'num_leaves': 39, 'learning_rate': 5.418624140042716e-08, 'metrics': 'rmse'}. Best is trial 33 with value: 0.8729411764705881.\u001b[0m\n"
          ]
        },
        {
          "output_type": "stream",
          "name": "stdout",
          "text": [
            "Early stopping, best iteration is:\n",
            "[69]\ttraining's rmse: 0.0738259\tvalid_1's rmse: 0.293925\n",
            "Training until validation scores don't improve for 5 rounds.\n",
            "Early stopping, best iteration is:\n",
            "[39]\ttraining's rmse: 0.160351\tvalid_1's rmse: 0.3212\n",
            "CV Accuracy: 0.8694117647058823\n",
            "[10000]\ttraining's rmse: 1.64468e-05\tvalid_1's rmse: 0.345962\n",
            "[20000]\ttraining's rmse: 1.33943e-05\tvalid_1's rmse: 0.363681\n",
            "[30000]\ttraining's rmse: 1.32571e-05\tvalid_1's rmse: 0.370297\n",
            "[10000]\ttraining's rmse: 1.62569e-05\tvalid_1's rmse: 0.325069\n",
            "[20000]\ttraining's rmse: 1.33838e-05\tvalid_1's rmse: 0.313566\n",
            "[30000]\ttraining's rmse: 1.30807e-05\tvalid_1's rmse: 0.327292\n",
            "[10000]\ttraining's rmse: 1.58901e-05\tvalid_1's rmse: 0.390777\n",
            "[20000]\ttraining's rmse: 1.34455e-05\tvalid_1's rmse: 0.420894\n",
            "[30000]\ttraining's rmse: 1.29568e-05\tvalid_1's rmse: 0.432442\n",
            "[10000]\ttraining's rmse: 1.60479e-05\tvalid_1's rmse: 0.322211\n",
            "[20000]\ttraining's rmse: 1.32317e-05\tvalid_1's rmse: 0.325571\n",
            "[30000]\ttraining's rmse: 1.28376e-05\tvalid_1's rmse: 0.329546\n",
            "[10000]\ttraining's rmse: 1.6072e-05\tvalid_1's rmse: 0.37463\n",
            "[20000]\ttraining's rmse: 1.29975e-05\tvalid_1's rmse: 0.387513\n",
            "[30000]\ttraining's rmse: 1.26411e-05\tvalid_1's rmse: 0.400217\n"
          ]
        },
        {
          "output_type": "stream",
          "name": "stderr",
          "text": [
            "\u001b[32m[I 2022-09-28 18:45:38,597]\u001b[0m Trial 78 finished with value: 0.8447058823529412 and parameters: {'boosting_type': 'dart', 'num_leaves': 148, 'learning_rate': 5.6083933841274066e-08, 'metrics': 'rmse'}. Best is trial 33 with value: 0.8729411764705881.\u001b[0m\n"
          ]
        },
        {
          "output_type": "stream",
          "name": "stdout",
          "text": [
            "CV Accuracy: 0.8447058823529412\n",
            "Training until validation scores don't improve for 5 rounds.\n",
            "Early stopping, best iteration is:\n",
            "[22]\ttraining's rmse: 0.241902\tvalid_1's rmse: 0.276163\n",
            "Training until validation scores don't improve for 5 rounds.\n",
            "Early stopping, best iteration is:\n",
            "[39]\ttraining's rmse: 0.184629\tvalid_1's rmse: 0.303988\n",
            "Training until validation scores don't improve for 5 rounds.\n",
            "Early stopping, best iteration is:\n",
            "[34]\ttraining's rmse: 0.184256\tvalid_1's rmse: 0.337087\n",
            "Training until validation scores don't improve for 5 rounds.\n"
          ]
        },
        {
          "output_type": "stream",
          "name": "stderr",
          "text": [
            "\u001b[32m[I 2022-09-28 18:45:38,839]\u001b[0m Trial 79 finished with value: 0.8694117647058823 and parameters: {'boosting_type': 'gbdt', 'num_leaves': 15, 'learning_rate': 6.037750813952462e-06, 'metrics': 'rmse'}. Best is trial 33 with value: 0.8729411764705881.\u001b[0m\n"
          ]
        },
        {
          "output_type": "stream",
          "name": "stdout",
          "text": [
            "Early stopping, best iteration is:\n",
            "[33]\ttraining's rmse: 0.196455\tvalid_1's rmse: 0.300567\n",
            "Training until validation scores don't improve for 5 rounds.\n",
            "Early stopping, best iteration is:\n",
            "[35]\ttraining's rmse: 0.18349\tvalid_1's rmse: 0.322786\n",
            "CV Accuracy: 0.8694117647058823\n",
            "Training until validation scores don't improve for 5 rounds.\n",
            "Early stopping, best iteration is:\n",
            "[22]\ttraining's rmse: 0.235164\tvalid_1's rmse: 0.283599\n",
            "Training until validation scores don't improve for 5 rounds.\n",
            "Early stopping, best iteration is:\n",
            "[40]\ttraining's rmse: 0.162495\tvalid_1's rmse: 0.309168\n",
            "Training until validation scores don't improve for 5 rounds.\n",
            "Early stopping, best iteration is:\n",
            "[43]\ttraining's rmse: 0.140618\tvalid_1's rmse: 0.329088\n",
            "Training until validation scores don't improve for 5 rounds.\n"
          ]
        },
        {
          "output_type": "stream",
          "name": "stderr",
          "text": [
            "\u001b[32m[I 2022-09-28 18:45:39,408]\u001b[0m Trial 80 finished with value: 0.8694117647058823 and parameters: {'boosting_type': 'gbdt', 'num_leaves': 428, 'learning_rate': 6.267128492896539e-07, 'metrics': 'rmse'}. Best is trial 33 with value: 0.8729411764705881.\u001b[0m\n"
          ]
        },
        {
          "output_type": "stream",
          "name": "stdout",
          "text": [
            "Early stopping, best iteration is:\n",
            "[69]\ttraining's rmse: 0.0738259\tvalid_1's rmse: 0.293925\n",
            "Training until validation scores don't improve for 5 rounds.\n",
            "Early stopping, best iteration is:\n",
            "[39]\ttraining's rmse: 0.160351\tvalid_1's rmse: 0.3212\n",
            "CV Accuracy: 0.8694117647058823\n",
            "Training until validation scores don't improve for 5 rounds.\n",
            "Early stopping, best iteration is:\n",
            "[22]\ttraining's rmse: 0.235164\tvalid_1's rmse: 0.283599\n",
            "Training until validation scores don't improve for 5 rounds.\n",
            "Early stopping, best iteration is:\n",
            "[40]\ttraining's rmse: 0.162495\tvalid_1's rmse: 0.309168\n",
            "Training until validation scores don't improve for 5 rounds.\n",
            "Early stopping, best iteration is:\n",
            "[43]\ttraining's rmse: 0.140618\tvalid_1's rmse: 0.329088\n",
            "Training until validation scores don't improve for 5 rounds.\n",
            "Early stopping, best iteration is:\n",
            "[69]\ttraining's rmse: 0.0738259\tvalid_1's rmse: 0.293925\n",
            "Training until validation scores don't improve for 5 rounds.\n",
            "Early stopping, best iteration is:\n",
            "[39]\ttraining's rmse: 0.160351\tvalid_1's rmse: 0.3212\n"
          ]
        },
        {
          "output_type": "stream",
          "name": "stderr",
          "text": [
            "\u001b[32m[I 2022-09-28 18:45:39,950]\u001b[0m Trial 81 finished with value: 0.8694117647058823 and parameters: {'boosting_type': 'gbdt', 'num_leaves': 469, 'learning_rate': 0.0003087794112793953, 'metrics': 'rmse'}. Best is trial 33 with value: 0.8729411764705881.\u001b[0m\n"
          ]
        },
        {
          "output_type": "stream",
          "name": "stdout",
          "text": [
            "CV Accuracy: 0.8694117647058823\n",
            "Training until validation scores don't improve for 5 rounds.\n",
            "Early stopping, best iteration is:\n",
            "[22]\ttraining's rmse: 0.235164\tvalid_1's rmse: 0.283599\n",
            "Training until validation scores don't improve for 5 rounds.\n",
            "Early stopping, best iteration is:\n",
            "[40]\ttraining's rmse: 0.162495\tvalid_1's rmse: 0.309168\n",
            "Training until validation scores don't improve for 5 rounds.\n",
            "Early stopping, best iteration is:\n",
            "[43]\ttraining's rmse: 0.140618\tvalid_1's rmse: 0.329088\n",
            "Training until validation scores don't improve for 5 rounds.\n"
          ]
        },
        {
          "output_type": "stream",
          "name": "stderr",
          "text": [
            "\u001b[32m[I 2022-09-28 18:45:40,533]\u001b[0m Trial 82 finished with value: 0.8694117647058823 and parameters: {'boosting_type': 'gbdt', 'num_leaves': 569, 'learning_rate': 0.0006081089852253566, 'metrics': 'rmse'}. Best is trial 33 with value: 0.8729411764705881.\u001b[0m\n"
          ]
        },
        {
          "output_type": "stream",
          "name": "stdout",
          "text": [
            "Early stopping, best iteration is:\n",
            "[69]\ttraining's rmse: 0.0738259\tvalid_1's rmse: 0.293925\n",
            "Training until validation scores don't improve for 5 rounds.\n",
            "Early stopping, best iteration is:\n",
            "[39]\ttraining's rmse: 0.160351\tvalid_1's rmse: 0.3212\n",
            "CV Accuracy: 0.8694117647058823\n",
            "Training until validation scores don't improve for 5 rounds.\n",
            "Early stopping, best iteration is:\n",
            "[22]\ttraining's rmse: 0.235164\tvalid_1's rmse: 0.283599\n",
            "Training until validation scores don't improve for 5 rounds.\n",
            "Early stopping, best iteration is:\n",
            "[40]\ttraining's rmse: 0.162495\tvalid_1's rmse: 0.309168\n",
            "Training until validation scores don't improve for 5 rounds.\n",
            "Early stopping, best iteration is:\n",
            "[43]\ttraining's rmse: 0.140618\tvalid_1's rmse: 0.329088\n",
            "Training until validation scores don't improve for 5 rounds.\n",
            "Early stopping, best iteration is:\n",
            "[69]\ttraining's rmse: 0.0738259\tvalid_1's rmse: 0.293925\n",
            "Training until validation scores don't improve for 5 rounds.\n"
          ]
        },
        {
          "output_type": "stream",
          "name": "stderr",
          "text": [
            "\u001b[32m[I 2022-09-28 18:45:41,149]\u001b[0m Trial 83 finished with value: 0.8694117647058823 and parameters: {'boosting_type': 'gbdt', 'num_leaves': 718, 'learning_rate': 0.00030263806917275025, 'metrics': 'rmse'}. Best is trial 33 with value: 0.8729411764705881.\u001b[0m\n"
          ]
        },
        {
          "output_type": "stream",
          "name": "stdout",
          "text": [
            "Early stopping, best iteration is:\n",
            "[39]\ttraining's rmse: 0.160351\tvalid_1's rmse: 0.3212\n",
            "CV Accuracy: 0.8694117647058823\n",
            "Training until validation scores don't improve for 5 rounds.\n",
            "Early stopping, best iteration is:\n",
            "[22]\ttraining's rmse: 0.235164\tvalid_1's rmse: 0.283599\n",
            "Training until validation scores don't improve for 5 rounds.\n",
            "Early stopping, best iteration is:\n",
            "[40]\ttraining's rmse: 0.162495\tvalid_1's rmse: 0.309168\n",
            "Training until validation scores don't improve for 5 rounds.\n",
            "Early stopping, best iteration is:\n",
            "[43]\ttraining's rmse: 0.140618\tvalid_1's rmse: 0.329088\n",
            "Training until validation scores don't improve for 5 rounds.\n",
            "Early stopping, best iteration is:\n",
            "[69]\ttraining's rmse: 0.0738259\tvalid_1's rmse: 0.293925"
          ]
        },
        {
          "output_type": "stream",
          "name": "stderr",
          "text": [
            "\u001b[32m[I 2022-09-28 18:45:41,694]\u001b[0m Trial 84 finished with value: 0.8694117647058823 and parameters: {'boosting_type': 'gbdt', 'num_leaves': 524, 'learning_rate': 5.900396672889907e-05, 'metrics': 'rmse'}. Best is trial 33 with value: 0.8729411764705881.\u001b[0m\n"
          ]
        },
        {
          "output_type": "stream",
          "name": "stdout",
          "text": [
            "\n",
            "Training until validation scores don't improve for 5 rounds.\n",
            "Early stopping, best iteration is:\n",
            "[39]\ttraining's rmse: 0.160351\tvalid_1's rmse: 0.3212\n",
            "CV Accuracy: 0.8694117647058823\n",
            "Training until validation scores don't improve for 5 rounds.\n",
            "Early stopping, best iteration is:\n",
            "[22]\ttraining's rmse: 0.235164\tvalid_1's rmse: 0.283599\n",
            "Training until validation scores don't improve for 5 rounds.\n",
            "Early stopping, best iteration is:\n",
            "[40]\ttraining's rmse: 0.162495\tvalid_1's rmse: 0.309168\n",
            "Training until validation scores don't improve for 5 rounds.\n",
            "Early stopping, best iteration is:\n",
            "[43]\ttraining's rmse: 0.140618\tvalid_1's rmse: 0.329088\n",
            "Training until validation scores don't improve for 5 rounds.\n",
            "Early stopping, best iteration is:\n",
            "[69]\ttraining's rmse: 0.0738259\tvalid_1's rmse: 0.293925\n",
            "Training until validation scores don't improve for 5 rounds.\n"
          ]
        },
        {
          "output_type": "stream",
          "name": "stderr",
          "text": [
            "\u001b[32m[I 2022-09-28 18:45:42,288]\u001b[0m Trial 85 finished with value: 0.8694117647058823 and parameters: {'boosting_type': 'gbdt', 'num_leaves': 624, 'learning_rate': 1.4711694618016821e-05, 'metrics': 'rmse'}. Best is trial 33 with value: 0.8729411764705881.\u001b[0m\n"
          ]
        },
        {
          "output_type": "stream",
          "name": "stdout",
          "text": [
            "Early stopping, best iteration is:\n",
            "[39]\ttraining's rmse: 0.160351\tvalid_1's rmse: 0.3212\n",
            "CV Accuracy: 0.8694117647058823\n",
            "Training until validation scores don't improve for 5 rounds.\n",
            "Early stopping, best iteration is:\n",
            "[22]\ttraining's rmse: 0.235164\tvalid_1's rmse: 0.283599\n",
            "Training until validation scores don't improve for 5 rounds.\n",
            "Early stopping, best iteration is:\n",
            "[40]\ttraining's rmse: 0.162495\tvalid_1's rmse: 0.309168\n",
            "Training until validation scores don't improve for 5 rounds.\n",
            "Early stopping, best iteration is:\n",
            "[43]\ttraining's rmse: 0.140618\tvalid_1's rmse: 0.329088\n",
            "Training until validation scores don't improve for 5 rounds.\n"
          ]
        },
        {
          "output_type": "stream",
          "name": "stderr",
          "text": [
            "\u001b[32m[I 2022-09-28 18:45:42,863]\u001b[0m Trial 86 finished with value: 0.8694117647058823 and parameters: {'boosting_type': 'gbdt', 'num_leaves': 666, 'learning_rate': 0.0007616595143050226, 'metrics': 'rmse'}. Best is trial 33 with value: 0.8729411764705881.\u001b[0m\n"
          ]
        },
        {
          "output_type": "stream",
          "name": "stdout",
          "text": [
            "Early stopping, best iteration is:\n",
            "[69]\ttraining's rmse: 0.0738259\tvalid_1's rmse: 0.293925\n",
            "Training until validation scores don't improve for 5 rounds.\n",
            "Early stopping, best iteration is:\n",
            "[39]\ttraining's rmse: 0.160351\tvalid_1's rmse: 0.3212\n",
            "CV Accuracy: 0.8694117647058823\n",
            "Training until validation scores don't improve for 5 rounds.\n",
            "Early stopping, best iteration is:\n",
            "[48]\ttraining's binary_logloss: 0.0950491\tvalid_1's binary_logloss: 0.249261\n",
            "Training until validation scores don't improve for 5 rounds.\n",
            "Early stopping, best iteration is:\n",
            "[40]\ttraining's binary_logloss: 0.119626\tvalid_1's binary_logloss: 0.298327\n",
            "Training until validation scores don't improve for 5 rounds.\n",
            "Early stopping, best iteration is:\n",
            "[42]\ttraining's binary_logloss: 0.101339\tvalid_1's binary_logloss: 0.351179\n",
            "Training until validation scores don't improve for 5 rounds.\n",
            "Early stopping, best iteration is:\n",
            "[59]\ttraining's binary_logloss: 0.0633748\tvalid_1's binary_logloss: 0.291879\n",
            "Training until validation scores don't improve for 5 rounds.\n"
          ]
        },
        {
          "output_type": "stream",
          "name": "stderr",
          "text": [
            "\u001b[32m[I 2022-09-28 18:45:43,471]\u001b[0m Trial 87 finished with value: 0.8658823529411764 and parameters: {'boosting_type': 'gbdt', 'num_leaves': 550, 'learning_rate': 2.806571224044278e-07, 'metrics': 'binary_logloss'}. Best is trial 33 with value: 0.8729411764705881.\u001b[0m\n"
          ]
        },
        {
          "output_type": "stream",
          "name": "stdout",
          "text": [
            "Early stopping, best iteration is:\n",
            "[39]\ttraining's binary_logloss: 0.119211\tvalid_1's binary_logloss: 0.318757\n",
            "CV Accuracy: 0.8658823529411764\n",
            "Training until validation scores don't improve for 5 rounds.\n",
            "Early stopping, best iteration is:\n",
            "[10]\ttraining's auc: 0.979365\tvalid_1's auc: 0.963413\n",
            "Training until validation scores don't improve for 5 rounds.\n",
            "Early stopping, best iteration is:\n",
            "[6]\ttraining's auc: 0.973028\tvalid_1's auc: 0.941419\n",
            "Training until validation scores don't improve for 5 rounds.\n",
            "Early stopping, best iteration is:\n",
            "[10]\ttraining's auc: 0.982243\tvalid_1's auc: 0.895429\n"
          ]
        },
        {
          "output_type": "stream",
          "name": "stderr",
          "text": [
            "\u001b[32m[I 2022-09-28 18:45:43,741]\u001b[0m Trial 88 finished with value: 0.8470588235294118 and parameters: {'boosting_type': 'goss', 'num_leaves': 330, 'learning_rate': 3.5173109496734848e-06, 'metrics': 'auc'}. Best is trial 33 with value: 0.8729411764705881.\u001b[0m\n"
          ]
        },
        {
          "output_type": "stream",
          "name": "stdout",
          "text": [
            "Training until validation scores don't improve for 5 rounds.\n",
            "Early stopping, best iteration is:\n",
            "[10]\ttraining's auc: 0.983248\tvalid_1's auc: 0.932361\n",
            "Training until validation scores don't improve for 5 rounds.\n",
            "Early stopping, best iteration is:\n",
            "[10]\ttraining's auc: 0.983113\tvalid_1's auc: 0.917684\n",
            "CV Accuracy: 0.8470588235294118\n",
            "Training until validation scores don't improve for 5 rounds.\n",
            "Early stopping, best iteration is:\n",
            "[22]\ttraining's rmse: 0.235164\tvalid_1's rmse: 0.283599\n",
            "Training until validation scores don't improve for 5 rounds.\n",
            "Early stopping, best iteration is:\n",
            "[40]\ttraining's rmse: 0.162495\tvalid_1's rmse: 0.309168\n",
            "Training until validation scores don't improve for 5 rounds.\n",
            "Early stopping, best iteration is:\n",
            "[43]\ttraining's rmse: 0.140618\tvalid_1's rmse: 0.329088\n",
            "Training until validation scores don't improve for 5 rounds.\n"
          ]
        },
        {
          "output_type": "stream",
          "name": "stderr",
          "text": [
            "\u001b[32m[I 2022-09-28 18:45:44,339]\u001b[0m Trial 89 finished with value: 0.8694117647058823 and parameters: {'boosting_type': 'gbdt', 'num_leaves': 483, 'learning_rate': 0.0003382428871577195, 'metrics': 'rmse'}. Best is trial 33 with value: 0.8729411764705881.\u001b[0m\n"
          ]
        },
        {
          "output_type": "stream",
          "name": "stdout",
          "text": [
            "Early stopping, best iteration is:\n",
            "[69]\ttraining's rmse: 0.0738259\tvalid_1's rmse: 0.293925\n",
            "Training until validation scores don't improve for 5 rounds.\n",
            "Early stopping, best iteration is:\n",
            "[39]\ttraining's rmse: 0.160351\tvalid_1's rmse: 0.3212\n",
            "CV Accuracy: 0.8694117647058823\n",
            "Training until validation scores don't improve for 5 rounds.\n",
            "Early stopping, best iteration is:\n",
            "[22]\ttraining's rmse: 0.235164\tvalid_1's rmse: 0.283599\n",
            "Training until validation scores don't improve for 5 rounds.\n",
            "Early stopping, best iteration is:\n",
            "[40]\ttraining's rmse: 0.162495\tvalid_1's rmse: 0.309168\n",
            "Training until validation scores don't improve for 5 rounds.\n",
            "Early stopping, best iteration is:\n",
            "[43]\ttraining's rmse: 0.140618\tvalid_1's rmse: 0.329088\n",
            "Training until validation scores don't improve for 5 rounds.\n"
          ]
        },
        {
          "output_type": "stream",
          "name": "stderr",
          "text": [
            "\u001b[32m[I 2022-09-28 18:45:44,849]\u001b[0m Trial 90 finished with value: 0.8694117647058823 and parameters: {'boosting_type': 'gbdt', 'num_leaves': 122, 'learning_rate': 2.0628047745075626e-07, 'metrics': 'rmse'}. Best is trial 33 with value: 0.8729411764705881.\u001b[0m\n"
          ]
        },
        {
          "output_type": "stream",
          "name": "stdout",
          "text": [
            "Early stopping, best iteration is:\n",
            "[69]\ttraining's rmse: 0.0738259\tvalid_1's rmse: 0.293925\n",
            "Training until validation scores don't improve for 5 rounds.\n",
            "Early stopping, best iteration is:\n",
            "[39]\ttraining's rmse: 0.160351\tvalid_1's rmse: 0.3212\n",
            "CV Accuracy: 0.8694117647058823\n",
            "Training until validation scores don't improve for 5 rounds.\n",
            "Early stopping, best iteration is:\n",
            "[22]\ttraining's rmse: 0.235164\tvalid_1's rmse: 0.283599\n",
            "Training until validation scores don't improve for 5 rounds.\n",
            "Early stopping, best iteration is:\n",
            "[40]\ttraining's rmse: 0.162495\tvalid_1's rmse: 0.309168\n",
            "Training until validation scores don't improve for 5 rounds.\n",
            "Early stopping, best iteration is:\n",
            "[43]\ttraining's rmse: 0.140618\tvalid_1's rmse: 0.329088\n",
            "Training until validation scores don't improve for 5 rounds.\n"
          ]
        },
        {
          "output_type": "stream",
          "name": "stderr",
          "text": [
            "\u001b[32m[I 2022-09-28 18:45:45,389]\u001b[0m Trial 91 finished with value: 0.8694117647058823 and parameters: {'boosting_type': 'gbdt', 'num_leaves': 51, 'learning_rate': 1.1882887952872854e-07, 'metrics': 'rmse'}. Best is trial 33 with value: 0.8729411764705881.\u001b[0m\n"
          ]
        },
        {
          "output_type": "stream",
          "name": "stdout",
          "text": [
            "Early stopping, best iteration is:\n",
            "[69]\ttraining's rmse: 0.0738259\tvalid_1's rmse: 0.293925\n",
            "Training until validation scores don't improve for 5 rounds.\n",
            "Early stopping, best iteration is:\n",
            "[39]\ttraining's rmse: 0.160351\tvalid_1's rmse: 0.3212\n",
            "CV Accuracy: 0.8694117647058823\n",
            "Training until validation scores don't improve for 5 rounds.\n",
            "Early stopping, best iteration is:\n",
            "[22]\ttraining's rmse: 0.235164\tvalid_1's rmse: 0.283599\n",
            "Training until validation scores don't improve for 5 rounds.\n",
            "Early stopping, best iteration is:\n",
            "[40]\ttraining's rmse: 0.162495\tvalid_1's rmse: 0.309168\n",
            "Training until validation scores don't improve for 5 rounds.\n",
            "Early stopping, best iteration is:\n",
            "[43]\ttraining's rmse: 0.140618\tvalid_1's rmse: 0.329088\n",
            "Training until validation scores don't improve for 5 rounds.\n"
          ]
        },
        {
          "output_type": "stream",
          "name": "stderr",
          "text": [
            "\u001b[32m[I 2022-09-28 18:45:45,905]\u001b[0m Trial 92 finished with value: 0.8694117647058823 and parameters: {'boosting_type': 'gbdt', 'num_leaves': 49, 'learning_rate': 3.45188608799141e-08, 'metrics': 'rmse'}. Best is trial 33 with value: 0.8729411764705881.\u001b[0m\n"
          ]
        },
        {
          "output_type": "stream",
          "name": "stdout",
          "text": [
            "Early stopping, best iteration is:\n",
            "[69]\ttraining's rmse: 0.0738259\tvalid_1's rmse: 0.293925\n",
            "Training until validation scores don't improve for 5 rounds.\n",
            "Early stopping, best iteration is:\n",
            "[39]\ttraining's rmse: 0.160351\tvalid_1's rmse: 0.3212\n",
            "CV Accuracy: 0.8694117647058823\n",
            "Training until validation scores don't improve for 5 rounds.\n",
            "Early stopping, best iteration is:\n",
            "[22]\ttraining's rmse: 0.235164\tvalid_1's rmse: 0.283599\n",
            "Training until validation scores don't improve for 5 rounds.\n",
            "Early stopping, best iteration is:\n",
            "[40]\ttraining's rmse: 0.162495\tvalid_1's rmse: 0.309168\n",
            "Training until validation scores don't improve for 5 rounds.\n",
            "Early stopping, best iteration is:\n",
            "[43]\ttraining's rmse: 0.140618\tvalid_1's rmse: 0.329088\n",
            "Training until validation scores don't improve for 5 rounds.\n",
            "Early stopping, best iteration is:\n",
            "[69]\ttraining's rmse: 0.0738259\tvalid_1's rmse: 0.293925\n",
            "Training until validation scores don't improve for 5 rounds.\n"
          ]
        },
        {
          "output_type": "stream",
          "name": "stderr",
          "text": [
            "\u001b[32m[I 2022-09-28 18:45:46,457]\u001b[0m Trial 93 finished with value: 0.8694117647058823 and parameters: {'boosting_type': 'gbdt', 'num_leaves': 278, 'learning_rate': 5.837055138733777e-06, 'metrics': 'rmse'}. Best is trial 33 with value: 0.8729411764705881.\u001b[0m\n"
          ]
        },
        {
          "output_type": "stream",
          "name": "stdout",
          "text": [
            "Early stopping, best iteration is:\n",
            "[39]\ttraining's rmse: 0.160351\tvalid_1's rmse: 0.3212\n",
            "CV Accuracy: 0.8694117647058823\n",
            "Training until validation scores don't improve for 5 rounds.\n",
            "Early stopping, best iteration is:\n",
            "[22]\ttraining's rmse: 0.235164\tvalid_1's rmse: 0.283599\n",
            "Training until validation scores don't improve for 5 rounds.\n",
            "Early stopping, best iteration is:\n",
            "[40]\ttraining's rmse: 0.162495\tvalid_1's rmse: 0.309168\n",
            "Training until validation scores don't improve for 5 rounds.\n",
            "Early stopping, best iteration is:\n",
            "[43]\ttraining's rmse: 0.140618\tvalid_1's rmse: 0.329088\n",
            "Training until validation scores don't improve for 5 rounds.\n",
            "Early stopping, best iteration is:\n",
            "[69]\ttraining's rmse: 0.0738259\tvalid_1's rmse: 0.293925\n"
          ]
        },
        {
          "output_type": "stream",
          "name": "stderr",
          "text": [
            "\u001b[32m[I 2022-09-28 18:45:46,973]\u001b[0m Trial 94 finished with value: 0.8694117647058823 and parameters: {'boosting_type': 'gbdt', 'num_leaves': 221, 'learning_rate': 4.4402441753192565e-05, 'metrics': 'rmse'}. Best is trial 33 with value: 0.8729411764705881.\u001b[0m\n"
          ]
        },
        {
          "output_type": "stream",
          "name": "stdout",
          "text": [
            "Training until validation scores don't improve for 5 rounds.\n",
            "Early stopping, best iteration is:\n",
            "[39]\ttraining's rmse: 0.160351\tvalid_1's rmse: 0.3212\n",
            "CV Accuracy: 0.8694117647058823\n",
            "Training until validation scores don't improve for 5 rounds.\n",
            "Early stopping, best iteration is:\n",
            "[22]\ttraining's rmse: 0.235164\tvalid_1's rmse: 0.283599\n",
            "Training until validation scores don't improve for 5 rounds.\n",
            "Early stopping, best iteration is:\n",
            "[40]\ttraining's rmse: 0.162495\tvalid_1's rmse: 0.309168\n",
            "Training until validation scores don't improve for 5 rounds.\n",
            "Early stopping, best iteration is:\n",
            "[43]\ttraining's rmse: 0.140618\tvalid_1's rmse: 0.329088\n",
            "Training until validation scores don't improve for 5 rounds.\n"
          ]
        },
        {
          "output_type": "stream",
          "name": "stderr",
          "text": [
            "\u001b[32m[I 2022-09-28 18:45:47,561]\u001b[0m Trial 95 finished with value: 0.8694117647058823 and parameters: {'boosting_type': 'gbdt', 'num_leaves': 588, 'learning_rate': 1.378077032452817e-07, 'metrics': 'rmse'}. Best is trial 33 with value: 0.8729411764705881.\u001b[0m\n"
          ]
        },
        {
          "output_type": "stream",
          "name": "stdout",
          "text": [
            "Early stopping, best iteration is:\n",
            "[69]\ttraining's rmse: 0.0738259\tvalid_1's rmse: 0.293925\n",
            "Training until validation scores don't improve for 5 rounds.\n",
            "Early stopping, best iteration is:\n",
            "[39]\ttraining's rmse: 0.160351\tvalid_1's rmse: 0.3212\n",
            "CV Accuracy: 0.8694117647058823\n",
            "Training until validation scores don't improve for 5 rounds.\n",
            "Early stopping, best iteration is:\n",
            "[22]\ttraining's rmse: 0.235164\tvalid_1's rmse: 0.283599\n",
            "Training until validation scores don't improve for 5 rounds.\n",
            "Early stopping, best iteration is:\n",
            "[40]\ttraining's rmse: 0.162495\tvalid_1's rmse: 0.309168\n",
            "Training until validation scores don't improve for 5 rounds.\n",
            "Early stopping, best iteration is:\n",
            "[43]\ttraining's rmse: 0.140618\tvalid_1's rmse: 0.329088\n",
            "Training until validation scores don't improve for 5 rounds.\n",
            "Early stopping, best iteration is:\n",
            "[69]\ttraining's rmse: 0.0738259\tvalid_1's rmse: 0.293925\n",
            "Training until validation scores don't improve for 5 rounds.\n"
          ]
        },
        {
          "output_type": "stream",
          "name": "stderr",
          "text": [
            "\u001b[32m[I 2022-09-28 18:45:48,113]\u001b[0m Trial 96 finished with value: 0.8694117647058823 and parameters: {'boosting_type': 'gbdt', 'num_leaves': 605, 'learning_rate': 1.7961944958225934e-07, 'metrics': 'rmse'}. Best is trial 33 with value: 0.8729411764705881.\u001b[0m\n"
          ]
        },
        {
          "output_type": "stream",
          "name": "stdout",
          "text": [
            "Early stopping, best iteration is:\n",
            "[39]\ttraining's rmse: 0.160351\tvalid_1's rmse: 0.3212\n",
            "CV Accuracy: 0.8694117647058823\n",
            "Training until validation scores don't improve for 5 rounds.\n",
            "Early stopping, best iteration is:\n",
            "[22]\ttraining's rmse: 0.235164\tvalid_1's rmse: 0.283599\n",
            "Training until validation scores don't improve for 5 rounds.\n",
            "Early stopping, best iteration is:\n",
            "[40]\ttraining's rmse: 0.162495\tvalid_1's rmse: 0.309168\n",
            "Training until validation scores don't improve for 5 rounds.\n",
            "Early stopping, best iteration is:\n",
            "[43]\ttraining's rmse: 0.140618\tvalid_1's rmse: 0.329088\n",
            "Training until validation scores don't improve for 5 rounds.\n"
          ]
        },
        {
          "output_type": "stream",
          "name": "stderr",
          "text": [
            "\u001b[32m[I 2022-09-28 18:45:48,686]\u001b[0m Trial 97 finished with value: 0.8694117647058823 and parameters: {'boosting_type': 'gbdt', 'num_leaves': 651, 'learning_rate': 7.00460984640473e-05, 'metrics': 'rmse'}. Best is trial 33 with value: 0.8729411764705881.\u001b[0m\n"
          ]
        },
        {
          "output_type": "stream",
          "name": "stdout",
          "text": [
            "Early stopping, best iteration is:\n",
            "[69]\ttraining's rmse: 0.0738259\tvalid_1's rmse: 0.293925\n",
            "Training until validation scores don't improve for 5 rounds.\n",
            "Early stopping, best iteration is:\n",
            "[39]\ttraining's rmse: 0.160351\tvalid_1's rmse: 0.3212\n",
            "CV Accuracy: 0.8694117647058823\n",
            "[10000]\ttraining's rmse: 1.64468e-05\tvalid_1's rmse: 0.345962\n",
            "[20000]\ttraining's rmse: 1.33943e-05\tvalid_1's rmse: 0.363681\n",
            "[30000]\ttraining's rmse: 1.32571e-05\tvalid_1's rmse: 0.370297\n",
            "[10000]\ttraining's rmse: 1.62569e-05\tvalid_1's rmse: 0.325069\n",
            "[20000]\ttraining's rmse: 1.33838e-05\tvalid_1's rmse: 0.313566\n",
            "[30000]\ttraining's rmse: 1.30807e-05\tvalid_1's rmse: 0.327292\n",
            "[10000]\ttraining's rmse: 1.58901e-05\tvalid_1's rmse: 0.390777\n",
            "[20000]\ttraining's rmse: 1.34455e-05\tvalid_1's rmse: 0.420894\n",
            "[30000]\ttraining's rmse: 1.29568e-05\tvalid_1's rmse: 0.432442\n",
            "[10000]\ttraining's rmse: 1.60479e-05\tvalid_1's rmse: 0.322211\n",
            "[20000]\ttraining's rmse: 1.32317e-05\tvalid_1's rmse: 0.325571\n",
            "[30000]\ttraining's rmse: 1.28376e-05\tvalid_1's rmse: 0.329546\n",
            "[10000]\ttraining's rmse: 1.6072e-05\tvalid_1's rmse: 0.37463\n",
            "[20000]\ttraining's rmse: 1.29975e-05\tvalid_1's rmse: 0.387513\n",
            "[30000]\ttraining's rmse: 1.26411e-05\tvalid_1's rmse: 0.400217\n"
          ]
        },
        {
          "output_type": "stream",
          "name": "stderr",
          "text": [
            "\u001b[32m[I 2022-09-28 18:53:44,254]\u001b[0m Trial 98 finished with value: 0.8447058823529412 and parameters: {'boosting_type': 'dart', 'num_leaves': 450, 'learning_rate': 0.0001397923553564817, 'metrics': 'rmse'}. Best is trial 33 with value: 0.8729411764705881.\u001b[0m\n"
          ]
        },
        {
          "output_type": "stream",
          "name": "stdout",
          "text": [
            "CV Accuracy: 0.8447058823529412\n",
            "Training until validation scores don't improve for 5 rounds.\n",
            "Early stopping, best iteration is:\n",
            "[48]\ttraining's binary_logloss: 0.0950491\tvalid_1's binary_logloss: 0.249261\n",
            "Training until validation scores don't improve for 5 rounds.\n",
            "Early stopping, best iteration is:\n",
            "[40]\ttraining's binary_logloss: 0.119626\tvalid_1's binary_logloss: 0.298327\n",
            "Training until validation scores don't improve for 5 rounds.\n",
            "Early stopping, best iteration is:\n",
            "[42]\ttraining's binary_logloss: 0.101339\tvalid_1's binary_logloss: 0.351179\n",
            "Training until validation scores don't improve for 5 rounds.\n"
          ]
        },
        {
          "output_type": "stream",
          "name": "stderr",
          "text": [
            "\u001b[32m[I 2022-09-28 18:53:44,789]\u001b[0m Trial 99 finished with value: 0.8658823529411764 and parameters: {'boosting_type': 'gbdt', 'num_leaves': 106, 'learning_rate': 5.414875551688183e-06, 'metrics': 'binary_logloss'}. Best is trial 33 with value: 0.8729411764705881.\u001b[0m\n"
          ]
        },
        {
          "output_type": "stream",
          "name": "stdout",
          "text": [
            "Early stopping, best iteration is:\n",
            "[59]\ttraining's binary_logloss: 0.0633748\tvalid_1's binary_logloss: 0.291879\n",
            "Training until validation scores don't improve for 5 rounds.\n",
            "Early stopping, best iteration is:\n",
            "[39]\ttraining's binary_logloss: 0.119211\tvalid_1's binary_logloss: 0.318757\n",
            "CV Accuracy: 0.8658823529411764\n"
          ]
        }
      ]
    },
    {
      "cell_type": "code",
      "source": [
        "print(study.best_params)\n",
        "print(study.best_value)"
      ],
      "metadata": {
        "colab": {
          "base_uri": "https://localhost:8080/"
        },
        "id": "qNwVfqT4oBkI",
        "outputId": "842b4e00-b101-4cfd-86a7-17cd8f97ef62"
      },
      "execution_count": null,
      "outputs": [
        {
          "output_type": "stream",
          "name": "stdout",
          "text": [
            "{'boosting_type': 'gbdt', 'num_leaves': 12, 'learning_rate': 1.2015569006237162e-05, 'metrics': 'rmse'}\n",
            "0.8729411764705881\n"
          ]
        }
      ]
    },
    {
      "cell_type": "code",
      "source": [
        "# Optunaで探索したベストハイパラでLightGBMを再学習\n",
        "params = {\n",
        "    'objective'       : 'binary',\n",
        "    'boosting_type'   : study.best_params['boosting_type'], # Optunaで探索した値を指定\n",
        "    'num_leaves'      : study.best_params['num_leaves'],    # Optunaで探索した値を指定\n",
        "    'max_depth'       : -1,                                 # default = -1(上限なし)\n",
        "    'learning_rate   ': study.best_params['learning_rate'], # Optunaで探索した値を指定\n",
        "    'feature_fraction': 0.8,                                # default = 1.0\n",
        "    'bagging_freq'    : 1,                                  # default = 0\n",
        "    'random_state'    : 0,                                  # default = None\n",
        "    'metric'          : study.best_params['metrics'],       # Optunaで探索した値を指定\n",
        "    'seed'            : SEED\n",
        "}\n",
        "\n",
        "valid_scores = []\n",
        "valid_acc    = []\n",
        "models       = []\n",
        "result_data  = {}\n",
        "\n",
        "# kFold交差検定で決定係数を算出し、各セットの平均値を返す\n",
        "kf = KFold(n_splits=FOLD, shuffle=True, random_state=42)\n",
        "for fold, (train_indices, valid_indices) in enumerate(kf.split(X)):\n",
        "    X_train, X_valid = X.iloc[train_indices], X.iloc[valid_indices] # 指定したindexで学習・評価データを分ける\n",
        "    y_train, y_valid = y.iloc[train_indices], y.iloc[valid_indices] \n",
        "\n",
        "    train_data = lgb.Dataset(X_train, y_train) \n",
        "    valid_data = lgb.Dataset(X_valid, y_valid)\n",
        "\n",
        "    model = lgb.train(\n",
        "        params = params,\n",
        "        train_set             = train_data,\n",
        "        valid_sets            = [train_data, valid_data],\n",
        "        categorical_feature   = categorical_list, # categorical_featureを設定\n",
        "        num_boost_round       = NUM_ROUND,\n",
        "        early_stopping_rounds = 5,\n",
        "        verbose_eval          = VERBOSE_EVAL,\n",
        "        evals_result          = result_data\n",
        "    )\n",
        "\n",
        "    y_valid_pred = model.predict(X_valid)\n",
        "    acc          = col_acc(y_pred=y_valid_pred, y_test=y_valid.to_numpy().squeeze())\n",
        "    print('fold {} accuracy:{}'.format(fold, acc))\n",
        "    valid_acc.append(acc)\n",
        "    models.append(model)\n",
        "cv_acc   = np.mean(valid_acc)\n",
        "print('CV Accuracy: {}'.format(cv_acc))"
      ],
      "metadata": {
        "colab": {
          "base_uri": "https://localhost:8080/"
        },
        "id": "69clxh50mrgE",
        "outputId": "e6007be6-9e3d-41c3-c199-2b70393de10f"
      },
      "execution_count": null,
      "outputs": [
        {
          "output_type": "stream",
          "name": "stdout",
          "text": [
            "Training until validation scores don't improve for 5 rounds.\n",
            "Early stopping, best iteration is:\n",
            "[31]\ttraining's rmse: 0.222205\tvalid_1's rmse: 0.279168\n",
            "fold 0 accuracy:0.9\n",
            "Training until validation scores don't improve for 5 rounds.\n",
            "Early stopping, best iteration is:\n",
            "[28]\ttraining's rmse: 0.233796\tvalid_1's rmse: 0.30929\n",
            "fold 1 accuracy:0.8588235294117647\n",
            "Training until validation scores don't improve for 5 rounds.\n",
            "Early stopping, best iteration is:\n",
            "[53]\ttraining's rmse: 0.152287\tvalid_1's rmse: 0.327004\n",
            "fold 2 accuracy:0.8705882352941177\n",
            "Training until validation scores don't improve for 5 rounds.\n",
            "Early stopping, best iteration is:\n",
            "[45]\ttraining's rmse: 0.181564\tvalid_1's rmse: 0.30287\n",
            "fold 3 accuracy:0.8823529411764706\n",
            "Training until validation scores don't improve for 5 rounds.\n",
            "Early stopping, best iteration is:\n",
            "[39]\ttraining's rmse: 0.193094\tvalid_1's rmse: 0.321695\n",
            "fold 4 accuracy:0.8529411764705882\n",
            "CV Accuracy: 0.8729411764705881\n"
          ]
        }
      ]
    },
    {
      "cell_type": "code",
      "source": [
        "# 最後のモデルだけ学習過程を表示\n",
        "import matplotlib.pyplot as plt\n",
        "plt.plot(result_data[\"training\"][\"binary_logloss\"], color = \"red\", label = \"train\")\n",
        "plt.plot(result_data[\"valid_1\"][\"binary_logloss\"], color = \"blue\", label = \"valid\")\n",
        "plt.legend()\n",
        "plt.show()"
      ],
      "metadata": {
        "colab": {
          "base_uri": "https://localhost:8080/",
          "height": 268
        },
        "id": "HvChpobrAaP0",
        "outputId": "7c49360b-a751-46b1-b41e-91e98ae7cfaa"
      },
      "execution_count": null,
      "outputs": [
        {
          "output_type": "display_data",
          "data": {
            "text/plain": [
              "<Figure size 432x288 with 1 Axes>"
            ],
            "image/png": "[encoded data removed]"
          },
          "metadata": {}
        }
      ]
    },
    {
      "cell_type": "code",
      "source": [
        "import matplotlib\n",
        "\n",
        "# 特徴量の重要度を表示\n",
        "lgb.plot_importance(model) # 最後のモデルデータのみ表示"
      ],
      "metadata": {
        "colab": {
          "base_uri": "https://localhost:8080/",
          "height": 318
        },
        "outputId": "b9809361-2f62-4c01-a648-d8296c4115c1",
        "id": "gZBO7H62-Oah"
      },
      "execution_count": null,
      "outputs": [
        {
          "output_type": "execute_result",
          "data": {
            "text/plain": [
              "<matplotlib.axes._subplots.AxesSubplot at 0x7fdb96b2c850>"
            ]
          },
          "metadata": {},
          "execution_count": 40
        },
        {
          "output_type": "display_data",
          "data": {
            "text/plain": [
              "<Figure size 432x288 with 1 Axes>"
            ],
            "image/png": "[encoded data removed]"
          },
          "metadata": {}
        }
      ]
    },
    {
      "cell_type": "code",
      "source": [
        "# アンサンブルで予測\n",
        "y_preds = []\n",
        "for model in models:\n",
        "  y_pred = model.predict(X_valid)\n",
        "  y_preds.append(y_pred)\n",
        "\n",
        "prediction = np.mean(y_preds, axis=0)\n",
        "acc = col_acc(y_pred=prediction, y_test=y_valid.to_numpy().squeeze())\n",
        "print('accuracy:{}'.format(acc))"
      ],
      "metadata": {
        "id": "rrL9fKqO-Oah",
        "colab": {
          "base_uri": "https://localhost:8080/"
        },
        "outputId": "4cb3d85f-4ba8-4e8e-ffa9-4cb54b1eca19"
      },
      "execution_count": null,
      "outputs": [
        {
          "output_type": "stream",
          "name": "stdout",
          "text": [
            "accuracy:0.9529411764705882\n"
          ]
        }
      ]
    },
    {
      "cell_type": "markdown",
      "source": [
        "アップロード用データ作成"
      ],
      "metadata": {
        "id": "CJmDbNB4-Oaj"
      }
    },
    {
      "cell_type": "code",
      "source": [
        "# 評価用 test_csvデータ確認\n",
        "testdata_df = pd.read_table('./dataset/test.csv', sep=',')\n",
        "testdata_df.columns = ['Age', 'Gender', 'T_Bil', 'D_Bil', 'ALP', 'ALT_GPT', 'AST_GOT', 'TP', 'Alb', 'AG_ratio']\n",
        "# ラベルエンコーディング（OrdinalEncoder）\n",
        "# oe      = preprocessing.OrdinalEncoder()\n",
        "testdata_encoded = oe.fit_transform(testdata_df[['Gender']].values)\n",
        "\n",
        "# データフレームを作成\n",
        "encodered_testdata_df = pd.DataFrame(testdata_encoded, columns= ['Gender_enc'])\n",
        "# decoded = oe.inverse_transform(encoded)\n",
        "# エンコードしたデータに差し替え\n",
        "testdata_df.insert(loc = 2, column= 'Gender_enc', value= encodered_testdata_df)\n",
        "testdata_df = testdata_df.drop(columns='Gender') # エンコード前のGender列を削除\n",
        "\n",
        "# 相関の低いカラムを削除 (Age, Gender_enc, TP, Alb)\n",
        "# testdata_df = testdata_df.drop(columns='Age') \n",
        "# testdata_df = testdata_df.drop(columns='Gender_enc')\n",
        "\n",
        "\n",
        "# 予測\n",
        "testdata_pred = model.predict(testdata_df)\n",
        "# アンサンブルで予測\n",
        "test_y_preds = []\n",
        "for model in models:\n",
        "  test_y_pred = model.predict(testdata_df)\n",
        "  test_y_preds.append(test_y_pred)\n",
        "\n",
        "test_prediction = np.mean(test_y_preds, axis=0)"
      ],
      "metadata": {
        "id": "TyUj1mc9-Oaj"
      },
      "execution_count": null,
      "outputs": []
    },
    {
      "cell_type": "code",
      "source": [
        "testdata_pred_df = pd.DataFrame(test_prediction)\n",
        "testdata_pred_df.to_csv('./submit.csv', header=False)"
      ],
      "metadata": {
        "id": "Ueqcbv2S-Oaj"
      },
      "execution_count": null,
      "outputs": []
    }
  ]
}